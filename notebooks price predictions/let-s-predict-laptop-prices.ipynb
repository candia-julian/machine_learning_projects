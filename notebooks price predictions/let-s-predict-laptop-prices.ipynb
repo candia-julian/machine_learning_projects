{
 "cells": [
  {
   "cell_type": "code",
   "execution_count": 1,
   "id": "5bb1b78c",
   "metadata": {
    "_cell_guid": "b1076dfc-b9ad-4769-8c92-a6c4dae69d19",
    "_uuid": "8f2839f25d086af736a60e9eeb907d3b93b6e0e5",
    "execution": {
     "iopub.execute_input": "2023-06-29T15:16:17.781454Z",
     "iopub.status.busy": "2023-06-29T15:16:17.781037Z",
     "iopub.status.idle": "2023-06-29T15:16:17.791518Z",
     "shell.execute_reply": "2023-06-29T15:16:17.790395Z"
    },
    "papermill": {
     "duration": 0.030391,
     "end_time": "2023-06-29T15:16:17.793507",
     "exception": false,
     "start_time": "2023-06-29T15:16:17.763116",
     "status": "completed"
    },
    "tags": []
   },
   "outputs": [],
   "source": [
    "\n",
    "import numpy as np # linear algebra\n",
    "import pandas as pd # data processing, CSV file I/O (e.g. pd.read_csv)\n",
    "import re"
   ]
  },
  {
   "cell_type": "code",
   "execution_count": 2,
   "id": "42f71a18",
   "metadata": {
    "execution": {
     "iopub.execute_input": "2023-06-29T15:16:17.825969Z",
     "iopub.status.busy": "2023-06-29T15:16:17.825206Z",
     "iopub.status.idle": "2023-06-29T15:16:17.858054Z",
     "shell.execute_reply": "2023-06-29T15:16:17.857224Z"
    },
    "papermill": {
     "duration": 0.051374,
     "end_time": "2023-06-29T15:16:17.860316",
     "exception": false,
     "start_time": "2023-06-29T15:16:17.808942",
     "status": "completed"
    },
    "tags": []
   },
   "outputs": [],
   "source": [
    "df_nb = pd.read_csv('/kaggle/input/laptop-specification-dataset/laptop_price (1).csv', encoding='latin1') "
   ]
  },
  {
   "cell_type": "markdown",
   "id": "e4032bca",
   "metadata": {
    "papermill": {
     "duration": 0.015959,
     "end_time": "2023-06-29T15:16:17.892726",
     "exception": false,
     "start_time": "2023-06-29T15:16:17.876767",
     "status": "completed"
    },
    "tags": []
   },
   "source": [
    "### Let's dive into the dataset"
   ]
  },
  {
   "cell_type": "code",
   "execution_count": 3,
   "id": "8bb1ee97",
   "metadata": {
    "execution": {
     "iopub.execute_input": "2023-06-29T15:16:17.926263Z",
     "iopub.status.busy": "2023-06-29T15:16:17.925646Z",
     "iopub.status.idle": "2023-06-29T15:16:17.958043Z",
     "shell.execute_reply": "2023-06-29T15:16:17.957174Z"
    },
    "papermill": {
     "duration": 0.050926,
     "end_time": "2023-06-29T15:16:17.959739",
     "exception": false,
     "start_time": "2023-06-29T15:16:17.908813",
     "status": "completed"
    },
    "tags": []
   },
   "outputs": [
    {
     "data": {
      "text/html": [
       "<div>\n",
       "<style scoped>\n",
       "    .dataframe tbody tr th:only-of-type {\n",
       "        vertical-align: middle;\n",
       "    }\n",
       "\n",
       "    .dataframe tbody tr th {\n",
       "        vertical-align: top;\n",
       "    }\n",
       "\n",
       "    .dataframe thead th {\n",
       "        text-align: right;\n",
       "    }\n",
       "</style>\n",
       "<table border=\"1\" class=\"dataframe\">\n",
       "  <thead>\n",
       "    <tr style=\"text-align: right;\">\n",
       "      <th></th>\n",
       "      <th>laptop_ID</th>\n",
       "      <th>Company</th>\n",
       "      <th>Product</th>\n",
       "      <th>TypeName</th>\n",
       "      <th>Inches</th>\n",
       "      <th>ScreenResolution</th>\n",
       "      <th>Cpu</th>\n",
       "      <th>Ram</th>\n",
       "      <th>Memory</th>\n",
       "      <th>Gpu</th>\n",
       "      <th>OpSys</th>\n",
       "      <th>Weight</th>\n",
       "      <th>Price_in_euros</th>\n",
       "    </tr>\n",
       "  </thead>\n",
       "  <tbody>\n",
       "    <tr>\n",
       "      <th>0</th>\n",
       "      <td>1</td>\n",
       "      <td>Apple</td>\n",
       "      <td>MacBook Pro</td>\n",
       "      <td>Ultrabook</td>\n",
       "      <td>13.3</td>\n",
       "      <td>IPS Panel Retina Display 2560x1600</td>\n",
       "      <td>Intel Core i5 2.3GHz</td>\n",
       "      <td>8GB</td>\n",
       "      <td>128GB SSD</td>\n",
       "      <td>Intel Iris Plus Graphics 640</td>\n",
       "      <td>macOS</td>\n",
       "      <td>1.37kg</td>\n",
       "      <td>1339.69</td>\n",
       "    </tr>\n",
       "    <tr>\n",
       "      <th>1</th>\n",
       "      <td>2</td>\n",
       "      <td>Apple</td>\n",
       "      <td>Macbook Air</td>\n",
       "      <td>Ultrabook</td>\n",
       "      <td>13.3</td>\n",
       "      <td>1440x900</td>\n",
       "      <td>Intel Core i5 1.8GHz</td>\n",
       "      <td>8GB</td>\n",
       "      <td>128GB Flash Storage</td>\n",
       "      <td>Intel HD Graphics 6000</td>\n",
       "      <td>macOS</td>\n",
       "      <td>1.34kg</td>\n",
       "      <td>898.94</td>\n",
       "    </tr>\n",
       "    <tr>\n",
       "      <th>2</th>\n",
       "      <td>3</td>\n",
       "      <td>HP</td>\n",
       "      <td>250 G6</td>\n",
       "      <td>Notebook</td>\n",
       "      <td>15.6</td>\n",
       "      <td>Full HD 1920x1080</td>\n",
       "      <td>Intel Core i5 7200U 2.5GHz</td>\n",
       "      <td>8GB</td>\n",
       "      <td>256GB SSD</td>\n",
       "      <td>Intel HD Graphics 620</td>\n",
       "      <td>No OS</td>\n",
       "      <td>1.86kg</td>\n",
       "      <td>575.00</td>\n",
       "    </tr>\n",
       "    <tr>\n",
       "      <th>3</th>\n",
       "      <td>4</td>\n",
       "      <td>Apple</td>\n",
       "      <td>MacBook Pro</td>\n",
       "      <td>Ultrabook</td>\n",
       "      <td>15.4</td>\n",
       "      <td>IPS Panel Retina Display 2880x1800</td>\n",
       "      <td>Intel Core i7 2.7GHz</td>\n",
       "      <td>16GB</td>\n",
       "      <td>512GB SSD</td>\n",
       "      <td>AMD Radeon Pro 455</td>\n",
       "      <td>macOS</td>\n",
       "      <td>1.83kg</td>\n",
       "      <td>2537.45</td>\n",
       "    </tr>\n",
       "    <tr>\n",
       "      <th>4</th>\n",
       "      <td>5</td>\n",
       "      <td>Apple</td>\n",
       "      <td>MacBook Pro</td>\n",
       "      <td>Ultrabook</td>\n",
       "      <td>13.3</td>\n",
       "      <td>IPS Panel Retina Display 2560x1600</td>\n",
       "      <td>Intel Core i5 3.1GHz</td>\n",
       "      <td>8GB</td>\n",
       "      <td>256GB SSD</td>\n",
       "      <td>Intel Iris Plus Graphics 650</td>\n",
       "      <td>macOS</td>\n",
       "      <td>1.37kg</td>\n",
       "      <td>1803.60</td>\n",
       "    </tr>\n",
       "  </tbody>\n",
       "</table>\n",
       "</div>"
      ],
      "text/plain": [
       "   laptop_ID Company      Product   TypeName  Inches  \\\n",
       "0          1   Apple  MacBook Pro  Ultrabook    13.3   \n",
       "1          2   Apple  Macbook Air  Ultrabook    13.3   \n",
       "2          3      HP       250 G6   Notebook    15.6   \n",
       "3          4   Apple  MacBook Pro  Ultrabook    15.4   \n",
       "4          5   Apple  MacBook Pro  Ultrabook    13.3   \n",
       "\n",
       "                     ScreenResolution                         Cpu   Ram  \\\n",
       "0  IPS Panel Retina Display 2560x1600        Intel Core i5 2.3GHz   8GB   \n",
       "1                            1440x900        Intel Core i5 1.8GHz   8GB   \n",
       "2                   Full HD 1920x1080  Intel Core i5 7200U 2.5GHz   8GB   \n",
       "3  IPS Panel Retina Display 2880x1800        Intel Core i7 2.7GHz  16GB   \n",
       "4  IPS Panel Retina Display 2560x1600        Intel Core i5 3.1GHz   8GB   \n",
       "\n",
       "                Memory                           Gpu  OpSys  Weight  \\\n",
       "0            128GB SSD  Intel Iris Plus Graphics 640  macOS  1.37kg   \n",
       "1  128GB Flash Storage        Intel HD Graphics 6000  macOS  1.34kg   \n",
       "2            256GB SSD         Intel HD Graphics 620  No OS  1.86kg   \n",
       "3            512GB SSD            AMD Radeon Pro 455  macOS  1.83kg   \n",
       "4            256GB SSD  Intel Iris Plus Graphics 650  macOS  1.37kg   \n",
       "\n",
       "   Price_in_euros  \n",
       "0         1339.69  \n",
       "1          898.94  \n",
       "2          575.00  \n",
       "3         2537.45  \n",
       "4         1803.60  "
      ]
     },
     "execution_count": 3,
     "metadata": {},
     "output_type": "execute_result"
    }
   ],
   "source": [
    "df_nb.head()"
   ]
  },
  {
   "cell_type": "markdown",
   "id": "ea3d90e5",
   "metadata": {
    "papermill": {
     "duration": 0.015403,
     "end_time": "2023-06-29T15:16:17.990930",
     "exception": false,
     "start_time": "2023-06-29T15:16:17.975527",
     "status": "completed"
    },
    "tags": []
   },
   "source": [
    "We have 1303 registries and 13 dimensions/features about notebooks."
   ]
  },
  {
   "cell_type": "code",
   "execution_count": 4,
   "id": "2686dbd6",
   "metadata": {
    "execution": {
     "iopub.execute_input": "2023-06-29T15:16:18.024683Z",
     "iopub.status.busy": "2023-06-29T15:16:18.024335Z",
     "iopub.status.idle": "2023-06-29T15:16:18.030906Z",
     "shell.execute_reply": "2023-06-29T15:16:18.029146Z"
    },
    "papermill": {
     "duration": 0.026912,
     "end_time": "2023-06-29T15:16:18.033382",
     "exception": false,
     "start_time": "2023-06-29T15:16:18.006470",
     "status": "completed"
    },
    "tags": []
   },
   "outputs": [
    {
     "data": {
      "text/plain": [
       "(1303, 13)"
      ]
     },
     "execution_count": 4,
     "metadata": {},
     "output_type": "execute_result"
    }
   ],
   "source": [
    "df_nb.shape"
   ]
  },
  {
   "cell_type": "code",
   "execution_count": 5,
   "id": "3141fc24",
   "metadata": {
    "execution": {
     "iopub.execute_input": "2023-06-29T15:16:18.065986Z",
     "iopub.status.busy": "2023-06-29T15:16:18.065636Z",
     "iopub.status.idle": "2023-06-29T15:16:18.095986Z",
     "shell.execute_reply": "2023-06-29T15:16:18.094062Z"
    },
    "papermill": {
     "duration": 0.049112,
     "end_time": "2023-06-29T15:16:18.098218",
     "exception": false,
     "start_time": "2023-06-29T15:16:18.049106",
     "status": "completed"
    },
    "tags": []
   },
   "outputs": [
    {
     "name": "stdout",
     "output_type": "stream",
     "text": [
      "<class 'pandas.core.frame.DataFrame'>\n",
      "RangeIndex: 1303 entries, 0 to 1302\n",
      "Data columns (total 13 columns):\n",
      " #   Column            Non-Null Count  Dtype  \n",
      "---  ------            --------------  -----  \n",
      " 0   laptop_ID         1303 non-null   int64  \n",
      " 1   Company           1303 non-null   object \n",
      " 2   Product           1303 non-null   object \n",
      " 3   TypeName          1303 non-null   object \n",
      " 4   Inches            1303 non-null   float64\n",
      " 5   ScreenResolution  1303 non-null   object \n",
      " 6   Cpu               1303 non-null   object \n",
      " 7   Ram               1303 non-null   object \n",
      " 8   Memory            1303 non-null   object \n",
      " 9   Gpu               1303 non-null   object \n",
      " 10  OpSys             1303 non-null   object \n",
      " 11  Weight            1303 non-null   object \n",
      " 12  Price_in_euros    1303 non-null   float64\n",
      "dtypes: float64(2), int64(1), object(10)\n",
      "memory usage: 132.5+ KB\n"
     ]
    }
   ],
   "source": [
    "df_nb.info()"
   ]
  },
  {
   "cell_type": "markdown",
   "id": "b3931373",
   "metadata": {
    "papermill": {
     "duration": 0.016445,
     "end_time": "2023-06-29T15:16:18.130342",
     "exception": false,
     "start_time": "2023-06-29T15:16:18.113897",
     "status": "completed"
    },
    "tags": []
   },
   "source": [
    "If you see we have a lot of 'object' features, in other words are string/text-link features."
   ]
  },
  {
   "cell_type": "markdown",
   "id": "b7d9ebfb",
   "metadata": {
    "papermill": {
     "duration": 0.015458,
     "end_time": "2023-06-29T15:16:18.161648",
     "exception": false,
     "start_time": "2023-06-29T15:16:18.146190",
     "status": "completed"
    },
    "tags": []
   },
   "source": [
    "- **laptop_ID** -> code of notebook\n",
    "\n",
    "- **Company** -> name of the notebook builder\n",
    "\n",
    "- **Product** -> name of product\n",
    "\n",
    "- **TypeName** -> type of notebook\n",
    "\n",
    "- **Inches** -> inches of the panel screen\n",
    "\n",
    "- **ScreenResolution** -> resolution of the screen and techonology e.g. hd, full hd, retina etc.\n",
    "\n",
    "- **Cpu** -> microprocessor and speed \n",
    "\n",
    "- **Ram** -> amount of memory ram\n",
    "\n",
    "- **Memory** -> drives of memory for save files and technology like 240 gb ssd.\n",
    "\n",
    "- **Gpu** -> processor of graphics, integrated or dedicated.\n",
    "\n",
    "- **OpSys** -> operative system running in the computer\n",
    "\n",
    "- **Weight** -> weight of the computer\n",
    "\n",
    "- **Price_in_euros** -> price in euros\n"
   ]
  },
  {
   "cell_type": "markdown",
   "id": "b60af936",
   "metadata": {
    "papermill": {
     "duration": 0.017109,
     "end_time": "2023-06-29T15:16:18.195399",
     "exception": false,
     "start_time": "2023-06-29T15:16:18.178290",
     "status": "completed"
    },
    "tags": []
   },
   "source": [
    "### Let's clean up some of the data to expand our dataset\n",
    "\n",
    "We have **ScreenResoluton**, **Cpu**, **Memory** and **GPU** with a lot of information about the computers in the dataset. For example, let's see the first registry on the dataset:"
   ]
  },
  {
   "cell_type": "code",
   "execution_count": 6,
   "id": "2ae5b426",
   "metadata": {
    "execution": {
     "iopub.execute_input": "2023-06-29T15:16:18.229849Z",
     "iopub.status.busy": "2023-06-29T15:16:18.229498Z",
     "iopub.status.idle": "2023-06-29T15:16:18.244882Z",
     "shell.execute_reply": "2023-06-29T15:16:18.243836Z"
    },
    "papermill": {
     "duration": 0.034371,
     "end_time": "2023-06-29T15:16:18.246843",
     "exception": false,
     "start_time": "2023-06-29T15:16:18.212472",
     "status": "completed"
    },
    "tags": []
   },
   "outputs": [
    {
     "data": {
      "text/html": [
       "<div>\n",
       "<style scoped>\n",
       "    .dataframe tbody tr th:only-of-type {\n",
       "        vertical-align: middle;\n",
       "    }\n",
       "\n",
       "    .dataframe tbody tr th {\n",
       "        vertical-align: top;\n",
       "    }\n",
       "\n",
       "    .dataframe thead th {\n",
       "        text-align: right;\n",
       "    }\n",
       "</style>\n",
       "<table border=\"1\" class=\"dataframe\">\n",
       "  <thead>\n",
       "    <tr style=\"text-align: right;\">\n",
       "      <th></th>\n",
       "      <th>laptop_ID</th>\n",
       "      <th>Company</th>\n",
       "      <th>Product</th>\n",
       "      <th>TypeName</th>\n",
       "      <th>Inches</th>\n",
       "      <th>ScreenResolution</th>\n",
       "      <th>Cpu</th>\n",
       "      <th>Ram</th>\n",
       "      <th>Memory</th>\n",
       "      <th>Gpu</th>\n",
       "      <th>OpSys</th>\n",
       "      <th>Weight</th>\n",
       "      <th>Price_in_euros</th>\n",
       "    </tr>\n",
       "  </thead>\n",
       "  <tbody>\n",
       "    <tr>\n",
       "      <th>0</th>\n",
       "      <td>1</td>\n",
       "      <td>Apple</td>\n",
       "      <td>MacBook Pro</td>\n",
       "      <td>Ultrabook</td>\n",
       "      <td>13.3</td>\n",
       "      <td>IPS Panel Retina Display 2560x1600</td>\n",
       "      <td>Intel Core i5 2.3GHz</td>\n",
       "      <td>8GB</td>\n",
       "      <td>128GB SSD</td>\n",
       "      <td>Intel Iris Plus Graphics 640</td>\n",
       "      <td>macOS</td>\n",
       "      <td>1.37kg</td>\n",
       "      <td>1339.69</td>\n",
       "    </tr>\n",
       "  </tbody>\n",
       "</table>\n",
       "</div>"
      ],
      "text/plain": [
       "   laptop_ID Company      Product   TypeName  Inches  \\\n",
       "0          1   Apple  MacBook Pro  Ultrabook    13.3   \n",
       "\n",
       "                     ScreenResolution                   Cpu  Ram     Memory  \\\n",
       "0  IPS Panel Retina Display 2560x1600  Intel Core i5 2.3GHz  8GB  128GB SSD   \n",
       "\n",
       "                            Gpu  OpSys  Weight  Price_in_euros  \n",
       "0  Intel Iris Plus Graphics 640  macOS  1.37kg         1339.69  "
      ]
     },
     "execution_count": 6,
     "metadata": {},
     "output_type": "execute_result"
    }
   ],
   "source": [
    "df_nb.head(1)"
   ]
  },
  {
   "cell_type": "markdown",
   "id": "1469104e",
   "metadata": {
    "papermill": {
     "duration": 0.015526,
     "end_time": "2023-06-29T15:16:18.278473",
     "exception": false,
     "start_time": "2023-06-29T15:16:18.262947",
     "status": "completed"
    },
    "tags": []
   },
   "source": [
    "In **ScreenResolution** we have information like technology of screen, IPS, propietary technology Retina and the pixel density. Let's work on this feature:"
   ]
  },
  {
   "cell_type": "code",
   "execution_count": 7,
   "id": "dbadd055",
   "metadata": {
    "execution": {
     "iopub.execute_input": "2023-06-29T15:16:18.312032Z",
     "iopub.status.busy": "2023-06-29T15:16:18.311669Z",
     "iopub.status.idle": "2023-06-29T15:16:18.319623Z",
     "shell.execute_reply": "2023-06-29T15:16:18.318126Z"
    },
    "papermill": {
     "duration": 0.028039,
     "end_time": "2023-06-29T15:16:18.322248",
     "exception": false,
     "start_time": "2023-06-29T15:16:18.294209",
     "status": "completed"
    },
    "tags": []
   },
   "outputs": [
    {
     "data": {
      "text/plain": [
       "Full HD 1920x1080                                507\n",
       "1366x768                                         281\n",
       "IPS Panel Full HD 1920x1080                      230\n",
       "IPS Panel Full HD / Touchscreen 1920x1080         53\n",
       "Full HD / Touchscreen 1920x1080                   47\n",
       "1600x900                                          23\n",
       "Touchscreen 1366x768                              16\n",
       "Quad HD+ / Touchscreen 3200x1800                  15\n",
       "IPS Panel 4K Ultra HD 3840x2160                   12\n",
       "IPS Panel 4K Ultra HD / Touchscreen 3840x2160     11\n",
       "4K Ultra HD / Touchscreen 3840x2160               10\n",
       "4K Ultra HD 3840x2160                              7\n",
       "Touchscreen 2560x1440                              7\n",
       "IPS Panel 1366x768                                 7\n",
       "IPS Panel Quad HD+ / Touchscreen 3200x1800         6\n",
       "IPS Panel Retina Display 2560x1600                 6\n",
       "IPS Panel Retina Display 2304x1440                 6\n",
       "Touchscreen 2256x1504                              6\n",
       "IPS Panel Touchscreen 2560x1440                    5\n",
       "IPS Panel Retina Display 2880x1800                 4\n",
       "IPS Panel Touchscreen 1920x1200                    4\n",
       "1440x900                                           4\n",
       "IPS Panel 2560x1440                                4\n",
       "IPS Panel Quad HD+ 2560x1440                       3\n",
       "Quad HD+ 3200x1800                                 3\n",
       "1920x1080                                          3\n",
       "Touchscreen 2400x1600                              3\n",
       "2560x1440                                          3\n",
       "IPS Panel Touchscreen 1366x768                     3\n",
       "IPS Panel Touchscreen / 4K Ultra HD 3840x2160      2\n",
       "IPS Panel Full HD 2160x1440                        2\n",
       "IPS Panel Quad HD+ 3200x1800                       2\n",
       "IPS Panel Retina Display 2736x1824                 1\n",
       "IPS Panel Full HD 1920x1200                        1\n",
       "IPS Panel Full HD 2560x1440                        1\n",
       "IPS Panel Full HD 1366x768                         1\n",
       "Touchscreen / Full HD 1920x1080                    1\n",
       "Touchscreen / Quad HD+ 3200x1800                   1\n",
       "Touchscreen / 4K Ultra HD 3840x2160                1\n",
       "IPS Panel Touchscreen 2400x1600                    1\n",
       "Name: ScreenResolution, dtype: int64"
      ]
     },
     "execution_count": 7,
     "metadata": {},
     "output_type": "execute_result"
    }
   ],
   "source": [
    "df_nb.ScreenResolution.value_counts()"
   ]
  },
  {
   "cell_type": "code",
   "execution_count": 8,
   "id": "7c6dced7",
   "metadata": {
    "execution": {
     "iopub.execute_input": "2023-06-29T15:16:18.360308Z",
     "iopub.status.busy": "2023-06-29T15:16:18.359061Z",
     "iopub.status.idle": "2023-06-29T15:16:18.372733Z",
     "shell.execute_reply": "2023-06-29T15:16:18.371798Z"
    },
    "papermill": {
     "duration": 0.03534,
     "end_time": "2023-06-29T15:16:18.374897",
     "exception": false,
     "start_time": "2023-06-29T15:16:18.339557",
     "status": "completed"
    },
    "tags": []
   },
   "outputs": [
    {
     "data": {
      "text/plain": [
       "False    938\n",
       "True     365\n",
       "Name: ScreenResolution, dtype: int64"
      ]
     },
     "execution_count": 8,
     "metadata": {},
     "output_type": "execute_result"
    }
   ],
   "source": [
    "df_nb.ScreenResolution.str.contains('ips', case=False).value_counts()"
   ]
  },
  {
   "cell_type": "code",
   "execution_count": 9,
   "id": "4b498b76",
   "metadata": {
    "execution": {
     "iopub.execute_input": "2023-06-29T15:16:18.417938Z",
     "iopub.status.busy": "2023-06-29T15:16:18.417501Z",
     "iopub.status.idle": "2023-06-29T15:16:18.424058Z",
     "shell.execute_reply": "2023-06-29T15:16:18.423056Z"
    },
    "papermill": {
     "duration": 0.027045,
     "end_time": "2023-06-29T15:16:18.425860",
     "exception": false,
     "start_time": "2023-06-29T15:16:18.398815",
     "status": "completed"
    },
    "tags": []
   },
   "outputs": [],
   "source": [
    "df_nb['ips'] = df_nb.ScreenResolution.str.contains('ips', case=False)"
   ]
  },
  {
   "cell_type": "code",
   "execution_count": 10,
   "id": "ef7f43e5",
   "metadata": {
    "execution": {
     "iopub.execute_input": "2023-06-29T15:16:18.468362Z",
     "iopub.status.busy": "2023-06-29T15:16:18.467997Z",
     "iopub.status.idle": "2023-06-29T15:16:18.477906Z",
     "shell.execute_reply": "2023-06-29T15:16:18.477029Z"
    },
    "papermill": {
     "duration": 0.033754,
     "end_time": "2023-06-29T15:16:18.479798",
     "exception": false,
     "start_time": "2023-06-29T15:16:18.446044",
     "status": "completed"
    },
    "tags": []
   },
   "outputs": [
    {
     "data": {
      "text/plain": [
       "False    1111\n",
       "True      192\n",
       "Name: ScreenResolution, dtype: int64"
      ]
     },
     "execution_count": 10,
     "metadata": {},
     "output_type": "execute_result"
    }
   ],
   "source": [
    "df_nb.ScreenResolution.str.contains('touch', case=False).value_counts()"
   ]
  },
  {
   "cell_type": "code",
   "execution_count": 11,
   "id": "a42916dc",
   "metadata": {
    "execution": {
     "iopub.execute_input": "2023-06-29T15:16:18.514888Z",
     "iopub.status.busy": "2023-06-29T15:16:18.514478Z",
     "iopub.status.idle": "2023-06-29T15:16:18.521269Z",
     "shell.execute_reply": "2023-06-29T15:16:18.519947Z"
    },
    "papermill": {
     "duration": 0.02676,
     "end_time": "2023-06-29T15:16:18.523945",
     "exception": false,
     "start_time": "2023-06-29T15:16:18.497185",
     "status": "completed"
    },
    "tags": []
   },
   "outputs": [],
   "source": [
    "df_nb['touchscreen'] = df_nb.ScreenResolution.str.contains('touch', case=False)"
   ]
  },
  {
   "cell_type": "code",
   "execution_count": 12,
   "id": "cdd1937e",
   "metadata": {
    "execution": {
     "iopub.execute_input": "2023-06-29T15:16:18.559689Z",
     "iopub.status.busy": "2023-06-29T15:16:18.559334Z",
     "iopub.status.idle": "2023-06-29T15:16:18.571357Z",
     "shell.execute_reply": "2023-06-29T15:16:18.570315Z"
    },
    "papermill": {
     "duration": 0.032548,
     "end_time": "2023-06-29T15:16:18.573127",
     "exception": false,
     "start_time": "2023-06-29T15:16:18.540579",
     "status": "completed"
    },
    "tags": []
   },
   "outputs": [
    {
     "data": {
      "text/plain": [
       "True     846\n",
       "False    457\n",
       "Name: ScreenResolution, dtype: int64"
      ]
     },
     "execution_count": 12,
     "metadata": {},
     "output_type": "execute_result"
    }
   ],
   "source": [
    "((df_nb.ScreenResolution.str.contains('full hd', case=False)) | (df_nb.ScreenResolution.str.contains('1920x1080', case=False))).value_counts()"
   ]
  },
  {
   "cell_type": "code",
   "execution_count": 13,
   "id": "0f703090",
   "metadata": {
    "execution": {
     "iopub.execute_input": "2023-06-29T15:16:18.608519Z",
     "iopub.status.busy": "2023-06-29T15:16:18.607677Z",
     "iopub.status.idle": "2023-06-29T15:16:18.613197Z",
     "shell.execute_reply": "2023-06-29T15:16:18.611955Z"
    },
    "papermill": {
     "duration": 0.024985,
     "end_time": "2023-06-29T15:16:18.615201",
     "exception": false,
     "start_time": "2023-06-29T15:16:18.590216",
     "status": "completed"
    },
    "tags": []
   },
   "outputs": [],
   "source": [
    "def extract_resolution(title):\n",
    "    # Extract resolution in natural language\n",
    "    natural_language_resolution = re.search(r'(HD\\+|Full HD|4K Ultra HD|Ultra HD|Quad HD)', title)\n",
    "    if natural_language_resolution:\n",
    "        return natural_language_resolution.group()\n",
    "\n",
    "    # Extract resolution in numbers\n",
    "    number_resolution = re.search(r'\\d{3,4}x\\d{3,4}', title)\n",
    "    if number_resolution:\n",
    "        return number_resolution.group()\n",
    "\n",
    "    # If no resolution is found\n",
    "    return None"
   ]
  },
  {
   "cell_type": "code",
   "execution_count": 14,
   "id": "54ad819e",
   "metadata": {
    "execution": {
     "iopub.execute_input": "2023-06-29T15:16:18.653126Z",
     "iopub.status.busy": "2023-06-29T15:16:18.652482Z",
     "iopub.status.idle": "2023-06-29T15:16:18.660515Z",
     "shell.execute_reply": "2023-06-29T15:16:18.659509Z"
    },
    "papermill": {
     "duration": 0.030346,
     "end_time": "2023-06-29T15:16:18.662688",
     "exception": false,
     "start_time": "2023-06-29T15:16:18.632342",
     "status": "completed"
    },
    "tags": []
   },
   "outputs": [],
   "source": [
    "df_nb['resolution_parsed'] = df_nb.ScreenResolution.apply(lambda x: extract_resolution(x))"
   ]
  },
  {
   "cell_type": "code",
   "execution_count": 15,
   "id": "45a051e2",
   "metadata": {
    "execution": {
     "iopub.execute_input": "2023-06-29T15:16:18.699556Z",
     "iopub.status.busy": "2023-06-29T15:16:18.698985Z",
     "iopub.status.idle": "2023-06-29T15:16:18.706703Z",
     "shell.execute_reply": "2023-06-29T15:16:18.705932Z"
    },
    "papermill": {
     "duration": 0.028307,
     "end_time": "2023-06-29T15:16:18.709050",
     "exception": false,
     "start_time": "2023-06-29T15:16:18.680743",
     "status": "completed"
    },
    "tags": []
   },
   "outputs": [
    {
     "data": {
      "text/plain": [
       "Full HD        843\n",
       "1366x768       307\n",
       "4K Ultra HD     43\n",
       "Quad HD         30\n",
       "1600x900        23\n",
       "2560x1440       19\n",
       "2560x1600        6\n",
       "2304x1440        6\n",
       "2256x1504        6\n",
       "1440x900         4\n",
       "2880x1800        4\n",
       "1920x1200        4\n",
       "2400x1600        4\n",
       "1920x1080        3\n",
       "2736x1824        1\n",
       "Name: resolution_parsed, dtype: int64"
      ]
     },
     "execution_count": 15,
     "metadata": {},
     "output_type": "execute_result"
    }
   ],
   "source": [
    "df_nb['resolution_parsed'].value_counts()"
   ]
  },
  {
   "cell_type": "code",
   "execution_count": 16,
   "id": "b9437d97",
   "metadata": {
    "execution": {
     "iopub.execute_input": "2023-06-29T15:16:18.746334Z",
     "iopub.status.busy": "2023-06-29T15:16:18.745990Z",
     "iopub.status.idle": "2023-06-29T15:16:18.752365Z",
     "shell.execute_reply": "2023-06-29T15:16:18.751204Z"
    },
    "papermill": {
     "duration": 0.028263,
     "end_time": "2023-06-29T15:16:18.754507",
     "exception": false,
     "start_time": "2023-06-29T15:16:18.726244",
     "status": "completed"
    },
    "tags": []
   },
   "outputs": [],
   "source": [
    "df_nb['resolution_parsed'] = df_nb['resolution_parsed'].str.replace('Full HD','1920x1080')"
   ]
  },
  {
   "cell_type": "code",
   "execution_count": 17,
   "id": "7c422d4c",
   "metadata": {
    "execution": {
     "iopub.execute_input": "2023-06-29T15:16:18.791685Z",
     "iopub.status.busy": "2023-06-29T15:16:18.791160Z",
     "iopub.status.idle": "2023-06-29T15:16:18.797989Z",
     "shell.execute_reply": "2023-06-29T15:16:18.796587Z"
    },
    "papermill": {
     "duration": 0.027311,
     "end_time": "2023-06-29T15:16:18.800256",
     "exception": false,
     "start_time": "2023-06-29T15:16:18.772945",
     "status": "completed"
    },
    "tags": []
   },
   "outputs": [],
   "source": [
    "df_nb['resolution_parsed'] = df_nb['resolution_parsed'].str.replace('4K Ultra HD','3840x2160')"
   ]
  },
  {
   "cell_type": "code",
   "execution_count": 18,
   "id": "8b9002c5",
   "metadata": {
    "execution": {
     "iopub.execute_input": "2023-06-29T15:16:18.836086Z",
     "iopub.status.busy": "2023-06-29T15:16:18.835617Z",
     "iopub.status.idle": "2023-06-29T15:16:18.840889Z",
     "shell.execute_reply": "2023-06-29T15:16:18.840322Z"
    },
    "papermill": {
     "duration": 0.025255,
     "end_time": "2023-06-29T15:16:18.842517",
     "exception": false,
     "start_time": "2023-06-29T15:16:18.817262",
     "status": "completed"
    },
    "tags": []
   },
   "outputs": [],
   "source": [
    "df_nb['resolution_parsed'] = df_nb['resolution_parsed'].str.replace('Quad HD','2560x1440')"
   ]
  },
  {
   "cell_type": "code",
   "execution_count": 19,
   "id": "3a2a8a1b",
   "metadata": {
    "execution": {
     "iopub.execute_input": "2023-06-29T15:16:18.877555Z",
     "iopub.status.busy": "2023-06-29T15:16:18.877026Z",
     "iopub.status.idle": "2023-06-29T15:16:18.884617Z",
     "shell.execute_reply": "2023-06-29T15:16:18.883301Z"
    },
    "papermill": {
     "duration": 0.027248,
     "end_time": "2023-06-29T15:16:18.886458",
     "exception": false,
     "start_time": "2023-06-29T15:16:18.859210",
     "status": "completed"
    },
    "tags": []
   },
   "outputs": [
    {
     "data": {
      "text/plain": [
       "256GB SSD                        412\n",
       "1TB HDD                          223\n",
       "500GB HDD                        132\n",
       "512GB SSD                        118\n",
       "128GB SSD +  1TB HDD              94\n",
       "128GB SSD                         76\n",
       "256GB SSD +  1TB HDD              73\n",
       "32GB Flash Storage                38\n",
       "2TB HDD                           16\n",
       "64GB Flash Storage                15\n",
       "512GB SSD +  1TB HDD              14\n",
       "1TB SSD                           14\n",
       "256GB SSD +  2TB HDD              10\n",
       "1.0TB Hybrid                       9\n",
       "256GB Flash Storage                8\n",
       "16GB Flash Storage                 7\n",
       "32GB SSD                           6\n",
       "180GB SSD                          5\n",
       "128GB Flash Storage                4\n",
       "512GB SSD +  2TB HDD               3\n",
       "16GB SSD                           3\n",
       "512GB Flash Storage                2\n",
       "1TB SSD +  1TB HDD                 2\n",
       "256GB SSD +  500GB HDD             2\n",
       "128GB SSD +  2TB HDD               2\n",
       "256GB SSD +  256GB SSD             2\n",
       "512GB SSD +  256GB SSD             1\n",
       "512GB SSD +  512GB SSD             1\n",
       "64GB Flash Storage +  1TB HDD      1\n",
       "1TB HDD +  1TB HDD                 1\n",
       "32GB HDD                           1\n",
       "64GB SSD                           1\n",
       "128GB HDD                          1\n",
       "240GB SSD                          1\n",
       "8GB SSD                            1\n",
       "508GB Hybrid                       1\n",
       "1.0TB HDD                          1\n",
       "512GB SSD +  1.0TB Hybrid          1\n",
       "256GB SSD +  1.0TB Hybrid          1\n",
       "Name: Memory, dtype: int64"
      ]
     },
     "execution_count": 19,
     "metadata": {},
     "output_type": "execute_result"
    }
   ],
   "source": [
    "df_nb.Memory.value_counts()"
   ]
  },
  {
   "cell_type": "code",
   "execution_count": 20,
   "id": "3904bda8",
   "metadata": {
    "execution": {
     "iopub.execute_input": "2023-06-29T15:16:18.921452Z",
     "iopub.status.busy": "2023-06-29T15:16:18.921123Z",
     "iopub.status.idle": "2023-06-29T15:16:18.926566Z",
     "shell.execute_reply": "2023-06-29T15:16:18.925651Z"
    },
    "papermill": {
     "duration": 0.02496,
     "end_time": "2023-06-29T15:16:18.928203",
     "exception": false,
     "start_time": "2023-06-29T15:16:18.903243",
     "status": "completed"
    },
    "tags": []
   },
   "outputs": [],
   "source": [
    "def extract_storage_info(description):\n",
    "    storage_pattern = r'(\\d+(?:\\.\\d+)?)(GB|TB)\\s+(SSD|HDD|Flash Storage|Hybrid)'\n",
    "    storage_info = re.findall(storage_pattern, description)\n",
    "    \n",
    "    if not storage_info:\n",
    "        return None\n",
    "    \n",
    "    memory = []\n",
    "    technology = []\n",
    "    \n",
    "    for size, unit, tech in storage_info:\n",
    "        size = float(size)\n",
    "        \n",
    "        if unit == 'TB':\n",
    "            size *= 1024\n",
    "        \n",
    "        memory.append(size)\n",
    "        technology.append(tech)\n",
    "    \n",
    "    return memory, technology"
   ]
  },
  {
   "cell_type": "code",
   "execution_count": 21,
   "id": "e25c5b87",
   "metadata": {
    "execution": {
     "iopub.execute_input": "2023-06-29T15:16:18.962534Z",
     "iopub.status.busy": "2023-06-29T15:16:18.961989Z",
     "iopub.status.idle": "2023-06-29T15:16:18.967254Z",
     "shell.execute_reply": "2023-06-29T15:16:18.965954Z"
    },
    "papermill": {
     "duration": 0.025441,
     "end_time": "2023-06-29T15:16:18.970034",
     "exception": false,
     "start_time": "2023-06-29T15:16:18.944593",
     "status": "completed"
    },
    "tags": []
   },
   "outputs": [],
   "source": [
    "df_nb.Memory.fillna(-1,inplace=True)"
   ]
  },
  {
   "cell_type": "code",
   "execution_count": 22,
   "id": "a0e274b3",
   "metadata": {
    "execution": {
     "iopub.execute_input": "2023-06-29T15:16:19.011361Z",
     "iopub.status.busy": "2023-06-29T15:16:19.010720Z",
     "iopub.status.idle": "2023-06-29T15:16:19.029896Z",
     "shell.execute_reply": "2023-06-29T15:16:19.028603Z"
    },
    "papermill": {
     "duration": 0.042489,
     "end_time": "2023-06-29T15:16:19.032497",
     "exception": false,
     "start_time": "2023-06-29T15:16:18.990008",
     "status": "completed"
    },
    "tags": []
   },
   "outputs": [
    {
     "data": {
      "text/html": [
       "<div>\n",
       "<style scoped>\n",
       "    .dataframe tbody tr th:only-of-type {\n",
       "        vertical-align: middle;\n",
       "    }\n",
       "\n",
       "    .dataframe tbody tr th {\n",
       "        vertical-align: top;\n",
       "    }\n",
       "\n",
       "    .dataframe thead th {\n",
       "        text-align: right;\n",
       "    }\n",
       "</style>\n",
       "<table border=\"1\" class=\"dataframe\">\n",
       "  <thead>\n",
       "    <tr style=\"text-align: right;\">\n",
       "      <th></th>\n",
       "      <th>laptop_ID</th>\n",
       "      <th>Company</th>\n",
       "      <th>Product</th>\n",
       "      <th>TypeName</th>\n",
       "      <th>Inches</th>\n",
       "      <th>ScreenResolution</th>\n",
       "      <th>Cpu</th>\n",
       "      <th>Ram</th>\n",
       "      <th>Memory</th>\n",
       "      <th>Gpu</th>\n",
       "      <th>OpSys</th>\n",
       "      <th>Weight</th>\n",
       "      <th>Price_in_euros</th>\n",
       "      <th>ips</th>\n",
       "      <th>touchscreen</th>\n",
       "      <th>resolution_parsed</th>\n",
       "    </tr>\n",
       "  </thead>\n",
       "  <tbody>\n",
       "    <tr>\n",
       "      <th>0</th>\n",
       "      <td>1</td>\n",
       "      <td>Apple</td>\n",
       "      <td>MacBook Pro</td>\n",
       "      <td>Ultrabook</td>\n",
       "      <td>13.3</td>\n",
       "      <td>IPS Panel Retina Display 2560x1600</td>\n",
       "      <td>Intel Core i5 2.3GHz</td>\n",
       "      <td>8GB</td>\n",
       "      <td>128GB SSD</td>\n",
       "      <td>Intel Iris Plus Graphics 640</td>\n",
       "      <td>macOS</td>\n",
       "      <td>1.37kg</td>\n",
       "      <td>1339.69</td>\n",
       "      <td>True</td>\n",
       "      <td>False</td>\n",
       "      <td>2560x1600</td>\n",
       "    </tr>\n",
       "    <tr>\n",
       "      <th>1</th>\n",
       "      <td>2</td>\n",
       "      <td>Apple</td>\n",
       "      <td>Macbook Air</td>\n",
       "      <td>Ultrabook</td>\n",
       "      <td>13.3</td>\n",
       "      <td>1440x900</td>\n",
       "      <td>Intel Core i5 1.8GHz</td>\n",
       "      <td>8GB</td>\n",
       "      <td>128GB Flash Storage</td>\n",
       "      <td>Intel HD Graphics 6000</td>\n",
       "      <td>macOS</td>\n",
       "      <td>1.34kg</td>\n",
       "      <td>898.94</td>\n",
       "      <td>False</td>\n",
       "      <td>False</td>\n",
       "      <td>1440x900</td>\n",
       "    </tr>\n",
       "    <tr>\n",
       "      <th>2</th>\n",
       "      <td>3</td>\n",
       "      <td>HP</td>\n",
       "      <td>250 G6</td>\n",
       "      <td>Notebook</td>\n",
       "      <td>15.6</td>\n",
       "      <td>Full HD 1920x1080</td>\n",
       "      <td>Intel Core i5 7200U 2.5GHz</td>\n",
       "      <td>8GB</td>\n",
       "      <td>256GB SSD</td>\n",
       "      <td>Intel HD Graphics 620</td>\n",
       "      <td>No OS</td>\n",
       "      <td>1.86kg</td>\n",
       "      <td>575.00</td>\n",
       "      <td>False</td>\n",
       "      <td>False</td>\n",
       "      <td>1920x1080</td>\n",
       "    </tr>\n",
       "    <tr>\n",
       "      <th>3</th>\n",
       "      <td>4</td>\n",
       "      <td>Apple</td>\n",
       "      <td>MacBook Pro</td>\n",
       "      <td>Ultrabook</td>\n",
       "      <td>15.4</td>\n",
       "      <td>IPS Panel Retina Display 2880x1800</td>\n",
       "      <td>Intel Core i7 2.7GHz</td>\n",
       "      <td>16GB</td>\n",
       "      <td>512GB SSD</td>\n",
       "      <td>AMD Radeon Pro 455</td>\n",
       "      <td>macOS</td>\n",
       "      <td>1.83kg</td>\n",
       "      <td>2537.45</td>\n",
       "      <td>True</td>\n",
       "      <td>False</td>\n",
       "      <td>2880x1800</td>\n",
       "    </tr>\n",
       "    <tr>\n",
       "      <th>4</th>\n",
       "      <td>5</td>\n",
       "      <td>Apple</td>\n",
       "      <td>MacBook Pro</td>\n",
       "      <td>Ultrabook</td>\n",
       "      <td>13.3</td>\n",
       "      <td>IPS Panel Retina Display 2560x1600</td>\n",
       "      <td>Intel Core i5 3.1GHz</td>\n",
       "      <td>8GB</td>\n",
       "      <td>256GB SSD</td>\n",
       "      <td>Intel Iris Plus Graphics 650</td>\n",
       "      <td>macOS</td>\n",
       "      <td>1.37kg</td>\n",
       "      <td>1803.60</td>\n",
       "      <td>True</td>\n",
       "      <td>False</td>\n",
       "      <td>2560x1600</td>\n",
       "    </tr>\n",
       "  </tbody>\n",
       "</table>\n",
       "</div>"
      ],
      "text/plain": [
       "   laptop_ID Company      Product   TypeName  Inches  \\\n",
       "0          1   Apple  MacBook Pro  Ultrabook    13.3   \n",
       "1          2   Apple  Macbook Air  Ultrabook    13.3   \n",
       "2          3      HP       250 G6   Notebook    15.6   \n",
       "3          4   Apple  MacBook Pro  Ultrabook    15.4   \n",
       "4          5   Apple  MacBook Pro  Ultrabook    13.3   \n",
       "\n",
       "                     ScreenResolution                         Cpu   Ram  \\\n",
       "0  IPS Panel Retina Display 2560x1600        Intel Core i5 2.3GHz   8GB   \n",
       "1                            1440x900        Intel Core i5 1.8GHz   8GB   \n",
       "2                   Full HD 1920x1080  Intel Core i5 7200U 2.5GHz   8GB   \n",
       "3  IPS Panel Retina Display 2880x1800        Intel Core i7 2.7GHz  16GB   \n",
       "4  IPS Panel Retina Display 2560x1600        Intel Core i5 3.1GHz   8GB   \n",
       "\n",
       "                Memory                           Gpu  OpSys  Weight  \\\n",
       "0            128GB SSD  Intel Iris Plus Graphics 640  macOS  1.37kg   \n",
       "1  128GB Flash Storage        Intel HD Graphics 6000  macOS  1.34kg   \n",
       "2            256GB SSD         Intel HD Graphics 620  No OS  1.86kg   \n",
       "3            512GB SSD            AMD Radeon Pro 455  macOS  1.83kg   \n",
       "4            256GB SSD  Intel Iris Plus Graphics 650  macOS  1.37kg   \n",
       "\n",
       "   Price_in_euros    ips  touchscreen resolution_parsed  \n",
       "0         1339.69   True        False         2560x1600  \n",
       "1          898.94  False        False          1440x900  \n",
       "2          575.00  False        False         1920x1080  \n",
       "3         2537.45   True        False         2880x1800  \n",
       "4         1803.60   True        False         2560x1600  "
      ]
     },
     "execution_count": 22,
     "metadata": {},
     "output_type": "execute_result"
    }
   ],
   "source": [
    "df_nb.head()"
   ]
  },
  {
   "cell_type": "code",
   "execution_count": 23,
   "id": "f9509c2c",
   "metadata": {
    "execution": {
     "iopub.execute_input": "2023-06-29T15:16:19.070673Z",
     "iopub.status.busy": "2023-06-29T15:16:19.070310Z",
     "iopub.status.idle": "2023-06-29T15:16:19.078748Z",
     "shell.execute_reply": "2023-06-29T15:16:19.077786Z"
    },
    "papermill": {
     "duration": 0.028754,
     "end_time": "2023-06-29T15:16:19.080751",
     "exception": false,
     "start_time": "2023-06-29T15:16:19.051997",
     "status": "completed"
    },
    "tags": []
   },
   "outputs": [
    {
     "data": {
      "text/plain": [
       "256GB SSD                        412\n",
       "1TB HDD                          223\n",
       "500GB HDD                        132\n",
       "512GB SSD                        118\n",
       "128GB SSD +  1TB HDD              94\n",
       "128GB SSD                         76\n",
       "256GB SSD +  1TB HDD              73\n",
       "32GB Flash Storage                38\n",
       "2TB HDD                           16\n",
       "64GB Flash Storage                15\n",
       "512GB SSD +  1TB HDD              14\n",
       "1TB SSD                           14\n",
       "256GB SSD +  2TB HDD              10\n",
       "1.0TB Hybrid                       9\n",
       "256GB Flash Storage                8\n",
       "16GB Flash Storage                 7\n",
       "32GB SSD                           6\n",
       "180GB SSD                          5\n",
       "128GB Flash Storage                4\n",
       "512GB SSD +  2TB HDD               3\n",
       "16GB SSD                           3\n",
       "512GB Flash Storage                2\n",
       "1TB SSD +  1TB HDD                 2\n",
       "256GB SSD +  500GB HDD             2\n",
       "128GB SSD +  2TB HDD               2\n",
       "256GB SSD +  256GB SSD             2\n",
       "512GB SSD +  256GB SSD             1\n",
       "512GB SSD +  512GB SSD             1\n",
       "64GB Flash Storage +  1TB HDD      1\n",
       "1TB HDD +  1TB HDD                 1\n",
       "32GB HDD                           1\n",
       "64GB SSD                           1\n",
       "128GB HDD                          1\n",
       "240GB SSD                          1\n",
       "8GB SSD                            1\n",
       "508GB Hybrid                       1\n",
       "1.0TB HDD                          1\n",
       "512GB SSD +  1.0TB Hybrid          1\n",
       "256GB SSD +  1.0TB Hybrid          1\n",
       "Name: Memory, dtype: int64"
      ]
     },
     "execution_count": 23,
     "metadata": {},
     "output_type": "execute_result"
    }
   ],
   "source": [
    "df_nb.Memory.value_counts()"
   ]
  },
  {
   "cell_type": "code",
   "execution_count": 24,
   "id": "41425efb",
   "metadata": {
    "execution": {
     "iopub.execute_input": "2023-06-29T15:16:19.116732Z",
     "iopub.status.busy": "2023-06-29T15:16:19.116362Z",
     "iopub.status.idle": "2023-06-29T15:16:19.125327Z",
     "shell.execute_reply": "2023-06-29T15:16:19.124022Z"
    },
    "papermill": {
     "duration": 0.029583,
     "end_time": "2023-06-29T15:16:19.127912",
     "exception": false,
     "start_time": "2023-06-29T15:16:19.098329",
     "status": "completed"
    },
    "tags": []
   },
   "outputs": [
    {
     "data": {
      "text/plain": [
       "laptop_ID                                    154\n",
       "Company                                     Dell\n",
       "Product                            Inspiron 7567\n",
       "TypeName                                  Gaming\n",
       "Inches                                      15.6\n",
       "ScreenResolution               Full HD 1920x1080\n",
       "Cpu                  Intel Core i7 7700HQ 2.8GHz\n",
       "Ram                                          8GB\n",
       "Memory                              1.0TB Hybrid\n",
       "Gpu                      Nvidia GeForce GTX 1050\n",
       "OpSys                                 Windows 10\n",
       "Weight                                    2.62kg\n",
       "Price_in_euros                             899.0\n",
       "ips                                        False\n",
       "touchscreen                                False\n",
       "resolution_parsed                      1920x1080\n",
       "Name: 151, dtype: object"
      ]
     },
     "execution_count": 24,
     "metadata": {},
     "output_type": "execute_result"
    }
   ],
   "source": [
    "df_nb.iloc[151]"
   ]
  },
  {
   "cell_type": "code",
   "execution_count": 25,
   "id": "b10e04cf",
   "metadata": {
    "execution": {
     "iopub.execute_input": "2023-06-29T15:16:19.165492Z",
     "iopub.status.busy": "2023-06-29T15:16:19.165143Z",
     "iopub.status.idle": "2023-06-29T15:16:19.174381Z",
     "shell.execute_reply": "2023-06-29T15:16:19.173287Z"
    },
    "papermill": {
     "duration": 0.031108,
     "end_time": "2023-06-29T15:16:19.177225",
     "exception": false,
     "start_time": "2023-06-29T15:16:19.146117",
     "status": "completed"
    },
    "tags": []
   },
   "outputs": [],
   "source": [
    "df_nb_memory = df_nb.Memory.apply(lambda x: extract_storage_info(x)[0])"
   ]
  },
  {
   "cell_type": "code",
   "execution_count": 26,
   "id": "5fb36798",
   "metadata": {
    "execution": {
     "iopub.execute_input": "2023-06-29T15:16:19.214621Z",
     "iopub.status.busy": "2023-06-29T15:16:19.214309Z",
     "iopub.status.idle": "2023-06-29T15:16:19.238806Z",
     "shell.execute_reply": "2023-06-29T15:16:19.237599Z"
    },
    "papermill": {
     "duration": 0.045362,
     "end_time": "2023-06-29T15:16:19.240969",
     "exception": false,
     "start_time": "2023-06-29T15:16:19.195607",
     "status": "completed"
    },
    "tags": []
   },
   "outputs": [
    {
     "data": {
      "text/html": [
       "<div>\n",
       "<style scoped>\n",
       "    .dataframe tbody tr th:only-of-type {\n",
       "        vertical-align: middle;\n",
       "    }\n",
       "\n",
       "    .dataframe tbody tr th {\n",
       "        vertical-align: top;\n",
       "    }\n",
       "\n",
       "    .dataframe thead th {\n",
       "        text-align: right;\n",
       "    }\n",
       "</style>\n",
       "<table border=\"1\" class=\"dataframe\">\n",
       "  <thead>\n",
       "    <tr style=\"text-align: right;\">\n",
       "      <th></th>\n",
       "      <th>laptop_ID</th>\n",
       "      <th>Company</th>\n",
       "      <th>Product</th>\n",
       "      <th>TypeName</th>\n",
       "      <th>Inches</th>\n",
       "      <th>ScreenResolution</th>\n",
       "      <th>Cpu</th>\n",
       "      <th>Ram</th>\n",
       "      <th>Memory</th>\n",
       "      <th>Gpu</th>\n",
       "      <th>OpSys</th>\n",
       "      <th>Weight</th>\n",
       "      <th>Price_in_euros</th>\n",
       "      <th>ips</th>\n",
       "      <th>touchscreen</th>\n",
       "      <th>resolution_parsed</th>\n",
       "    </tr>\n",
       "  </thead>\n",
       "  <tbody>\n",
       "    <tr>\n",
       "      <th>0</th>\n",
       "      <td>1</td>\n",
       "      <td>Apple</td>\n",
       "      <td>MacBook Pro</td>\n",
       "      <td>Ultrabook</td>\n",
       "      <td>13.3</td>\n",
       "      <td>IPS Panel Retina Display 2560x1600</td>\n",
       "      <td>Intel Core i5 2.3GHz</td>\n",
       "      <td>8GB</td>\n",
       "      <td>128GB SSD</td>\n",
       "      <td>Intel Iris Plus Graphics 640</td>\n",
       "      <td>macOS</td>\n",
       "      <td>1.37kg</td>\n",
       "      <td>1339.69</td>\n",
       "      <td>True</td>\n",
       "      <td>False</td>\n",
       "      <td>2560x1600</td>\n",
       "    </tr>\n",
       "    <tr>\n",
       "      <th>1</th>\n",
       "      <td>2</td>\n",
       "      <td>Apple</td>\n",
       "      <td>Macbook Air</td>\n",
       "      <td>Ultrabook</td>\n",
       "      <td>13.3</td>\n",
       "      <td>1440x900</td>\n",
       "      <td>Intel Core i5 1.8GHz</td>\n",
       "      <td>8GB</td>\n",
       "      <td>128GB Flash Storage</td>\n",
       "      <td>Intel HD Graphics 6000</td>\n",
       "      <td>macOS</td>\n",
       "      <td>1.34kg</td>\n",
       "      <td>898.94</td>\n",
       "      <td>False</td>\n",
       "      <td>False</td>\n",
       "      <td>1440x900</td>\n",
       "    </tr>\n",
       "    <tr>\n",
       "      <th>2</th>\n",
       "      <td>3</td>\n",
       "      <td>HP</td>\n",
       "      <td>250 G6</td>\n",
       "      <td>Notebook</td>\n",
       "      <td>15.6</td>\n",
       "      <td>Full HD 1920x1080</td>\n",
       "      <td>Intel Core i5 7200U 2.5GHz</td>\n",
       "      <td>8GB</td>\n",
       "      <td>256GB SSD</td>\n",
       "      <td>Intel HD Graphics 620</td>\n",
       "      <td>No OS</td>\n",
       "      <td>1.86kg</td>\n",
       "      <td>575.00</td>\n",
       "      <td>False</td>\n",
       "      <td>False</td>\n",
       "      <td>1920x1080</td>\n",
       "    </tr>\n",
       "    <tr>\n",
       "      <th>3</th>\n",
       "      <td>4</td>\n",
       "      <td>Apple</td>\n",
       "      <td>MacBook Pro</td>\n",
       "      <td>Ultrabook</td>\n",
       "      <td>15.4</td>\n",
       "      <td>IPS Panel Retina Display 2880x1800</td>\n",
       "      <td>Intel Core i7 2.7GHz</td>\n",
       "      <td>16GB</td>\n",
       "      <td>512GB SSD</td>\n",
       "      <td>AMD Radeon Pro 455</td>\n",
       "      <td>macOS</td>\n",
       "      <td>1.83kg</td>\n",
       "      <td>2537.45</td>\n",
       "      <td>True</td>\n",
       "      <td>False</td>\n",
       "      <td>2880x1800</td>\n",
       "    </tr>\n",
       "    <tr>\n",
       "      <th>4</th>\n",
       "      <td>5</td>\n",
       "      <td>Apple</td>\n",
       "      <td>MacBook Pro</td>\n",
       "      <td>Ultrabook</td>\n",
       "      <td>13.3</td>\n",
       "      <td>IPS Panel Retina Display 2560x1600</td>\n",
       "      <td>Intel Core i5 3.1GHz</td>\n",
       "      <td>8GB</td>\n",
       "      <td>256GB SSD</td>\n",
       "      <td>Intel Iris Plus Graphics 650</td>\n",
       "      <td>macOS</td>\n",
       "      <td>1.37kg</td>\n",
       "      <td>1803.60</td>\n",
       "      <td>True</td>\n",
       "      <td>False</td>\n",
       "      <td>2560x1600</td>\n",
       "    </tr>\n",
       "    <tr>\n",
       "      <th>...</th>\n",
       "      <td>...</td>\n",
       "      <td>...</td>\n",
       "      <td>...</td>\n",
       "      <td>...</td>\n",
       "      <td>...</td>\n",
       "      <td>...</td>\n",
       "      <td>...</td>\n",
       "      <td>...</td>\n",
       "      <td>...</td>\n",
       "      <td>...</td>\n",
       "      <td>...</td>\n",
       "      <td>...</td>\n",
       "      <td>...</td>\n",
       "      <td>...</td>\n",
       "      <td>...</td>\n",
       "      <td>...</td>\n",
       "    </tr>\n",
       "    <tr>\n",
       "      <th>1298</th>\n",
       "      <td>1316</td>\n",
       "      <td>Lenovo</td>\n",
       "      <td>Yoga 500-14ISK</td>\n",
       "      <td>2 in 1 Convertible</td>\n",
       "      <td>14.0</td>\n",
       "      <td>IPS Panel Full HD / Touchscreen 1920x1080</td>\n",
       "      <td>Intel Core i7 6500U 2.5GHz</td>\n",
       "      <td>4GB</td>\n",
       "      <td>128GB SSD</td>\n",
       "      <td>Intel HD Graphics 520</td>\n",
       "      <td>Windows 10</td>\n",
       "      <td>1.8kg</td>\n",
       "      <td>638.00</td>\n",
       "      <td>True</td>\n",
       "      <td>True</td>\n",
       "      <td>1920x1080</td>\n",
       "    </tr>\n",
       "    <tr>\n",
       "      <th>1299</th>\n",
       "      <td>1317</td>\n",
       "      <td>Lenovo</td>\n",
       "      <td>Yoga 900-13ISK</td>\n",
       "      <td>2 in 1 Convertible</td>\n",
       "      <td>13.3</td>\n",
       "      <td>IPS Panel Quad HD+ / Touchscreen 3200x1800</td>\n",
       "      <td>Intel Core i7 6500U 2.5GHz</td>\n",
       "      <td>16GB</td>\n",
       "      <td>512GB SSD</td>\n",
       "      <td>Intel HD Graphics 520</td>\n",
       "      <td>Windows 10</td>\n",
       "      <td>1.3kg</td>\n",
       "      <td>1499.00</td>\n",
       "      <td>True</td>\n",
       "      <td>True</td>\n",
       "      <td>2560x1440</td>\n",
       "    </tr>\n",
       "    <tr>\n",
       "      <th>1300</th>\n",
       "      <td>1318</td>\n",
       "      <td>Lenovo</td>\n",
       "      <td>IdeaPad 100S-14IBR</td>\n",
       "      <td>Notebook</td>\n",
       "      <td>14.0</td>\n",
       "      <td>1366x768</td>\n",
       "      <td>Intel Celeron Dual Core N3050 1.6GHz</td>\n",
       "      <td>2GB</td>\n",
       "      <td>64GB Flash Storage</td>\n",
       "      <td>Intel HD Graphics</td>\n",
       "      <td>Windows 10</td>\n",
       "      <td>1.5kg</td>\n",
       "      <td>229.00</td>\n",
       "      <td>False</td>\n",
       "      <td>False</td>\n",
       "      <td>1366x768</td>\n",
       "    </tr>\n",
       "    <tr>\n",
       "      <th>1301</th>\n",
       "      <td>1319</td>\n",
       "      <td>HP</td>\n",
       "      <td>15-AC110nv (i7-6500U/6GB/1TB/Radeon</td>\n",
       "      <td>Notebook</td>\n",
       "      <td>15.6</td>\n",
       "      <td>1366x768</td>\n",
       "      <td>Intel Core i7 6500U 2.5GHz</td>\n",
       "      <td>6GB</td>\n",
       "      <td>1TB HDD</td>\n",
       "      <td>AMD Radeon R5 M330</td>\n",
       "      <td>Windows 10</td>\n",
       "      <td>2.19kg</td>\n",
       "      <td>764.00</td>\n",
       "      <td>False</td>\n",
       "      <td>False</td>\n",
       "      <td>1366x768</td>\n",
       "    </tr>\n",
       "    <tr>\n",
       "      <th>1302</th>\n",
       "      <td>1320</td>\n",
       "      <td>Asus</td>\n",
       "      <td>X553SA-XX031T (N3050/4GB/500GB/W10)</td>\n",
       "      <td>Notebook</td>\n",
       "      <td>15.6</td>\n",
       "      <td>1366x768</td>\n",
       "      <td>Intel Celeron Dual Core N3050 1.6GHz</td>\n",
       "      <td>4GB</td>\n",
       "      <td>500GB HDD</td>\n",
       "      <td>Intel HD Graphics</td>\n",
       "      <td>Windows 10</td>\n",
       "      <td>2.2kg</td>\n",
       "      <td>369.00</td>\n",
       "      <td>False</td>\n",
       "      <td>False</td>\n",
       "      <td>1366x768</td>\n",
       "    </tr>\n",
       "  </tbody>\n",
       "</table>\n",
       "<p>1303 rows × 16 columns</p>\n",
       "</div>"
      ],
      "text/plain": [
       "      laptop_ID Company                              Product  \\\n",
       "0             1   Apple                          MacBook Pro   \n",
       "1             2   Apple                          Macbook Air   \n",
       "2             3      HP                               250 G6   \n",
       "3             4   Apple                          MacBook Pro   \n",
       "4             5   Apple                          MacBook Pro   \n",
       "...         ...     ...                                  ...   \n",
       "1298       1316  Lenovo                       Yoga 500-14ISK   \n",
       "1299       1317  Lenovo                       Yoga 900-13ISK   \n",
       "1300       1318  Lenovo                   IdeaPad 100S-14IBR   \n",
       "1301       1319      HP  15-AC110nv (i7-6500U/6GB/1TB/Radeon   \n",
       "1302       1320    Asus  X553SA-XX031T (N3050/4GB/500GB/W10)   \n",
       "\n",
       "                TypeName  Inches                            ScreenResolution  \\\n",
       "0              Ultrabook    13.3          IPS Panel Retina Display 2560x1600   \n",
       "1              Ultrabook    13.3                                    1440x900   \n",
       "2               Notebook    15.6                           Full HD 1920x1080   \n",
       "3              Ultrabook    15.4          IPS Panel Retina Display 2880x1800   \n",
       "4              Ultrabook    13.3          IPS Panel Retina Display 2560x1600   \n",
       "...                  ...     ...                                         ...   \n",
       "1298  2 in 1 Convertible    14.0   IPS Panel Full HD / Touchscreen 1920x1080   \n",
       "1299  2 in 1 Convertible    13.3  IPS Panel Quad HD+ / Touchscreen 3200x1800   \n",
       "1300            Notebook    14.0                                    1366x768   \n",
       "1301            Notebook    15.6                                    1366x768   \n",
       "1302            Notebook    15.6                                    1366x768   \n",
       "\n",
       "                                       Cpu   Ram               Memory  \\\n",
       "0                     Intel Core i5 2.3GHz   8GB            128GB SSD   \n",
       "1                     Intel Core i5 1.8GHz   8GB  128GB Flash Storage   \n",
       "2               Intel Core i5 7200U 2.5GHz   8GB            256GB SSD   \n",
       "3                     Intel Core i7 2.7GHz  16GB            512GB SSD   \n",
       "4                     Intel Core i5 3.1GHz   8GB            256GB SSD   \n",
       "...                                    ...   ...                  ...   \n",
       "1298            Intel Core i7 6500U 2.5GHz   4GB            128GB SSD   \n",
       "1299            Intel Core i7 6500U 2.5GHz  16GB            512GB SSD   \n",
       "1300  Intel Celeron Dual Core N3050 1.6GHz   2GB   64GB Flash Storage   \n",
       "1301            Intel Core i7 6500U 2.5GHz   6GB              1TB HDD   \n",
       "1302  Intel Celeron Dual Core N3050 1.6GHz   4GB            500GB HDD   \n",
       "\n",
       "                               Gpu       OpSys  Weight  Price_in_euros    ips  \\\n",
       "0     Intel Iris Plus Graphics 640       macOS  1.37kg         1339.69   True   \n",
       "1           Intel HD Graphics 6000       macOS  1.34kg          898.94  False   \n",
       "2            Intel HD Graphics 620       No OS  1.86kg          575.00  False   \n",
       "3               AMD Radeon Pro 455       macOS  1.83kg         2537.45   True   \n",
       "4     Intel Iris Plus Graphics 650       macOS  1.37kg         1803.60   True   \n",
       "...                            ...         ...     ...             ...    ...   \n",
       "1298         Intel HD Graphics 520  Windows 10   1.8kg          638.00   True   \n",
       "1299         Intel HD Graphics 520  Windows 10   1.3kg         1499.00   True   \n",
       "1300             Intel HD Graphics  Windows 10   1.5kg          229.00  False   \n",
       "1301            AMD Radeon R5 M330  Windows 10  2.19kg          764.00  False   \n",
       "1302             Intel HD Graphics  Windows 10   2.2kg          369.00  False   \n",
       "\n",
       "      touchscreen resolution_parsed  \n",
       "0           False         2560x1600  \n",
       "1           False          1440x900  \n",
       "2           False         1920x1080  \n",
       "3           False         2880x1800  \n",
       "4           False         2560x1600  \n",
       "...           ...               ...  \n",
       "1298         True         1920x1080  \n",
       "1299         True         2560x1440  \n",
       "1300        False          1366x768  \n",
       "1301        False          1366x768  \n",
       "1302        False          1366x768  \n",
       "\n",
       "[1303 rows x 16 columns]"
      ]
     },
     "execution_count": 26,
     "metadata": {},
     "output_type": "execute_result"
    }
   ],
   "source": [
    "df_nb"
   ]
  },
  {
   "cell_type": "code",
   "execution_count": 27,
   "id": "aba47a01",
   "metadata": {
    "execution": {
     "iopub.execute_input": "2023-06-29T15:16:19.277041Z",
     "iopub.status.busy": "2023-06-29T15:16:19.276690Z",
     "iopub.status.idle": "2023-06-29T15:16:19.283093Z",
     "shell.execute_reply": "2023-06-29T15:16:19.281949Z"
    },
    "papermill": {
     "duration": 0.026313,
     "end_time": "2023-06-29T15:16:19.284965",
     "exception": false,
     "start_time": "2023-06-29T15:16:19.258652",
     "status": "completed"
    },
    "tags": []
   },
   "outputs": [],
   "source": [
    "df_nb['first_storage'] = df_nb_memory.apply(lambda x: x[0])"
   ]
  },
  {
   "cell_type": "code",
   "execution_count": 28,
   "id": "f3a923e4",
   "metadata": {
    "execution": {
     "iopub.execute_input": "2023-06-29T15:16:19.324059Z",
     "iopub.status.busy": "2023-06-29T15:16:19.323692Z",
     "iopub.status.idle": "2023-06-29T15:16:19.330546Z",
     "shell.execute_reply": "2023-06-29T15:16:19.329571Z"
    },
    "papermill": {
     "duration": 0.028428,
     "end_time": "2023-06-29T15:16:19.333017",
     "exception": false,
     "start_time": "2023-06-29T15:16:19.304589",
     "status": "completed"
    },
    "tags": []
   },
   "outputs": [],
   "source": [
    "df_nb['second_storage'] = df_nb_memory.apply(lambda x: x[1] if len(x) > 1 else -1)"
   ]
  },
  {
   "cell_type": "code",
   "execution_count": 29,
   "id": "23c137bd",
   "metadata": {
    "execution": {
     "iopub.execute_input": "2023-06-29T15:16:19.371670Z",
     "iopub.status.busy": "2023-06-29T15:16:19.371318Z",
     "iopub.status.idle": "2023-06-29T15:16:19.375912Z",
     "shell.execute_reply": "2023-06-29T15:16:19.375312Z"
    },
    "papermill": {
     "duration": 0.026113,
     "end_time": "2023-06-29T15:16:19.378053",
     "exception": false,
     "start_time": "2023-06-29T15:16:19.351940",
     "status": "completed"
    },
    "tags": []
   },
   "outputs": [
    {
     "data": {
      "text/plain": [
       "([128.0, 1024.0], ['SSD', 'HDD'])"
      ]
     },
     "execution_count": 29,
     "metadata": {},
     "output_type": "execute_result"
    }
   ],
   "source": [
    "extract_storage_info('128GB SSD +  1TB HDD ')"
   ]
  },
  {
   "cell_type": "code",
   "execution_count": 30,
   "id": "e76585a7",
   "metadata": {
    "execution": {
     "iopub.execute_input": "2023-06-29T15:16:19.416855Z",
     "iopub.status.busy": "2023-06-29T15:16:19.416271Z",
     "iopub.status.idle": "2023-06-29T15:16:19.423506Z",
     "shell.execute_reply": "2023-06-29T15:16:19.422863Z"
    },
    "papermill": {
     "duration": 0.028228,
     "end_time": "2023-06-29T15:16:19.425396",
     "exception": false,
     "start_time": "2023-06-29T15:16:19.397168",
     "status": "completed"
    },
    "tags": []
   },
   "outputs": [],
   "source": [
    "df_nb_memory_type = df_nb.Memory.apply(lambda x: extract_storage_info(x)[1])"
   ]
  },
  {
   "cell_type": "code",
   "execution_count": 31,
   "id": "4b090d6d",
   "metadata": {
    "execution": {
     "iopub.execute_input": "2023-06-29T15:16:19.463278Z",
     "iopub.status.busy": "2023-06-29T15:16:19.462891Z",
     "iopub.status.idle": "2023-06-29T15:16:19.468663Z",
     "shell.execute_reply": "2023-06-29T15:16:19.468074Z"
    },
    "papermill": {
     "duration": 0.026843,
     "end_time": "2023-06-29T15:16:19.470240",
     "exception": false,
     "start_time": "2023-06-29T15:16:19.443397",
     "status": "completed"
    },
    "tags": []
   },
   "outputs": [],
   "source": [
    "df_nb['first_type'] = df_nb_memory_type.apply(lambda x: x[0])"
   ]
  },
  {
   "cell_type": "code",
   "execution_count": 32,
   "id": "5b8fc0a5",
   "metadata": {
    "execution": {
     "iopub.execute_input": "2023-06-29T15:16:19.508940Z",
     "iopub.status.busy": "2023-06-29T15:16:19.508314Z",
     "iopub.status.idle": "2023-06-29T15:16:19.514363Z",
     "shell.execute_reply": "2023-06-29T15:16:19.513323Z"
    },
    "papermill": {
     "duration": 0.028013,
     "end_time": "2023-06-29T15:16:19.516559",
     "exception": false,
     "start_time": "2023-06-29T15:16:19.488546",
     "status": "completed"
    },
    "tags": []
   },
   "outputs": [],
   "source": [
    "df_nb['second_storage_type'] = df_nb_memory_type.apply(lambda x: x[1] if len(x) > 1 else -1)"
   ]
  },
  {
   "cell_type": "code",
   "execution_count": 33,
   "id": "d7718251",
   "metadata": {
    "execution": {
     "iopub.execute_input": "2023-06-29T15:16:19.554631Z",
     "iopub.status.busy": "2023-06-29T15:16:19.554051Z",
     "iopub.status.idle": "2023-06-29T15:16:19.561202Z",
     "shell.execute_reply": "2023-06-29T15:16:19.560298Z"
    },
    "papermill": {
     "duration": 0.028279,
     "end_time": "2023-06-29T15:16:19.563322",
     "exception": false,
     "start_time": "2023-06-29T15:16:19.535043",
     "status": "completed"
    },
    "tags": []
   },
   "outputs": [
    {
     "data": {
      "text/plain": [
       "2.26kg    1\n",
       "2.79kg    1\n",
       "3.42kg    1\n",
       "2.54kg    1\n",
       "1.79kg    1\n",
       "0.91kg    1\n",
       "4.33kg    1\n",
       "4.4kg     1\n",
       "1.94kg    1\n",
       "2.72kg    1\n",
       "4.5kg     1\n",
       "1.41kg    1\n",
       "1.14kg    1\n",
       "3.8kg     1\n",
       "3.6kg     1\n",
       "3.25kg    1\n",
       "4.7kg     1\n",
       "1.55kg    1\n",
       "1.18kg    1\n",
       "4.0kg     1\n",
       "Name: Weight, dtype: int64"
      ]
     },
     "execution_count": 33,
     "metadata": {},
     "output_type": "execute_result"
    }
   ],
   "source": [
    "df_nb.Weight.value_counts().tail(20)"
   ]
  },
  {
   "cell_type": "code",
   "execution_count": 34,
   "id": "48e97af5",
   "metadata": {
    "execution": {
     "iopub.execute_input": "2023-06-29T15:16:19.603117Z",
     "iopub.status.busy": "2023-06-29T15:16:19.602466Z",
     "iopub.status.idle": "2023-06-29T15:16:19.608289Z",
     "shell.execute_reply": "2023-06-29T15:16:19.607657Z"
    },
    "papermill": {
     "duration": 0.027746,
     "end_time": "2023-06-29T15:16:19.610333",
     "exception": false,
     "start_time": "2023-06-29T15:16:19.582587",
     "status": "completed"
    },
    "tags": []
   },
   "outputs": [],
   "source": [
    "df_nb.Weight = df_nb.Weight.str.replace('kg', '').astype(float)"
   ]
  },
  {
   "cell_type": "code",
   "execution_count": 35,
   "id": "5d58e5d9",
   "metadata": {
    "execution": {
     "iopub.execute_input": "2023-06-29T15:16:19.648880Z",
     "iopub.status.busy": "2023-06-29T15:16:19.648283Z",
     "iopub.status.idle": "2023-06-29T15:16:19.654414Z",
     "shell.execute_reply": "2023-06-29T15:16:19.653458Z"
    },
    "papermill": {
     "duration": 0.02784,
     "end_time": "2023-06-29T15:16:19.656595",
     "exception": false,
     "start_time": "2023-06-29T15:16:19.628755",
     "status": "completed"
    },
    "tags": []
   },
   "outputs": [],
   "source": [
    "df_nb.Ram = df_nb.Ram.str.replace('gb', '', case=False)"
   ]
  },
  {
   "cell_type": "code",
   "execution_count": 36,
   "id": "b974f252",
   "metadata": {
    "execution": {
     "iopub.execute_input": "2023-06-29T15:16:19.694886Z",
     "iopub.status.busy": "2023-06-29T15:16:19.694516Z",
     "iopub.status.idle": "2023-06-29T15:16:19.702896Z",
     "shell.execute_reply": "2023-06-29T15:16:19.701978Z"
    },
    "papermill": {
     "duration": 0.02969,
     "end_time": "2023-06-29T15:16:19.704713",
     "exception": false,
     "start_time": "2023-06-29T15:16:19.675023",
     "status": "completed"
    },
    "tags": []
   },
   "outputs": [
    {
     "data": {
      "text/plain": [
       "Intel Core i5 7200U 2.5GHz              190\n",
       "Intel Core i7 7700HQ 2.8GHz             146\n",
       "Intel Core i7 7500U 2.7GHz              134\n",
       "Intel Core i7 8550U 1.8GHz               73\n",
       "Intel Core i5 8250U 1.6GHz               72\n",
       "Intel Core i5 6200U 2.3GHz               68\n",
       "Intel Core i3 6006U 2GHz                 64\n",
       "Intel Core i7 6500U 2.5GHz               49\n",
       "Intel Core i7 6700HQ 2.6GHz              43\n",
       "Intel Core i3 7100U 2.4GHz               37\n",
       "Intel Core i5 7300HQ 2.5GHz              33\n",
       "Intel Celeron Dual Core N3350 1.1GHz     30\n",
       "Intel Celeron Dual Core N3060 1.6GHz     28\n",
       "Intel Core i7 6600U 2.6GHz               18\n",
       "Intel Core i3 6006U 2.0GHz               16\n",
       "Intel Pentium Quad Core N4200 1.1GHz     14\n",
       "Intel Core i5 7300U 2.6GHz               14\n",
       "Intel Core i7 7600U 2.8GHz               13\n",
       "Intel Pentium Quad Core N3710 1.6GHz     11\n",
       "AMD A9-Series 9420 3GHz                  11\n",
       "Intel Core i5 6300U 2.4GHz               11\n",
       "Intel Celeron Dual Core N3050 1.6GHz     11\n",
       "Intel Core i7 6820HK 2.7GHz              10\n",
       "Intel Core i3 6100U 2.3GHz                9\n",
       "Intel Core i3 7130U 2.7GHz                8\n",
       "Name: Cpu, dtype: int64"
      ]
     },
     "execution_count": 36,
     "metadata": {},
     "output_type": "execute_result"
    }
   ],
   "source": [
    "df_nb.Cpu.value_counts().head(25)"
   ]
  },
  {
   "cell_type": "code",
   "execution_count": 37,
   "id": "0156667c",
   "metadata": {
    "execution": {
     "iopub.execute_input": "2023-06-29T15:16:19.743131Z",
     "iopub.status.busy": "2023-06-29T15:16:19.742498Z",
     "iopub.status.idle": "2023-06-29T15:16:19.749975Z",
     "shell.execute_reply": "2023-06-29T15:16:19.749097Z"
    },
    "papermill": {
     "duration": 0.0287,
     "end_time": "2023-06-29T15:16:19.751665",
     "exception": false,
     "start_time": "2023-06-29T15:16:19.722965",
     "status": "completed"
    },
    "tags": []
   },
   "outputs": [
    {
     "data": {
      "text/plain": [
       "Intel Xeon E3-1535M v5 2.9GHz           1\n",
       "AMD E-Series 6110 1.5GHz                1\n",
       "AMD E-Series E2-6110 1.5GHz             1\n",
       "AMD Ryzen 1600 3.2GHz                   1\n",
       "Intel Atom x5-Z8300 1.44GHz             1\n",
       "Intel Core i5 2.0GHz                    1\n",
       "Intel Core i7 7700HQ 2.7GHz             1\n",
       "Intel Core M m3-7Y30 2.2GHz             1\n",
       "Intel Core i5 1.3GHz                    1\n",
       "Intel Core i7 2.9GHz                    1\n",
       "AMD FX 9830P 3GHz                       1\n",
       "Intel Celeron Dual Core N3350 2.0GHz    1\n",
       "Intel Core M m3 1.2GHz                  1\n",
       "Intel Core i5 6440HQ 2.6GHz             1\n",
       "Intel Core M 7Y30 1.0GHz                1\n",
       "Intel Core i5 7500U 2.7GHz              1\n",
       "Intel Core i7 2.8GHz                    1\n",
       "Intel Core i3 6100U 2.1GHz              1\n",
       "AMD E-Series E2-9000 2.2GHz             1\n",
       "Intel Core i7 2.2GHz                    1\n",
       "Intel Core M M3-6Y30 0.9GHz             1\n",
       "AMD A9-Series 9420 2.9GHz               1\n",
       "Intel Core i3 6006U 2.2GHz              1\n",
       "AMD A6-Series 7310 2GHz                 1\n",
       "Intel Xeon E3-1535M v6 3.1GHz           1\n",
       "Name: Cpu, dtype: int64"
      ]
     },
     "execution_count": 37,
     "metadata": {},
     "output_type": "execute_result"
    }
   ],
   "source": [
    "df_nb.Cpu.value_counts().tail(25)"
   ]
  },
  {
   "cell_type": "markdown",
   "id": "36d61507",
   "metadata": {
    "papermill": {
     "duration": 0.017998,
     "end_time": "2023-06-29T15:16:19.788241",
     "exception": false,
     "start_time": "2023-06-29T15:16:19.770243",
     "status": "completed"
    },
    "tags": []
   },
   "source": [
    "### CPU and Brands\n",
    "\n",
    "Let's explore brands and cpus"
   ]
  },
  {
   "cell_type": "code",
   "execution_count": 38,
   "id": "c91e4a4c",
   "metadata": {
    "execution": {
     "iopub.execute_input": "2023-06-29T15:16:19.826593Z",
     "iopub.status.busy": "2023-06-29T15:16:19.826238Z",
     "iopub.status.idle": "2023-06-29T15:16:19.837713Z",
     "shell.execute_reply": "2023-06-29T15:16:19.836148Z"
    },
    "papermill": {
     "duration": 0.033992,
     "end_time": "2023-06-29T15:16:19.840454",
     "exception": false,
     "start_time": "2023-06-29T15:16:19.806462",
     "status": "completed"
    },
    "tags": []
   },
   "outputs": [
    {
     "data": {
      "text/plain": [
       "1191    Samsung Cortex A72&A53 2.0GHz\n",
       "Name: Cpu, dtype: object"
      ]
     },
     "execution_count": 38,
     "metadata": {},
     "output_type": "execute_result"
    }
   ],
   "source": [
    "df_nb.Cpu[~((df_nb.Cpu.str.contains('intel', case=False)) | (df_nb.Cpu.str.contains('amd', case=False)))]"
   ]
  },
  {
   "cell_type": "markdown",
   "id": "c8411bc0",
   "metadata": {
    "papermill": {
     "duration": 0.017733,
     "end_time": "2023-06-29T15:16:19.876630",
     "exception": false,
     "start_time": "2023-06-29T15:16:19.858897",
     "status": "completed"
    },
    "tags": []
   },
   "source": [
    "We have just one example of a computer with Samsung cpu, for that i decide to drop that value."
   ]
  },
  {
   "cell_type": "code",
   "execution_count": 39,
   "id": "05766a32",
   "metadata": {
    "execution": {
     "iopub.execute_input": "2023-06-29T15:16:19.914981Z",
     "iopub.status.busy": "2023-06-29T15:16:19.913670Z",
     "iopub.status.idle": "2023-06-29T15:16:19.923205Z",
     "shell.execute_reply": "2023-06-29T15:16:19.921932Z"
    },
    "papermill": {
     "duration": 0.03125,
     "end_time": "2023-06-29T15:16:19.925457",
     "exception": false,
     "start_time": "2023-06-29T15:16:19.894207",
     "status": "completed"
    },
    "tags": []
   },
   "outputs": [],
   "source": [
    "df_nb.drop(1191, axis=0, inplace=True)"
   ]
  },
  {
   "cell_type": "markdown",
   "id": "d08f2610",
   "metadata": {
    "papermill": {
     "duration": 0.017672,
     "end_time": "2023-06-29T15:16:19.961154",
     "exception": false,
     "start_time": "2023-06-29T15:16:19.943482",
     "status": "completed"
    },
    "tags": []
   },
   "source": [
    "For brands in Compay column, we mantain just registries with most than 20 examples an the others just droped out of the dataframe"
   ]
  },
  {
   "cell_type": "code",
   "execution_count": 40,
   "id": "7c4c2889",
   "metadata": {
    "execution": {
     "iopub.execute_input": "2023-06-29T15:16:20.000376Z",
     "iopub.status.busy": "2023-06-29T15:16:19.999955Z",
     "iopub.status.idle": "2023-06-29T15:16:20.008807Z",
     "shell.execute_reply": "2023-06-29T15:16:20.007519Z"
    },
    "papermill": {
     "duration": 0.031192,
     "end_time": "2023-06-29T15:16:20.010568",
     "exception": false,
     "start_time": "2023-06-29T15:16:19.979376",
     "status": "completed"
    },
    "tags": []
   },
   "outputs": [
    {
     "data": {
      "text/plain": [
       "Dell         297\n",
       "Lenovo       297\n",
       "HP           274\n",
       "Asus         158\n",
       "Acer         103\n",
       "MSI           54\n",
       "Toshiba       48\n",
       "Apple         21\n",
       "Samsung        8\n",
       "Razer          7\n",
       "Mediacom       7\n",
       "Microsoft      6\n",
       "Xiaomi         4\n",
       "Vero           4\n",
       "Chuwi          3\n",
       "Google         3\n",
       "Fujitsu        3\n",
       "LG             3\n",
       "Huawei         2\n",
       "Name: Company, dtype: int64"
      ]
     },
     "execution_count": 40,
     "metadata": {},
     "output_type": "execute_result"
    }
   ],
   "source": [
    "df_nb.Company.value_counts()"
   ]
  },
  {
   "cell_type": "code",
   "execution_count": 41,
   "id": "7512ab62",
   "metadata": {
    "execution": {
     "iopub.execute_input": "2023-06-29T15:16:20.049622Z",
     "iopub.status.busy": "2023-06-29T15:16:20.049141Z",
     "iopub.status.idle": "2023-06-29T15:16:20.054252Z",
     "shell.execute_reply": "2023-06-29T15:16:20.053344Z"
    },
    "papermill": {
     "duration": 0.027201,
     "end_time": "2023-06-29T15:16:20.056417",
     "exception": false,
     "start_time": "2023-06-29T15:16:20.029216",
     "status": "completed"
    },
    "tags": []
   },
   "outputs": [],
   "source": [
    "most_common_brands = df_nb.Company.value_counts().head(8).index.to_list()"
   ]
  },
  {
   "cell_type": "code",
   "execution_count": 42,
   "id": "dbd6503d",
   "metadata": {
    "execution": {
     "iopub.execute_input": "2023-06-29T15:16:20.095270Z",
     "iopub.status.busy": "2023-06-29T15:16:20.094744Z",
     "iopub.status.idle": "2023-06-29T15:16:20.102714Z",
     "shell.execute_reply": "2023-06-29T15:16:20.101572Z"
    },
    "papermill": {
     "duration": 0.030131,
     "end_time": "2023-06-29T15:16:20.105126",
     "exception": false,
     "start_time": "2023-06-29T15:16:20.074995",
     "status": "completed"
    },
    "tags": []
   },
   "outputs": [],
   "source": [
    "df_nb = df_nb[df_nb.Company.str.contains('|'.join(most_common_brands))]"
   ]
  },
  {
   "cell_type": "markdown",
   "id": "e16028aa",
   "metadata": {
    "papermill": {
     "duration": 0.018644,
     "end_time": "2023-06-29T15:16:20.143238",
     "exception": false,
     "start_time": "2023-06-29T15:16:20.124594",
     "status": "completed"
    },
    "tags": []
   },
   "source": [
    "### GPU"
   ]
  },
  {
   "cell_type": "markdown",
   "id": "82153a6f",
   "metadata": {
    "papermill": {
     "duration": 0.018494,
     "end_time": "2023-06-29T15:16:20.180702",
     "exception": false,
     "start_time": "2023-06-29T15:16:20.162208",
     "status": "completed"
    },
    "tags": []
   },
   "source": [
    "Let's explore the gpu feature and the most common values."
   ]
  },
  {
   "cell_type": "code",
   "execution_count": 43,
   "id": "9f2bfd96",
   "metadata": {
    "execution": {
     "iopub.execute_input": "2023-06-29T15:16:20.220147Z",
     "iopub.status.busy": "2023-06-29T15:16:20.219714Z",
     "iopub.status.idle": "2023-06-29T15:16:20.228962Z",
     "shell.execute_reply": "2023-06-29T15:16:20.227633Z"
    },
    "papermill": {
     "duration": 0.032547,
     "end_time": "2023-06-29T15:16:20.231295",
     "exception": false,
     "start_time": "2023-06-29T15:16:20.198748",
     "status": "completed"
    },
    "tags": []
   },
   "outputs": [
    {
     "data": {
      "text/plain": [
       "Intel HD Graphics 620         267\n",
       "Intel HD Graphics 520         183\n",
       "Intel UHD Graphics 620         68\n",
       "Nvidia GeForce GTX 1050        65\n",
       "Nvidia GeForce GTX 1060        45\n",
       "Nvidia GeForce 940MX           41\n",
       "AMD Radeon 530                 41\n",
       "Intel HD Graphics 500          33\n",
       "Intel HD Graphics 400          33\n",
       "Nvidia GeForce GTX 1070        30\n",
       "Nvidia GeForce GTX 1050 Ti     28\n",
       "Intel HD Graphics              24\n",
       "AMD Radeon R5 M430             22\n",
       "Nvidia GeForce 930MX           20\n",
       "AMD Radeon 520                 17\n",
       "Intel HD Graphics 515          15\n",
       "Nvidia GeForce GTX 960M        14\n",
       "AMD Radeon R7 M445             14\n",
       "Nvidia GeForce 920MX           13\n",
       "Nvidia GeForce MX150           12\n",
       "Name: Gpu, dtype: int64"
      ]
     },
     "execution_count": 43,
     "metadata": {},
     "output_type": "execute_result"
    }
   ],
   "source": [
    "df_nb.Gpu.value_counts().head(20)"
   ]
  },
  {
   "cell_type": "code",
   "execution_count": 44,
   "id": "24028394",
   "metadata": {
    "execution": {
     "iopub.execute_input": "2023-06-29T15:16:20.270801Z",
     "iopub.status.busy": "2023-06-29T15:16:20.270448Z",
     "iopub.status.idle": "2023-06-29T15:16:20.278128Z",
     "shell.execute_reply": "2023-06-29T15:16:20.277203Z"
    },
    "papermill": {
     "duration": 0.03003,
     "end_time": "2023-06-29T15:16:20.279760",
     "exception": false,
     "start_time": "2023-06-29T15:16:20.249730",
     "status": "completed"
    },
    "tags": []
   },
   "outputs": [
    {
     "data": {
      "text/plain": [
       "AMD Radeon Pro 455           1\n",
       "Intel Iris Pro Graphics      1\n",
       "AMD Radeon Pro 555           1\n",
       "AMD Radeon Pro 560           1\n",
       "AMD R4 Graphics              1\n",
       "AMD Radeon RX 560            1\n",
       "Nvidia GTX 980 SLI           1\n",
       "AMD R17M-M1-70               1\n",
       "Intel Iris Graphics 550      1\n",
       "Nvidia GeForce GTX 940M      1\n",
       "AMD FirePro W5130M           1\n",
       "Intel HD Graphics 530        1\n",
       "Nvidia GeForce GTX1080       1\n",
       "Nvidia GeForce GTX1050 Ti    1\n",
       "Nvidia Quadro M620M          1\n",
       "Intel Graphics 620           1\n",
       "AMD Radeon R5 520            1\n",
       "AMD Radeon R7                1\n",
       "Intel HD Graphics 540        1\n",
       "Nvidia GeForce 960M          1\n",
       "Name: Gpu, dtype: int64"
      ]
     },
     "execution_count": 44,
     "metadata": {},
     "output_type": "execute_result"
    }
   ],
   "source": [
    "df_nb.Gpu.value_counts().tail(20)"
   ]
  },
  {
   "cell_type": "markdown",
   "id": "19eac845",
   "metadata": {
    "papermill": {
     "duration": 0.019154,
     "end_time": "2023-06-29T15:16:20.317292",
     "exception": false,
     "start_time": "2023-06-29T15:16:20.298138",
     "status": "completed"
    },
    "tags": []
   },
   "source": [
    "Filter most common brands of GPU -> Intel, AMD and Nvidia"
   ]
  },
  {
   "cell_type": "code",
   "execution_count": 45,
   "id": "ed3e46b6",
   "metadata": {
    "execution": {
     "iopub.execute_input": "2023-06-29T15:16:20.357259Z",
     "iopub.status.busy": "2023-06-29T15:16:20.356695Z",
     "iopub.status.idle": "2023-06-29T15:16:20.371049Z",
     "shell.execute_reply": "2023-06-29T15:16:20.369666Z"
    },
    "papermill": {
     "duration": 0.036567,
     "end_time": "2023-06-29T15:16:20.373463",
     "exception": false,
     "start_time": "2023-06-29T15:16:20.336896",
     "status": "completed"
    },
    "tags": []
   },
   "outputs": [
    {
     "data": {
      "text/plain": [
       "Series([], Name: Gpu, dtype: object)"
      ]
     },
     "execution_count": 45,
     "metadata": {},
     "output_type": "execute_result"
    }
   ],
   "source": [
    "df_nb.Gpu[~((df_nb.Gpu.str.contains('intel', case=False)) | (df_nb.Gpu.str.contains('amd', case=False)) | (df_nb.Gpu.str.contains('nvidia', case=False)))]"
   ]
  },
  {
   "cell_type": "markdown",
   "id": "80398650",
   "metadata": {
    "papermill": {
     "duration": 0.020458,
     "end_time": "2023-06-29T15:16:20.412971",
     "exception": false,
     "start_time": "2023-06-29T15:16:20.392513",
     "status": "completed"
    },
    "tags": []
   },
   "source": [
    "We check that we no have any gpu of other brand than I, AMD or Nvidia. Can create a new column condensing that information."
   ]
  },
  {
   "cell_type": "code",
   "execution_count": 46,
   "id": "4a8e7656",
   "metadata": {
    "execution": {
     "iopub.execute_input": "2023-06-29T15:16:20.452293Z",
     "iopub.status.busy": "2023-06-29T15:16:20.451929Z",
     "iopub.status.idle": "2023-06-29T15:16:20.456952Z",
     "shell.execute_reply": "2023-06-29T15:16:20.455888Z"
    },
    "papermill": {
     "duration": 0.027398,
     "end_time": "2023-06-29T15:16:20.459214",
     "exception": false,
     "start_time": "2023-06-29T15:16:20.431816",
     "status": "completed"
    },
    "tags": []
   },
   "outputs": [],
   "source": [
    "def cpu_gpu_brand(string):\n",
    "    if 'intel' in string.lower():\n",
    "        return 'intel'\n",
    "    elif 'amd' in string.lower():\n",
    "        return 'amd'\n",
    "    else:\n",
    "        return 'nvidia'"
   ]
  },
  {
   "cell_type": "code",
   "execution_count": 47,
   "id": "7322cecc",
   "metadata": {
    "execution": {
     "iopub.execute_input": "2023-06-29T15:16:20.498342Z",
     "iopub.status.busy": "2023-06-29T15:16:20.498009Z",
     "iopub.status.idle": "2023-06-29T15:16:20.505638Z",
     "shell.execute_reply": "2023-06-29T15:16:20.504296Z"
    },
    "papermill": {
     "duration": 0.029214,
     "end_time": "2023-06-29T15:16:20.507470",
     "exception": false,
     "start_time": "2023-06-29T15:16:20.478256",
     "status": "completed"
    },
    "tags": []
   },
   "outputs": [
    {
     "name": "stderr",
     "output_type": "stream",
     "text": [
      "/tmp/ipykernel_20/1433070796.py:1: SettingWithCopyWarning: \n",
      "A value is trying to be set on a copy of a slice from a DataFrame.\n",
      "Try using .loc[row_indexer,col_indexer] = value instead\n",
      "\n",
      "See the caveats in the documentation: https://pandas.pydata.org/pandas-docs/stable/user_guide/indexing.html#returning-a-view-versus-a-copy\n",
      "  df_nb['gpu_brand'] = df_nb.Gpu.apply(lambda x: cpu_gpu_brand(x))\n"
     ]
    }
   ],
   "source": [
    "df_nb['gpu_brand'] = df_nb.Gpu.apply(lambda x: cpu_gpu_brand(x))"
   ]
  },
  {
   "cell_type": "code",
   "execution_count": 48,
   "id": "74962d0c",
   "metadata": {
    "execution": {
     "iopub.execute_input": "2023-06-29T15:16:20.548200Z",
     "iopub.status.busy": "2023-06-29T15:16:20.547849Z",
     "iopub.status.idle": "2023-06-29T15:16:20.554965Z",
     "shell.execute_reply": "2023-06-29T15:16:20.553707Z"
    },
    "papermill": {
     "duration": 0.029255,
     "end_time": "2023-06-29T15:16:20.556714",
     "exception": false,
     "start_time": "2023-06-29T15:16:20.527459",
     "status": "completed"
    },
    "tags": []
   },
   "outputs": [
    {
     "name": "stderr",
     "output_type": "stream",
     "text": [
      "/tmp/ipykernel_20/708360143.py:1: SettingWithCopyWarning: \n",
      "A value is trying to be set on a copy of a slice from a DataFrame.\n",
      "Try using .loc[row_indexer,col_indexer] = value instead\n",
      "\n",
      "See the caveats in the documentation: https://pandas.pydata.org/pandas-docs/stable/user_guide/indexing.html#returning-a-view-versus-a-copy\n",
      "  df_nb['cpu_brand'] = df_nb.Cpu.apply(lambda x: cpu_gpu_brand(x))\n"
     ]
    }
   ],
   "source": [
    "df_nb['cpu_brand'] = df_nb.Cpu.apply(lambda x: cpu_gpu_brand(x))"
   ]
  },
  {
   "cell_type": "code",
   "execution_count": 49,
   "id": "809c6a49",
   "metadata": {
    "execution": {
     "iopub.execute_input": "2023-06-29T15:16:20.596056Z",
     "iopub.status.busy": "2023-06-29T15:16:20.595699Z",
     "iopub.status.idle": "2023-06-29T15:16:20.603690Z",
     "shell.execute_reply": "2023-06-29T15:16:20.602820Z"
    },
    "papermill": {
     "duration": 0.029338,
     "end_time": "2023-06-29T15:16:20.605573",
     "exception": false,
     "start_time": "2023-06-29T15:16:20.576235",
     "status": "completed"
    },
    "tags": []
   },
   "outputs": [],
   "source": [
    "df_nb_clean = df_nb.drop(['laptop_ID', 'Company', 'Product','ScreenResolution', 'Cpu', 'Memory', 'Gpu'], axis=1).reset_index().drop('index', axis=1)"
   ]
  },
  {
   "cell_type": "code",
   "execution_count": 50,
   "id": "389c6d40",
   "metadata": {
    "execution": {
     "iopub.execute_input": "2023-06-29T15:16:20.646604Z",
     "iopub.status.busy": "2023-06-29T15:16:20.646238Z",
     "iopub.status.idle": "2023-06-29T15:16:20.652359Z",
     "shell.execute_reply": "2023-06-29T15:16:20.650864Z"
    },
    "papermill": {
     "duration": 0.028758,
     "end_time": "2023-06-29T15:16:20.654839",
     "exception": false,
     "start_time": "2023-06-29T15:16:20.626081",
     "status": "completed"
    },
    "tags": []
   },
   "outputs": [],
   "source": [
    "df_nb_clean.second_storage_type = df_nb_clean.second_storage_type.astype('str')"
   ]
  },
  {
   "cell_type": "code",
   "execution_count": 51,
   "id": "6b347d47",
   "metadata": {
    "execution": {
     "iopub.execute_input": "2023-06-29T15:16:20.694729Z",
     "iopub.status.busy": "2023-06-29T15:16:20.694297Z",
     "iopub.status.idle": "2023-06-29T15:16:22.138630Z",
     "shell.execute_reply": "2023-06-29T15:16:22.137562Z"
    },
    "papermill": {
     "duration": 1.466939,
     "end_time": "2023-06-29T15:16:22.140929",
     "exception": false,
     "start_time": "2023-06-29T15:16:20.673990",
     "status": "completed"
    },
    "tags": []
   },
   "outputs": [],
   "source": [
    "from sklearn.preprocessing import LabelEncoder"
   ]
  },
  {
   "cell_type": "code",
   "execution_count": 52,
   "id": "9496faea",
   "metadata": {
    "execution": {
     "iopub.execute_input": "2023-06-29T15:16:22.181629Z",
     "iopub.status.busy": "2023-06-29T15:16:22.181293Z",
     "iopub.status.idle": "2023-06-29T15:16:22.187964Z",
     "shell.execute_reply": "2023-06-29T15:16:22.186564Z"
    },
    "papermill": {
     "duration": 0.029308,
     "end_time": "2023-06-29T15:16:22.190292",
     "exception": false,
     "start_time": "2023-06-29T15:16:22.160984",
     "status": "completed"
    },
    "tags": []
   },
   "outputs": [],
   "source": [
    "df_nb_categorical = df_nb_clean[['TypeName', 'OpSys', 'resolution_parsed', 'first_type', 'second_storage_type', 'gpu_brand', 'cpu_brand']]"
   ]
  },
  {
   "cell_type": "code",
   "execution_count": 53,
   "id": "de98b1bf",
   "metadata": {
    "execution": {
     "iopub.execute_input": "2023-06-29T15:16:22.230361Z",
     "iopub.status.busy": "2023-06-29T15:16:22.229804Z",
     "iopub.status.idle": "2023-06-29T15:16:22.243448Z",
     "shell.execute_reply": "2023-06-29T15:16:22.242824Z"
    },
    "papermill": {
     "duration": 0.035755,
     "end_time": "2023-06-29T15:16:22.245118",
     "exception": false,
     "start_time": "2023-06-29T15:16:22.209363",
     "status": "completed"
    },
    "tags": []
   },
   "outputs": [
    {
     "data": {
      "text/html": [
       "<div>\n",
       "<style scoped>\n",
       "    .dataframe tbody tr th:only-of-type {\n",
       "        vertical-align: middle;\n",
       "    }\n",
       "\n",
       "    .dataframe tbody tr th {\n",
       "        vertical-align: top;\n",
       "    }\n",
       "\n",
       "    .dataframe thead th {\n",
       "        text-align: right;\n",
       "    }\n",
       "</style>\n",
       "<table border=\"1\" class=\"dataframe\">\n",
       "  <thead>\n",
       "    <tr style=\"text-align: right;\">\n",
       "      <th></th>\n",
       "      <th>TypeName</th>\n",
       "      <th>OpSys</th>\n",
       "      <th>resolution_parsed</th>\n",
       "      <th>first_type</th>\n",
       "      <th>second_storage_type</th>\n",
       "      <th>gpu_brand</th>\n",
       "      <th>cpu_brand</th>\n",
       "    </tr>\n",
       "  </thead>\n",
       "  <tbody>\n",
       "    <tr>\n",
       "      <th>0</th>\n",
       "      <td>4</td>\n",
       "      <td>8</td>\n",
       "      <td>7</td>\n",
       "      <td>3</td>\n",
       "      <td>0</td>\n",
       "      <td>1</td>\n",
       "      <td>1</td>\n",
       "    </tr>\n",
       "    <tr>\n",
       "      <th>1</th>\n",
       "      <td>4</td>\n",
       "      <td>8</td>\n",
       "      <td>1</td>\n",
       "      <td>0</td>\n",
       "      <td>0</td>\n",
       "      <td>1</td>\n",
       "      <td>1</td>\n",
       "    </tr>\n",
       "    <tr>\n",
       "      <th>2</th>\n",
       "      <td>3</td>\n",
       "      <td>4</td>\n",
       "      <td>3</td>\n",
       "      <td>3</td>\n",
       "      <td>0</td>\n",
       "      <td>1</td>\n",
       "      <td>1</td>\n",
       "    </tr>\n",
       "    <tr>\n",
       "      <th>3</th>\n",
       "      <td>4</td>\n",
       "      <td>8</td>\n",
       "      <td>8</td>\n",
       "      <td>3</td>\n",
       "      <td>0</td>\n",
       "      <td>0</td>\n",
       "      <td>1</td>\n",
       "    </tr>\n",
       "    <tr>\n",
       "      <th>4</th>\n",
       "      <td>4</td>\n",
       "      <td>8</td>\n",
       "      <td>7</td>\n",
       "      <td>3</td>\n",
       "      <td>0</td>\n",
       "      <td>1</td>\n",
       "      <td>1</td>\n",
       "    </tr>\n",
       "    <tr>\n",
       "      <th>...</th>\n",
       "      <td>...</td>\n",
       "      <td>...</td>\n",
       "      <td>...</td>\n",
       "      <td>...</td>\n",
       "      <td>...</td>\n",
       "      <td>...</td>\n",
       "      <td>...</td>\n",
       "    </tr>\n",
       "    <tr>\n",
       "      <th>1247</th>\n",
       "      <td>0</td>\n",
       "      <td>5</td>\n",
       "      <td>3</td>\n",
       "      <td>3</td>\n",
       "      <td>0</td>\n",
       "      <td>1</td>\n",
       "      <td>1</td>\n",
       "    </tr>\n",
       "    <tr>\n",
       "      <th>1248</th>\n",
       "      <td>0</td>\n",
       "      <td>5</td>\n",
       "      <td>6</td>\n",
       "      <td>3</td>\n",
       "      <td>0</td>\n",
       "      <td>1</td>\n",
       "      <td>1</td>\n",
       "    </tr>\n",
       "    <tr>\n",
       "      <th>1249</th>\n",
       "      <td>3</td>\n",
       "      <td>5</td>\n",
       "      <td>0</td>\n",
       "      <td>0</td>\n",
       "      <td>0</td>\n",
       "      <td>1</td>\n",
       "      <td>1</td>\n",
       "    </tr>\n",
       "    <tr>\n",
       "      <th>1250</th>\n",
       "      <td>3</td>\n",
       "      <td>5</td>\n",
       "      <td>0</td>\n",
       "      <td>1</td>\n",
       "      <td>0</td>\n",
       "      <td>0</td>\n",
       "      <td>1</td>\n",
       "    </tr>\n",
       "    <tr>\n",
       "      <th>1251</th>\n",
       "      <td>3</td>\n",
       "      <td>5</td>\n",
       "      <td>0</td>\n",
       "      <td>1</td>\n",
       "      <td>0</td>\n",
       "      <td>1</td>\n",
       "      <td>1</td>\n",
       "    </tr>\n",
       "  </tbody>\n",
       "</table>\n",
       "<p>1252 rows × 7 columns</p>\n",
       "</div>"
      ],
      "text/plain": [
       "      TypeName  OpSys  resolution_parsed  first_type  second_storage_type  \\\n",
       "0            4      8                  7           3                    0   \n",
       "1            4      8                  1           0                    0   \n",
       "2            3      4                  3           3                    0   \n",
       "3            4      8                  8           3                    0   \n",
       "4            4      8                  7           3                    0   \n",
       "...        ...    ...                ...         ...                  ...   \n",
       "1247         0      5                  3           3                    0   \n",
       "1248         0      5                  6           3                    0   \n",
       "1249         3      5                  0           0                    0   \n",
       "1250         3      5                  0           1                    0   \n",
       "1251         3      5                  0           1                    0   \n",
       "\n",
       "      gpu_brand  cpu_brand  \n",
       "0             1          1  \n",
       "1             1          1  \n",
       "2             1          1  \n",
       "3             0          1  \n",
       "4             1          1  \n",
       "...         ...        ...  \n",
       "1247          1          1  \n",
       "1248          1          1  \n",
       "1249          1          1  \n",
       "1250          0          1  \n",
       "1251          1          1  \n",
       "\n",
       "[1252 rows x 7 columns]"
      ]
     },
     "execution_count": 53,
     "metadata": {},
     "output_type": "execute_result"
    }
   ],
   "source": [
    "df_nb_categorical.apply(lambda x: LabelEncoder().fit_transform(x), axis=0)"
   ]
  },
  {
   "cell_type": "code",
   "execution_count": 54,
   "id": "7ddb666f",
   "metadata": {
    "execution": {
     "iopub.execute_input": "2023-06-29T15:16:22.285406Z",
     "iopub.status.busy": "2023-06-29T15:16:22.284389Z",
     "iopub.status.idle": "2023-06-29T15:16:22.289493Z",
     "shell.execute_reply": "2023-06-29T15:16:22.288584Z"
    },
    "papermill": {
     "duration": 0.026908,
     "end_time": "2023-06-29T15:16:22.291271",
     "exception": false,
     "start_time": "2023-06-29T15:16:22.264363",
     "status": "completed"
    },
    "tags": []
   },
   "outputs": [],
   "source": [
    "def le_encoding(column):\n",
    "    try:\n",
    "        le = LabelEncoder()\n",
    "        return LabelEncoder().fit_transform(column)\n",
    "    except:\n",
    "        pass\n",
    "    "
   ]
  },
  {
   "cell_type": "code",
   "execution_count": 55,
   "id": "98e944c0",
   "metadata": {
    "execution": {
     "iopub.execute_input": "2023-06-29T15:16:22.333510Z",
     "iopub.status.busy": "2023-06-29T15:16:22.333142Z",
     "iopub.status.idle": "2023-06-29T15:16:22.339312Z",
     "shell.execute_reply": "2023-06-29T15:16:22.338311Z"
    },
    "papermill": {
     "duration": 0.029549,
     "end_time": "2023-06-29T15:16:22.341472",
     "exception": false,
     "start_time": "2023-06-29T15:16:22.311923",
     "status": "completed"
    },
    "tags": []
   },
   "outputs": [],
   "source": [
    "le_encoding(df_nb_categorical)"
   ]
  },
  {
   "cell_type": "code",
   "execution_count": 56,
   "id": "704eea54",
   "metadata": {
    "execution": {
     "iopub.execute_input": "2023-06-29T15:16:22.381455Z",
     "iopub.status.busy": "2023-06-29T15:16:22.380528Z",
     "iopub.status.idle": "2023-06-29T15:16:22.389706Z",
     "shell.execute_reply": "2023-06-29T15:16:22.388427Z"
    },
    "papermill": {
     "duration": 0.031922,
     "end_time": "2023-06-29T15:16:22.392312",
     "exception": false,
     "start_time": "2023-06-29T15:16:22.360390",
     "status": "completed"
    },
    "tags": []
   },
   "outputs": [],
   "source": [
    "df_nb_categorical = df_nb_categorical.apply(lambda x: le_encoding(x))"
   ]
  },
  {
   "cell_type": "code",
   "execution_count": 57,
   "id": "6b9298e7",
   "metadata": {
    "execution": {
     "iopub.execute_input": "2023-06-29T15:16:22.435246Z",
     "iopub.status.busy": "2023-06-29T15:16:22.434888Z",
     "iopub.status.idle": "2023-06-29T15:16:22.443269Z",
     "shell.execute_reply": "2023-06-29T15:16:22.441674Z"
    },
    "papermill": {
     "duration": 0.031068,
     "end_time": "2023-06-29T15:16:22.445208",
     "exception": false,
     "start_time": "2023-06-29T15:16:22.414140",
     "status": "completed"
    },
    "tags": []
   },
   "outputs": [],
   "source": [
    "df_nb_clean[['TypeName', 'OpSys', 'resolution_parsed', 'first_type', 'second_storage_type', 'gpu_brand', 'cpu_brand']] = df_nb_categorical"
   ]
  },
  {
   "cell_type": "code",
   "execution_count": 58,
   "id": "12ff5c4d",
   "metadata": {
    "execution": {
     "iopub.execute_input": "2023-06-29T15:16:22.485625Z",
     "iopub.status.busy": "2023-06-29T15:16:22.484646Z",
     "iopub.status.idle": "2023-06-29T15:16:22.504988Z",
     "shell.execute_reply": "2023-06-29T15:16:22.504155Z"
    },
    "papermill": {
     "duration": 0.042594,
     "end_time": "2023-06-29T15:16:22.507273",
     "exception": false,
     "start_time": "2023-06-29T15:16:22.464679",
     "status": "completed"
    },
    "tags": []
   },
   "outputs": [
    {
     "data": {
      "text/html": [
       "<div>\n",
       "<style scoped>\n",
       "    .dataframe tbody tr th:only-of-type {\n",
       "        vertical-align: middle;\n",
       "    }\n",
       "\n",
       "    .dataframe tbody tr th {\n",
       "        vertical-align: top;\n",
       "    }\n",
       "\n",
       "    .dataframe thead th {\n",
       "        text-align: right;\n",
       "    }\n",
       "</style>\n",
       "<table border=\"1\" class=\"dataframe\">\n",
       "  <thead>\n",
       "    <tr style=\"text-align: right;\">\n",
       "      <th></th>\n",
       "      <th>TypeName</th>\n",
       "      <th>Inches</th>\n",
       "      <th>Ram</th>\n",
       "      <th>OpSys</th>\n",
       "      <th>Weight</th>\n",
       "      <th>Price_in_euros</th>\n",
       "      <th>ips</th>\n",
       "      <th>touchscreen</th>\n",
       "      <th>resolution_parsed</th>\n",
       "      <th>first_storage</th>\n",
       "      <th>second_storage</th>\n",
       "      <th>first_type</th>\n",
       "      <th>second_storage_type</th>\n",
       "      <th>gpu_brand</th>\n",
       "      <th>cpu_brand</th>\n",
       "    </tr>\n",
       "  </thead>\n",
       "  <tbody>\n",
       "    <tr>\n",
       "      <th>0</th>\n",
       "      <td>4</td>\n",
       "      <td>13.3</td>\n",
       "      <td>8</td>\n",
       "      <td>8</td>\n",
       "      <td>1.37</td>\n",
       "      <td>1339.69</td>\n",
       "      <td>True</td>\n",
       "      <td>False</td>\n",
       "      <td>7</td>\n",
       "      <td>128.0</td>\n",
       "      <td>-1.0</td>\n",
       "      <td>3</td>\n",
       "      <td>0</td>\n",
       "      <td>1</td>\n",
       "      <td>1</td>\n",
       "    </tr>\n",
       "    <tr>\n",
       "      <th>1</th>\n",
       "      <td>4</td>\n",
       "      <td>13.3</td>\n",
       "      <td>8</td>\n",
       "      <td>8</td>\n",
       "      <td>1.34</td>\n",
       "      <td>898.94</td>\n",
       "      <td>False</td>\n",
       "      <td>False</td>\n",
       "      <td>1</td>\n",
       "      <td>128.0</td>\n",
       "      <td>-1.0</td>\n",
       "      <td>0</td>\n",
       "      <td>0</td>\n",
       "      <td>1</td>\n",
       "      <td>1</td>\n",
       "    </tr>\n",
       "    <tr>\n",
       "      <th>2</th>\n",
       "      <td>3</td>\n",
       "      <td>15.6</td>\n",
       "      <td>8</td>\n",
       "      <td>4</td>\n",
       "      <td>1.86</td>\n",
       "      <td>575.00</td>\n",
       "      <td>False</td>\n",
       "      <td>False</td>\n",
       "      <td>3</td>\n",
       "      <td>256.0</td>\n",
       "      <td>-1.0</td>\n",
       "      <td>3</td>\n",
       "      <td>0</td>\n",
       "      <td>1</td>\n",
       "      <td>1</td>\n",
       "    </tr>\n",
       "    <tr>\n",
       "      <th>3</th>\n",
       "      <td>4</td>\n",
       "      <td>15.4</td>\n",
       "      <td>16</td>\n",
       "      <td>8</td>\n",
       "      <td>1.83</td>\n",
       "      <td>2537.45</td>\n",
       "      <td>True</td>\n",
       "      <td>False</td>\n",
       "      <td>8</td>\n",
       "      <td>512.0</td>\n",
       "      <td>-1.0</td>\n",
       "      <td>3</td>\n",
       "      <td>0</td>\n",
       "      <td>0</td>\n",
       "      <td>1</td>\n",
       "    </tr>\n",
       "    <tr>\n",
       "      <th>4</th>\n",
       "      <td>4</td>\n",
       "      <td>13.3</td>\n",
       "      <td>8</td>\n",
       "      <td>8</td>\n",
       "      <td>1.37</td>\n",
       "      <td>1803.60</td>\n",
       "      <td>True</td>\n",
       "      <td>False</td>\n",
       "      <td>7</td>\n",
       "      <td>256.0</td>\n",
       "      <td>-1.0</td>\n",
       "      <td>3</td>\n",
       "      <td>0</td>\n",
       "      <td>1</td>\n",
       "      <td>1</td>\n",
       "    </tr>\n",
       "    <tr>\n",
       "      <th>...</th>\n",
       "      <td>...</td>\n",
       "      <td>...</td>\n",
       "      <td>...</td>\n",
       "      <td>...</td>\n",
       "      <td>...</td>\n",
       "      <td>...</td>\n",
       "      <td>...</td>\n",
       "      <td>...</td>\n",
       "      <td>...</td>\n",
       "      <td>...</td>\n",
       "      <td>...</td>\n",
       "      <td>...</td>\n",
       "      <td>...</td>\n",
       "      <td>...</td>\n",
       "      <td>...</td>\n",
       "    </tr>\n",
       "    <tr>\n",
       "      <th>1247</th>\n",
       "      <td>0</td>\n",
       "      <td>14.0</td>\n",
       "      <td>4</td>\n",
       "      <td>5</td>\n",
       "      <td>1.80</td>\n",
       "      <td>638.00</td>\n",
       "      <td>True</td>\n",
       "      <td>True</td>\n",
       "      <td>3</td>\n",
       "      <td>128.0</td>\n",
       "      <td>-1.0</td>\n",
       "      <td>3</td>\n",
       "      <td>0</td>\n",
       "      <td>1</td>\n",
       "      <td>1</td>\n",
       "    </tr>\n",
       "    <tr>\n",
       "      <th>1248</th>\n",
       "      <td>0</td>\n",
       "      <td>13.3</td>\n",
       "      <td>16</td>\n",
       "      <td>5</td>\n",
       "      <td>1.30</td>\n",
       "      <td>1499.00</td>\n",
       "      <td>True</td>\n",
       "      <td>True</td>\n",
       "      <td>6</td>\n",
       "      <td>512.0</td>\n",
       "      <td>-1.0</td>\n",
       "      <td>3</td>\n",
       "      <td>0</td>\n",
       "      <td>1</td>\n",
       "      <td>1</td>\n",
       "    </tr>\n",
       "    <tr>\n",
       "      <th>1249</th>\n",
       "      <td>3</td>\n",
       "      <td>14.0</td>\n",
       "      <td>2</td>\n",
       "      <td>5</td>\n",
       "      <td>1.50</td>\n",
       "      <td>229.00</td>\n",
       "      <td>False</td>\n",
       "      <td>False</td>\n",
       "      <td>0</td>\n",
       "      <td>64.0</td>\n",
       "      <td>-1.0</td>\n",
       "      <td>0</td>\n",
       "      <td>0</td>\n",
       "      <td>1</td>\n",
       "      <td>1</td>\n",
       "    </tr>\n",
       "    <tr>\n",
       "      <th>1250</th>\n",
       "      <td>3</td>\n",
       "      <td>15.6</td>\n",
       "      <td>6</td>\n",
       "      <td>5</td>\n",
       "      <td>2.19</td>\n",
       "      <td>764.00</td>\n",
       "      <td>False</td>\n",
       "      <td>False</td>\n",
       "      <td>0</td>\n",
       "      <td>1024.0</td>\n",
       "      <td>-1.0</td>\n",
       "      <td>1</td>\n",
       "      <td>0</td>\n",
       "      <td>0</td>\n",
       "      <td>1</td>\n",
       "    </tr>\n",
       "    <tr>\n",
       "      <th>1251</th>\n",
       "      <td>3</td>\n",
       "      <td>15.6</td>\n",
       "      <td>4</td>\n",
       "      <td>5</td>\n",
       "      <td>2.20</td>\n",
       "      <td>369.00</td>\n",
       "      <td>False</td>\n",
       "      <td>False</td>\n",
       "      <td>0</td>\n",
       "      <td>500.0</td>\n",
       "      <td>-1.0</td>\n",
       "      <td>1</td>\n",
       "      <td>0</td>\n",
       "      <td>1</td>\n",
       "      <td>1</td>\n",
       "    </tr>\n",
       "  </tbody>\n",
       "</table>\n",
       "<p>1252 rows × 15 columns</p>\n",
       "</div>"
      ],
      "text/plain": [
       "      TypeName  Inches Ram  OpSys  Weight  Price_in_euros    ips  touchscreen  \\\n",
       "0            4    13.3   8      8    1.37         1339.69   True        False   \n",
       "1            4    13.3   8      8    1.34          898.94  False        False   \n",
       "2            3    15.6   8      4    1.86          575.00  False        False   \n",
       "3            4    15.4  16      8    1.83         2537.45   True        False   \n",
       "4            4    13.3   8      8    1.37         1803.60   True        False   \n",
       "...        ...     ...  ..    ...     ...             ...    ...          ...   \n",
       "1247         0    14.0   4      5    1.80          638.00   True         True   \n",
       "1248         0    13.3  16      5    1.30         1499.00   True         True   \n",
       "1249         3    14.0   2      5    1.50          229.00  False        False   \n",
       "1250         3    15.6   6      5    2.19          764.00  False        False   \n",
       "1251         3    15.6   4      5    2.20          369.00  False        False   \n",
       "\n",
       "      resolution_parsed  first_storage  second_storage  first_type  \\\n",
       "0                     7          128.0            -1.0           3   \n",
       "1                     1          128.0            -1.0           0   \n",
       "2                     3          256.0            -1.0           3   \n",
       "3                     8          512.0            -1.0           3   \n",
       "4                     7          256.0            -1.0           3   \n",
       "...                 ...            ...             ...         ...   \n",
       "1247                  3          128.0            -1.0           3   \n",
       "1248                  6          512.0            -1.0           3   \n",
       "1249                  0           64.0            -1.0           0   \n",
       "1250                  0         1024.0            -1.0           1   \n",
       "1251                  0          500.0            -1.0           1   \n",
       "\n",
       "      second_storage_type  gpu_brand  cpu_brand  \n",
       "0                       0          1          1  \n",
       "1                       0          1          1  \n",
       "2                       0          1          1  \n",
       "3                       0          0          1  \n",
       "4                       0          1          1  \n",
       "...                   ...        ...        ...  \n",
       "1247                    0          1          1  \n",
       "1248                    0          1          1  \n",
       "1249                    0          1          1  \n",
       "1250                    0          0          1  \n",
       "1251                    0          1          1  \n",
       "\n",
       "[1252 rows x 15 columns]"
      ]
     },
     "execution_count": 58,
     "metadata": {},
     "output_type": "execute_result"
    }
   ],
   "source": [
    "df_nb_clean"
   ]
  },
  {
   "cell_type": "code",
   "execution_count": 59,
   "id": "165bdfe7",
   "metadata": {
    "execution": {
     "iopub.execute_input": "2023-06-29T15:16:22.546923Z",
     "iopub.status.busy": "2023-06-29T15:16:22.546555Z",
     "iopub.status.idle": "2023-06-29T15:16:23.078743Z",
     "shell.execute_reply": "2023-06-29T15:16:23.077467Z"
    },
    "papermill": {
     "duration": 0.555241,
     "end_time": "2023-06-29T15:16:23.081587",
     "exception": false,
     "start_time": "2023-06-29T15:16:22.526346",
     "status": "completed"
    },
    "tags": []
   },
   "outputs": [],
   "source": [
    "from sklearn.ensemble import RandomForestRegressor\n",
    "from sklearn.model_selection import train_test_split"
   ]
  },
  {
   "cell_type": "code",
   "execution_count": 60,
   "id": "ae779751",
   "metadata": {
    "execution": {
     "iopub.execute_input": "2023-06-29T15:16:23.123408Z",
     "iopub.status.busy": "2023-06-29T15:16:23.123043Z",
     "iopub.status.idle": "2023-06-29T15:16:23.130773Z",
     "shell.execute_reply": "2023-06-29T15:16:23.129692Z"
    },
    "papermill": {
     "duration": 0.031527,
     "end_time": "2023-06-29T15:16:23.133212",
     "exception": false,
     "start_time": "2023-06-29T15:16:23.101685",
     "status": "completed"
    },
    "tags": []
   },
   "outputs": [],
   "source": [
    "df_nb_clean.Ram = df_nb_clean.Ram.astype('int')"
   ]
  },
  {
   "cell_type": "code",
   "execution_count": 61,
   "id": "2d43cf3b",
   "metadata": {
    "execution": {
     "iopub.execute_input": "2023-06-29T15:16:23.174704Z",
     "iopub.status.busy": "2023-06-29T15:16:23.174344Z",
     "iopub.status.idle": "2023-06-29T15:16:23.180163Z",
     "shell.execute_reply": "2023-06-29T15:16:23.179264Z"
    },
    "papermill": {
     "duration": 0.029267,
     "end_time": "2023-06-29T15:16:23.182159",
     "exception": false,
     "start_time": "2023-06-29T15:16:23.152892",
     "status": "completed"
    },
    "tags": []
   },
   "outputs": [],
   "source": [
    "df_nb_clean.ips = df_nb_clean.ips.astype(int)\n",
    "df_nb_clean.touchscreen = df_nb_clean.touchscreen.astype(int)\n"
   ]
  },
  {
   "cell_type": "code",
   "execution_count": 62,
   "id": "76743028",
   "metadata": {
    "execution": {
     "iopub.execute_input": "2023-06-29T15:16:23.222580Z",
     "iopub.status.busy": "2023-06-29T15:16:23.221600Z",
     "iopub.status.idle": "2023-06-29T15:16:23.229471Z",
     "shell.execute_reply": "2023-06-29T15:16:23.228524Z"
    },
    "papermill": {
     "duration": 0.030315,
     "end_time": "2023-06-29T15:16:23.231580",
     "exception": false,
     "start_time": "2023-06-29T15:16:23.201265",
     "status": "completed"
    },
    "tags": []
   },
   "outputs": [],
   "source": [
    "X = df_nb_clean.drop('Price_in_euros', axis=1)\n",
    "y = df_nb_clean.Price_in_euros\n",
    "\n",
    "X_train, X_test, y_train, y_test = train_test_split(X, y, test_size=0.33, random_state=42)"
   ]
  },
  {
   "cell_type": "code",
   "execution_count": 63,
   "id": "29fe71c1",
   "metadata": {
    "execution": {
     "iopub.execute_input": "2023-06-29T15:16:23.271936Z",
     "iopub.status.busy": "2023-06-29T15:16:23.271154Z",
     "iopub.status.idle": "2023-06-29T15:16:23.275974Z",
     "shell.execute_reply": "2023-06-29T15:16:23.274916Z"
    },
    "papermill": {
     "duration": 0.027359,
     "end_time": "2023-06-29T15:16:23.278202",
     "exception": false,
     "start_time": "2023-06-29T15:16:23.250843",
     "status": "completed"
    },
    "tags": []
   },
   "outputs": [],
   "source": [
    "rfr = RandomForestRegressor()"
   ]
  },
  {
   "cell_type": "code",
   "execution_count": 64,
   "id": "69ff4e67",
   "metadata": {
    "execution": {
     "iopub.execute_input": "2023-06-29T15:16:23.318858Z",
     "iopub.status.busy": "2023-06-29T15:16:23.318521Z",
     "iopub.status.idle": "2023-06-29T15:16:23.593218Z",
     "shell.execute_reply": "2023-06-29T15:16:23.591899Z"
    },
    "papermill": {
     "duration": 0.297793,
     "end_time": "2023-06-29T15:16:23.595257",
     "exception": false,
     "start_time": "2023-06-29T15:16:23.297464",
     "status": "completed"
    },
    "tags": []
   },
   "outputs": [
    {
     "data": {
      "text/html": [
       "<style>#sk-container-id-1 {color: black;background-color: white;}#sk-container-id-1 pre{padding: 0;}#sk-container-id-1 div.sk-toggleable {background-color: white;}#sk-container-id-1 label.sk-toggleable__label {cursor: pointer;display: block;width: 100%;margin-bottom: 0;padding: 0.3em;box-sizing: border-box;text-align: center;}#sk-container-id-1 label.sk-toggleable__label-arrow:before {content: \"▸\";float: left;margin-right: 0.25em;color: #696969;}#sk-container-id-1 label.sk-toggleable__label-arrow:hover:before {color: black;}#sk-container-id-1 div.sk-estimator:hover label.sk-toggleable__label-arrow:before {color: black;}#sk-container-id-1 div.sk-toggleable__content {max-height: 0;max-width: 0;overflow: hidden;text-align: left;background-color: #f0f8ff;}#sk-container-id-1 div.sk-toggleable__content pre {margin: 0.2em;color: black;border-radius: 0.25em;background-color: #f0f8ff;}#sk-container-id-1 input.sk-toggleable__control:checked~div.sk-toggleable__content {max-height: 200px;max-width: 100%;overflow: auto;}#sk-container-id-1 input.sk-toggleable__control:checked~label.sk-toggleable__label-arrow:before {content: \"▾\";}#sk-container-id-1 div.sk-estimator input.sk-toggleable__control:checked~label.sk-toggleable__label {background-color: #d4ebff;}#sk-container-id-1 div.sk-label input.sk-toggleable__control:checked~label.sk-toggleable__label {background-color: #d4ebff;}#sk-container-id-1 input.sk-hidden--visually {border: 0;clip: rect(1px 1px 1px 1px);clip: rect(1px, 1px, 1px, 1px);height: 1px;margin: -1px;overflow: hidden;padding: 0;position: absolute;width: 1px;}#sk-container-id-1 div.sk-estimator {font-family: monospace;background-color: #f0f8ff;border: 1px dotted black;border-radius: 0.25em;box-sizing: border-box;margin-bottom: 0.5em;}#sk-container-id-1 div.sk-estimator:hover {background-color: #d4ebff;}#sk-container-id-1 div.sk-parallel-item::after {content: \"\";width: 100%;border-bottom: 1px solid gray;flex-grow: 1;}#sk-container-id-1 div.sk-label:hover label.sk-toggleable__label {background-color: #d4ebff;}#sk-container-id-1 div.sk-serial::before {content: \"\";position: absolute;border-left: 1px solid gray;box-sizing: border-box;top: 0;bottom: 0;left: 50%;z-index: 0;}#sk-container-id-1 div.sk-serial {display: flex;flex-direction: column;align-items: center;background-color: white;padding-right: 0.2em;padding-left: 0.2em;position: relative;}#sk-container-id-1 div.sk-item {position: relative;z-index: 1;}#sk-container-id-1 div.sk-parallel {display: flex;align-items: stretch;justify-content: center;background-color: white;position: relative;}#sk-container-id-1 div.sk-item::before, #sk-container-id-1 div.sk-parallel-item::before {content: \"\";position: absolute;border-left: 1px solid gray;box-sizing: border-box;top: 0;bottom: 0;left: 50%;z-index: -1;}#sk-container-id-1 div.sk-parallel-item {display: flex;flex-direction: column;z-index: 1;position: relative;background-color: white;}#sk-container-id-1 div.sk-parallel-item:first-child::after {align-self: flex-end;width: 50%;}#sk-container-id-1 div.sk-parallel-item:last-child::after {align-self: flex-start;width: 50%;}#sk-container-id-1 div.sk-parallel-item:only-child::after {width: 0;}#sk-container-id-1 div.sk-dashed-wrapped {border: 1px dashed gray;margin: 0 0.4em 0.5em 0.4em;box-sizing: border-box;padding-bottom: 0.4em;background-color: white;}#sk-container-id-1 div.sk-label label {font-family: monospace;font-weight: bold;display: inline-block;line-height: 1.2em;}#sk-container-id-1 div.sk-label-container {text-align: center;}#sk-container-id-1 div.sk-container {/* jupyter's `normalize.less` sets `[hidden] { display: none; }` but bootstrap.min.css set `[hidden] { display: none !important; }` so we also need the `!important` here to be able to override the default hidden behavior on the sphinx rendered scikit-learn.org. See: https://github.com/scikit-learn/scikit-learn/issues/21755 */display: inline-block !important;position: relative;}#sk-container-id-1 div.sk-text-repr-fallback {display: none;}</style><div id=\"sk-container-id-1\" class=\"sk-top-container\"><div class=\"sk-text-repr-fallback\"><pre>RandomForestRegressor()</pre><b>In a Jupyter environment, please rerun this cell to show the HTML representation or trust the notebook. <br />On GitHub, the HTML representation is unable to render, please try loading this page with nbviewer.org.</b></div><div class=\"sk-container\" hidden><div class=\"sk-item\"><div class=\"sk-estimator sk-toggleable\"><input class=\"sk-toggleable__control sk-hidden--visually\" id=\"sk-estimator-id-1\" type=\"checkbox\" checked><label for=\"sk-estimator-id-1\" class=\"sk-toggleable__label sk-toggleable__label-arrow\">RandomForestRegressor</label><div class=\"sk-toggleable__content\"><pre>RandomForestRegressor()</pre></div></div></div></div></div>"
      ],
      "text/plain": [
       "RandomForestRegressor()"
      ]
     },
     "execution_count": 64,
     "metadata": {},
     "output_type": "execute_result"
    }
   ],
   "source": [
    "rfr.fit(X_train,y_train)"
   ]
  },
  {
   "cell_type": "code",
   "execution_count": 65,
   "id": "97c88a2e",
   "metadata": {
    "execution": {
     "iopub.execute_input": "2023-06-29T15:16:23.636761Z",
     "iopub.status.busy": "2023-06-29T15:16:23.636425Z",
     "iopub.status.idle": "2023-06-29T15:16:23.656439Z",
     "shell.execute_reply": "2023-06-29T15:16:23.655303Z"
    },
    "papermill": {
     "duration": 0.043522,
     "end_time": "2023-06-29T15:16:23.658707",
     "exception": false,
     "start_time": "2023-06-29T15:16:23.615185",
     "status": "completed"
    },
    "tags": []
   },
   "outputs": [],
   "source": [
    "y_pred = rfr.predict(X_test)"
   ]
  },
  {
   "cell_type": "code",
   "execution_count": 66,
   "id": "f41248bb",
   "metadata": {
    "execution": {
     "iopub.execute_input": "2023-06-29T15:16:23.700546Z",
     "iopub.status.busy": "2023-06-29T15:16:23.700161Z",
     "iopub.status.idle": "2023-06-29T15:16:23.708010Z",
     "shell.execute_reply": "2023-06-29T15:16:23.706552Z"
    },
    "papermill": {
     "duration": 0.031777,
     "end_time": "2023-06-29T15:16:23.710526",
     "exception": false,
     "start_time": "2023-06-29T15:16:23.678749",
     "status": "completed"
    },
    "tags": []
   },
   "outputs": [],
   "source": [
    "import sklearn.metrics as metrics\n",
    "def regression_results(y_true, y_pred):\n",
    "\n",
    "    # Regression metrics\n",
    "    explained_variance=metrics.explained_variance_score(y_true, y_pred)\n",
    "    mean_absolute_error=metrics.mean_absolute_error(y_true, y_pred) \n",
    "    mse=metrics.mean_squared_error(y_true, y_pred) \n",
    "    mean_squared_log_error=metrics.mean_squared_log_error(y_true, y_pred)\n",
    "    median_absolute_error=metrics.median_absolute_error(y_true, y_pred)\n",
    "    r2=metrics.r2_score(y_true, y_pred)\n",
    "\n",
    "    print('explained_variance: ', round(explained_variance,4))    \n",
    "    print('mean_squared_log_error: ', round(mean_squared_log_error,4))\n",
    "    print('r2: ', round(r2,4))\n",
    "    print('MAE: ', round(mean_absolute_error,4))\n",
    "    print('MSE: ', round(mse,4))\n",
    "    print('RMSE: ', round(np.sqrt(mse),4))"
   ]
  },
  {
   "cell_type": "code",
   "execution_count": 67,
   "id": "2772edcc",
   "metadata": {
    "execution": {
     "iopub.execute_input": "2023-06-29T15:16:23.752771Z",
     "iopub.status.busy": "2023-06-29T15:16:23.752405Z",
     "iopub.status.idle": "2023-06-29T15:16:23.763264Z",
     "shell.execute_reply": "2023-06-29T15:16:23.762101Z"
    },
    "papermill": {
     "duration": 0.034357,
     "end_time": "2023-06-29T15:16:23.765062",
     "exception": false,
     "start_time": "2023-06-29T15:16:23.730705",
     "status": "completed"
    },
    "tags": []
   },
   "outputs": [
    {
     "name": "stdout",
     "output_type": "stream",
     "text": [
      "explained_variance:  0.7947\n",
      "mean_squared_log_error:  0.0555\n",
      "r2:  0.7946\n",
      "MAE:  190.7643\n",
      "MSE:  85138.327\n",
      "RMSE:  291.7847\n"
     ]
    }
   ],
   "source": [
    "regression_results(y_test, y_pred)"
   ]
  },
  {
   "cell_type": "code",
   "execution_count": 68,
   "id": "5f2d7073",
   "metadata": {
    "execution": {
     "iopub.execute_input": "2023-06-29T15:16:23.811421Z",
     "iopub.status.busy": "2023-06-29T15:16:23.810743Z",
     "iopub.status.idle": "2023-06-29T15:16:36.425526Z",
     "shell.execute_reply": "2023-06-29T15:16:36.423673Z"
    },
    "papermill": {
     "duration": 12.641626,
     "end_time": "2023-06-29T15:16:36.428124",
     "exception": false,
     "start_time": "2023-06-29T15:16:23.786498",
     "status": "completed"
    },
    "tags": []
   },
   "outputs": [
    {
     "name": "stdout",
     "output_type": "stream",
     "text": [
      "Collecting sklearn-evaluation\r\n",
      "  Downloading sklearn_evaluation-0.12.0-py3-none-any.whl (111 kB)\r\n",
      "\u001b[2K     \u001b[90m━━━━━━━━━━━━━━━━━━━━━━━━━━━━━━━━━━━━━━━\u001b[0m \u001b[32m111.1/111.1 kB\u001b[0m \u001b[31m4.9 MB/s\u001b[0m eta \u001b[36m0:00:00\u001b[0m\r\n",
      "\u001b[?25hCollecting ploomber-core>=0.2.6 (from sklearn-evaluation)\r\n",
      "  Downloading ploomber_core-0.2.13-py3-none-any.whl (21 kB)\r\n",
      "Requirement already satisfied: scikit-learn in /opt/conda/lib/python3.10/site-packages (from sklearn-evaluation) (1.2.2)\r\n",
      "Requirement already satisfied: matplotlib in /opt/conda/lib/python3.10/site-packages (from sklearn-evaluation) (3.6.3)\r\n",
      "Requirement already satisfied: decorator in /opt/conda/lib/python3.10/site-packages (from sklearn-evaluation) (5.1.1)\r\n",
      "Requirement already satisfied: tabulate in /opt/conda/lib/python3.10/site-packages (from sklearn-evaluation) (0.9.0)\r\n",
      "Requirement already satisfied: jinja2 in /opt/conda/lib/python3.10/site-packages (from sklearn-evaluation) (3.1.2)\r\n",
      "Requirement already satisfied: mistune in /opt/conda/lib/python3.10/site-packages (from sklearn-evaluation) (0.8.4)\r\n",
      "Requirement already satisfied: pandas in /opt/conda/lib/python3.10/site-packages (from sklearn-evaluation) (1.5.3)\r\n",
      "Requirement already satisfied: nbformat in /opt/conda/lib/python3.10/site-packages (from sklearn-evaluation) (5.8.0)\r\n",
      "Requirement already satisfied: ipython in /opt/conda/lib/python3.10/site-packages (from sklearn-evaluation) (8.13.2)\r\n",
      "Collecting black (from sklearn-evaluation)\r\n",
      "  Downloading black-23.3.0-cp310-cp310-manylinux_2_17_x86_64.manylinux2014_x86_64.whl (1.7 MB)\r\n",
      "\u001b[2K     \u001b[90m━━━━━━━━━━━━━━━━━━━━━━━━━━━━━━━━━━━━━━━━\u001b[0m \u001b[32m1.7/1.7 MB\u001b[0m \u001b[31m45.5 MB/s\u001b[0m eta \u001b[36m0:00:00\u001b[0m\r\n",
      "\u001b[?25hRequirement already satisfied: parso in /opt/conda/lib/python3.10/site-packages (from sklearn-evaluation) (0.8.3)\r\n",
      "Requirement already satisfied: click in /opt/conda/lib/python3.10/site-packages (from ploomber-core>=0.2.6->sklearn-evaluation) (8.1.3)\r\n",
      "Requirement already satisfied: pyyaml in /opt/conda/lib/python3.10/site-packages (from ploomber-core>=0.2.6->sklearn-evaluation) (5.4.1)\r\n",
      "Collecting posthog (from ploomber-core>=0.2.6->sklearn-evaluation)\r\n",
      "  Downloading posthog-3.0.1-py2.py3-none-any.whl (37 kB)\r\n",
      "Requirement already satisfied: mypy-extensions>=0.4.3 in /opt/conda/lib/python3.10/site-packages (from black->sklearn-evaluation) (1.0.0)\r\n",
      "Collecting packaging>=22.0 (from black->sklearn-evaluation)\r\n",
      "  Downloading packaging-23.1-py3-none-any.whl (48 kB)\r\n",
      "\u001b[2K     \u001b[90m━━━━━━━━━━━━━━━━━━━━━━━━━━━━━━━━━━━━━━━━\u001b[0m \u001b[32m48.9/48.9 kB\u001b[0m \u001b[31m3.3 MB/s\u001b[0m eta \u001b[36m0:00:00\u001b[0m\r\n",
      "\u001b[?25hCollecting pathspec>=0.9.0 (from black->sklearn-evaluation)\r\n",
      "  Downloading pathspec-0.11.1-py3-none-any.whl (29 kB)\r\n",
      "Requirement already satisfied: platformdirs>=2 in /opt/conda/lib/python3.10/site-packages (from black->sklearn-evaluation) (3.5.0)\r\n",
      "Requirement already satisfied: tomli>=1.1.0 in /opt/conda/lib/python3.10/site-packages (from black->sklearn-evaluation) (2.0.1)\r\n",
      "Requirement already satisfied: backcall in /opt/conda/lib/python3.10/site-packages (from ipython->sklearn-evaluation) (0.2.0)\r\n",
      "Requirement already satisfied: jedi>=0.16 in /opt/conda/lib/python3.10/site-packages (from ipython->sklearn-evaluation) (0.18.2)\r\n",
      "Requirement already satisfied: matplotlib-inline in /opt/conda/lib/python3.10/site-packages (from ipython->sklearn-evaluation) (0.1.6)\r\n",
      "Requirement already satisfied: pickleshare in /opt/conda/lib/python3.10/site-packages (from ipython->sklearn-evaluation) (0.7.5)\r\n",
      "Requirement already satisfied: prompt-toolkit!=3.0.37,<3.1.0,>=3.0.30 in /opt/conda/lib/python3.10/site-packages (from ipython->sklearn-evaluation) (3.0.38)\r\n",
      "Requirement already satisfied: pygments>=2.4.0 in /opt/conda/lib/python3.10/site-packages (from ipython->sklearn-evaluation) (2.15.1)\r\n",
      "Requirement already satisfied: stack-data in /opt/conda/lib/python3.10/site-packages (from ipython->sklearn-evaluation) (0.6.2)\r\n",
      "Requirement already satisfied: traitlets>=5 in /opt/conda/lib/python3.10/site-packages (from ipython->sklearn-evaluation) (5.9.0)\r\n",
      "Requirement already satisfied: pexpect>4.3 in /opt/conda/lib/python3.10/site-packages (from ipython->sklearn-evaluation) (4.8.0)\r\n",
      "Requirement already satisfied: MarkupSafe>=2.0 in /opt/conda/lib/python3.10/site-packages (from jinja2->sklearn-evaluation) (2.1.2)\r\n",
      "Requirement already satisfied: contourpy>=1.0.1 in /opt/conda/lib/python3.10/site-packages (from matplotlib->sklearn-evaluation) (1.0.7)\r\n",
      "Requirement already satisfied: cycler>=0.10 in /opt/conda/lib/python3.10/site-packages (from matplotlib->sklearn-evaluation) (0.11.0)\r\n",
      "Requirement already satisfied: fonttools>=4.22.0 in /opt/conda/lib/python3.10/site-packages (from matplotlib->sklearn-evaluation) (4.39.3)\r\n",
      "Requirement already satisfied: kiwisolver>=1.0.1 in /opt/conda/lib/python3.10/site-packages (from matplotlib->sklearn-evaluation) (1.4.4)\r\n",
      "Requirement already satisfied: numpy>=1.19 in /opt/conda/lib/python3.10/site-packages (from matplotlib->sklearn-evaluation) (1.23.5)\r\n",
      "Requirement already satisfied: pillow>=6.2.0 in /opt/conda/lib/python3.10/site-packages (from matplotlib->sklearn-evaluation) (9.5.0)\r\n",
      "Requirement already satisfied: pyparsing>=2.2.1 in /opt/conda/lib/python3.10/site-packages (from matplotlib->sklearn-evaluation) (3.0.9)\r\n",
      "Requirement already satisfied: python-dateutil>=2.7 in /opt/conda/lib/python3.10/site-packages (from matplotlib->sklearn-evaluation) (2.8.2)\r\n",
      "Requirement already satisfied: fastjsonschema in /opt/conda/lib/python3.10/site-packages (from nbformat->sklearn-evaluation) (2.16.3)\r\n",
      "Requirement already satisfied: jsonschema>=2.6 in /opt/conda/lib/python3.10/site-packages (from nbformat->sklearn-evaluation) (4.17.3)\r\n",
      "Requirement already satisfied: jupyter-core in /opt/conda/lib/python3.10/site-packages (from nbformat->sklearn-evaluation) (5.3.0)\r\n",
      "Requirement already satisfied: pytz>=2020.1 in /opt/conda/lib/python3.10/site-packages (from pandas->sklearn-evaluation) (2023.3)\r\n",
      "Requirement already satisfied: scipy>=1.3.2 in /opt/conda/lib/python3.10/site-packages (from scikit-learn->sklearn-evaluation) (1.10.1)\r\n",
      "Requirement already satisfied: joblib>=1.1.1 in /opt/conda/lib/python3.10/site-packages (from scikit-learn->sklearn-evaluation) (1.2.0)\r\n",
      "Requirement already satisfied: threadpoolctl>=2.0.0 in /opt/conda/lib/python3.10/site-packages (from scikit-learn->sklearn-evaluation) (3.1.0)\r\n",
      "Requirement already satisfied: attrs>=17.4.0 in /opt/conda/lib/python3.10/site-packages (from jsonschema>=2.6->nbformat->sklearn-evaluation) (23.1.0)\r\n",
      "Requirement already satisfied: pyrsistent!=0.17.0,!=0.17.1,!=0.17.2,>=0.14.0 in /opt/conda/lib/python3.10/site-packages (from jsonschema>=2.6->nbformat->sklearn-evaluation) (0.19.3)\r\n",
      "Requirement already satisfied: ptyprocess>=0.5 in /opt/conda/lib/python3.10/site-packages (from pexpect>4.3->ipython->sklearn-evaluation) (0.7.0)\r\n",
      "Requirement already satisfied: wcwidth in /opt/conda/lib/python3.10/site-packages (from prompt-toolkit!=3.0.37,<3.1.0,>=3.0.30->ipython->sklearn-evaluation) (0.2.6)\r\n",
      "Requirement already satisfied: six>=1.5 in /opt/conda/lib/python3.10/site-packages (from python-dateutil>=2.7->matplotlib->sklearn-evaluation) (1.16.0)\r\n",
      "Requirement already satisfied: requests<3.0,>=2.7 in /opt/conda/lib/python3.10/site-packages (from posthog->ploomber-core>=0.2.6->sklearn-evaluation) (2.28.2)\r\n",
      "Collecting monotonic>=1.5 (from posthog->ploomber-core>=0.2.6->sklearn-evaluation)\r\n",
      "  Downloading monotonic-1.6-py2.py3-none-any.whl (8.2 kB)\r\n",
      "Requirement already satisfied: backoff>=1.10.0 in /opt/conda/lib/python3.10/site-packages (from posthog->ploomber-core>=0.2.6->sklearn-evaluation) (2.2.1)\r\n",
      "Requirement already satisfied: executing>=1.2.0 in /opt/conda/lib/python3.10/site-packages (from stack-data->ipython->sklearn-evaluation) (1.2.0)\r\n",
      "Requirement already satisfied: asttokens>=2.1.0 in /opt/conda/lib/python3.10/site-packages (from stack-data->ipython->sklearn-evaluation) (2.2.1)\r\n",
      "Requirement already satisfied: pure-eval in /opt/conda/lib/python3.10/site-packages (from stack-data->ipython->sklearn-evaluation) (0.2.2)\r\n",
      "Requirement already satisfied: charset-normalizer<4,>=2 in /opt/conda/lib/python3.10/site-packages (from requests<3.0,>=2.7->posthog->ploomber-core>=0.2.6->sklearn-evaluation) (2.1.1)\r\n",
      "Requirement already satisfied: idna<4,>=2.5 in /opt/conda/lib/python3.10/site-packages (from requests<3.0,>=2.7->posthog->ploomber-core>=0.2.6->sklearn-evaluation) (3.4)\r\n",
      "Requirement already satisfied: urllib3<1.27,>=1.21.1 in /opt/conda/lib/python3.10/site-packages (from requests<3.0,>=2.7->posthog->ploomber-core>=0.2.6->sklearn-evaluation) (1.26.15)\r\n",
      "Requirement already satisfied: certifi>=2017.4.17 in /opt/conda/lib/python3.10/site-packages (from requests<3.0,>=2.7->posthog->ploomber-core>=0.2.6->sklearn-evaluation) (2023.5.7)\r\n",
      "Installing collected packages: monotonic, pathspec, packaging, posthog, black, ploomber-core, sklearn-evaluation\r\n",
      "  Attempting uninstall: packaging\r\n",
      "    Found existing installation: packaging 21.3\r\n",
      "    Uninstalling packaging-21.3:\r\n",
      "      Successfully uninstalled packaging-21.3\r\n",
      "\u001b[31mERROR: pip's dependency resolver does not currently take into account all the packages that are installed. This behaviour is the source of the following dependency conflicts.\r\n",
      "google-cloud-bigquery 2.34.4 requires packaging<22.0dev,>=14.3, but you have packaging 23.1 which is incompatible.\r\n",
      "jupyterlab-lsp 4.2.0 requires jupyter-lsp>=2.0.0, but you have jupyter-lsp 1.5.1 which is incompatible.\r\n",
      "momepy 0.6.0 requires shapely>=2, but you have shapely 1.8.5.post1 which is incompatible.\r\n",
      "pymc3 3.11.5 requires numpy<1.22.2,>=1.15.0, but you have numpy 1.23.5 which is incompatible.\r\n",
      "pymc3 3.11.5 requires scipy<1.8.0,>=1.7.3, but you have scipy 1.10.1 which is incompatible.\r\n",
      "ydata-profiling 4.1.2 requires scipy<1.10,>=1.4.1, but you have scipy 1.10.1 which is incompatible.\u001b[0m\u001b[31m\r\n",
      "\u001b[0mSuccessfully installed black-23.3.0 monotonic-1.6 packaging-23.1 pathspec-0.11.1 ploomber-core-0.2.13 posthog-3.0.1 sklearn-evaluation-0.12.0\r\n",
      "\u001b[33mWARNING: Running pip as the 'root' user can result in broken permissions and conflicting behaviour with the system package manager. It is recommended to use a virtual environment instead: https://pip.pypa.io/warnings/venv\u001b[0m\u001b[33m\r\n",
      "\u001b[0mNote: you may need to restart the kernel to use updated packages.\n"
     ]
    }
   ],
   "source": [
    "pip install sklearn-evaluation"
   ]
  },
  {
   "cell_type": "code",
   "execution_count": 69,
   "id": "cf257cf1",
   "metadata": {
    "execution": {
     "iopub.execute_input": "2023-06-29T15:16:36.475773Z",
     "iopub.status.busy": "2023-06-29T15:16:36.475432Z",
     "iopub.status.idle": "2023-06-29T15:16:37.239387Z",
     "shell.execute_reply": "2023-06-29T15:16:37.238510Z"
    },
    "papermill": {
     "duration": 0.791422,
     "end_time": "2023-06-29T15:16:37.241362",
     "exception": false,
     "start_time": "2023-06-29T15:16:36.449940",
     "status": "completed"
    },
    "tags": []
   },
   "outputs": [
    {
     "data": {
      "text/plain": [
       "<Axes: title={'center': 'Residuals Plot'}, xlabel='Predicted Value', ylabel='Residuals'>"
      ]
     },
     "execution_count": 69,
     "metadata": {},
     "output_type": "execute_result"
    },
    {
     "data": {
      "image/png": "[encoded data removed]",
      "text/plain": [
       "<Figure size 640x480 with 1 Axes>"
      ]
     },
     "metadata": {},
     "output_type": "display_data"
    }
   ],
   "source": [
    "from sklearn_evaluation import plot\n",
    "\n",
    "plot.residuals(y_test, y_pred)"
   ]
  },
  {
   "cell_type": "code",
   "execution_count": 70,
   "id": "9a11522e",
   "metadata": {
    "execution": {
     "iopub.execute_input": "2023-06-29T15:16:37.288844Z",
     "iopub.status.busy": "2023-06-29T15:16:37.288209Z",
     "iopub.status.idle": "2023-06-29T15:16:37.303383Z",
     "shell.execute_reply": "2023-06-29T15:16:37.301908Z"
    },
    "papermill": {
     "duration": 0.04212,
     "end_time": "2023-06-29T15:16:37.305766",
     "exception": false,
     "start_time": "2023-06-29T15:16:37.263646",
     "status": "completed"
    },
    "tags": []
   },
   "outputs": [],
   "source": [
    "dict_f_importance = dict(zip(rfr.feature_names_in_,rfr.feature_importances_))"
   ]
  },
  {
   "cell_type": "code",
   "execution_count": 71,
   "id": "cf575dfd",
   "metadata": {
    "execution": {
     "iopub.execute_input": "2023-06-29T15:16:37.355086Z",
     "iopub.status.busy": "2023-06-29T15:16:37.354706Z",
     "iopub.status.idle": "2023-06-29T15:16:37.663693Z",
     "shell.execute_reply": "2023-06-29T15:16:37.662300Z"
    },
    "papermill": {
     "duration": 0.336296,
     "end_time": "2023-06-29T15:16:37.666485",
     "exception": false,
     "start_time": "2023-06-29T15:16:37.330189",
     "status": "completed"
    },
    "tags": []
   },
   "outputs": [
    {
     "data": {
      "text/plain": [
       "<Axes: >"
      ]
     },
     "execution_count": 71,
     "metadata": {},
     "output_type": "execute_result"
    },
    {
     "data": {
      "image/png": "[encoded data removed]",
      "text/plain": [
       "<Figure size 640x480 with 1 Axes>"
      ]
     },
     "metadata": {},
     "output_type": "display_data"
    }
   ],
   "source": [
    "pd.Series(dict_f_importance).sort_values().plot(kind='bar')"
   ]
  },
  {
   "cell_type": "code",
   "execution_count": 72,
   "id": "752d21c9",
   "metadata": {
    "execution": {
     "iopub.execute_input": "2023-06-29T15:16:37.713814Z",
     "iopub.status.busy": "2023-06-29T15:16:37.712899Z",
     "iopub.status.idle": "2023-06-29T15:16:37.717296Z",
     "shell.execute_reply": "2023-06-29T15:16:37.716654Z"
    },
    "papermill": {
     "duration": 0.02983,
     "end_time": "2023-06-29T15:16:37.719057",
     "exception": false,
     "start_time": "2023-06-29T15:16:37.689227",
     "status": "completed"
    },
    "tags": []
   },
   "outputs": [],
   "source": [
    "from sklearn.model_selection import GridSearchCV"
   ]
  },
  {
   "cell_type": "code",
   "execution_count": 73,
   "id": "8d58a58c",
   "metadata": {
    "execution": {
     "iopub.execute_input": "2023-06-29T15:16:37.766048Z",
     "iopub.status.busy": "2023-06-29T15:16:37.765328Z",
     "iopub.status.idle": "2023-06-29T15:17:42.616685Z",
     "shell.execute_reply": "2023-06-29T15:17:42.615698Z"
    },
    "papermill": {
     "duration": 64.90036,
     "end_time": "2023-06-29T15:17:42.642030",
     "exception": false,
     "start_time": "2023-06-29T15:16:37.741670",
     "status": "completed"
    },
    "tags": []
   },
   "outputs": [
    {
     "name": "stdout",
     "output_type": "stream",
     "text": [
      "Best Parameters: {'max_depth': None, 'min_samples_leaf': 2, 'min_samples_split': 2, 'n_estimators': 300}\n",
      "Best Score: 0.7515784923192175\n"
     ]
    }
   ],
   "source": [
    "param_grid = {\n",
    "    'n_estimators': [100, 200, 300],  # Number of trees in the forest\n",
    "    'max_depth': [None, 5, 10],  # Maximum depth of each tree\n",
    "    'min_samples_split': [2, 5, 10],  # Minimum number of samples required to split an internal node\n",
    "    'min_samples_leaf': [1, 2, 4]  # Minimum number of samples required to be at a leaf node\n",
    "}\n",
    "\n",
    "# Create the GridSearchCV object\n",
    "grid_search = GridSearchCV(estimator=rfr, param_grid=param_grid, cv=5, n_jobs=-1)\n",
    "\n",
    "# Fit the GridSearchCV to the data\n",
    "grid_search.fit(X, y)\n",
    "\n",
    "# Print the best parameters and best score\n",
    "print(\"Best Parameters:\", grid_search.best_params_)\n",
    "print(\"Best Score:\", grid_search.best_score_)"
   ]
  },
  {
   "cell_type": "code",
   "execution_count": 74,
   "id": "eec1205c",
   "metadata": {
    "execution": {
     "iopub.execute_input": "2023-06-29T15:17:42.689402Z",
     "iopub.status.busy": "2023-06-29T15:17:42.688212Z",
     "iopub.status.idle": "2023-06-29T15:17:42.734080Z",
     "shell.execute_reply": "2023-06-29T15:17:42.733122Z"
    },
    "papermill": {
     "duration": 0.072874,
     "end_time": "2023-06-29T15:17:42.737318",
     "exception": false,
     "start_time": "2023-06-29T15:17:42.664444",
     "status": "completed"
    },
    "tags": []
   },
   "outputs": [
    {
     "name": "stdout",
     "output_type": "stream",
     "text": [
      "explained_variance:  0.9347\n",
      "mean_squared_log_error:  0.0214\n",
      "r2:  0.9347\n",
      "MAE:  110.5957\n",
      "MSE:  27051.453\n",
      "RMSE:  164.4733\n"
     ]
    }
   ],
   "source": [
    "y_pred_grid = grid_search.predict(X_test)\n",
    "regression_results(y_test, y_pred_grid)"
   ]
  },
  {
   "cell_type": "code",
   "execution_count": 75,
   "id": "c9699d93",
   "metadata": {
    "execution": {
     "iopub.execute_input": "2023-06-29T15:17:42.783376Z",
     "iopub.status.busy": "2023-06-29T15:17:42.782850Z",
     "iopub.status.idle": "2023-06-29T15:17:43.121690Z",
     "shell.execute_reply": "2023-06-29T15:17:43.120847Z"
    },
    "papermill": {
     "duration": 0.36451,
     "end_time": "2023-06-29T15:17:43.123959",
     "exception": false,
     "start_time": "2023-06-29T15:17:42.759449",
     "status": "completed"
    },
    "tags": []
   },
   "outputs": [
    {
     "data": {
      "text/plain": [
       "<Axes: title={'center': 'Residuals Plot'}, xlabel='Predicted Value', ylabel='Residuals'>"
      ]
     },
     "execution_count": 75,
     "metadata": {},
     "output_type": "execute_result"
    },
    {
     "data": {
      "image/png": "[encoded data removed]",
      "text/plain": [
       "<Figure size 640x480 with 1 Axes>"
      ]
     },
     "metadata": {},
     "output_type": "display_data"
    }
   ],
   "source": [
    "plot.residuals(y_test, y_pred_grid)"
   ]
  },
  {
   "cell_type": "code",
   "execution_count": 76,
   "id": "7ee53d92",
   "metadata": {
    "execution": {
     "iopub.execute_input": "2023-06-29T15:17:43.174245Z",
     "iopub.status.busy": "2023-06-29T15:17:43.173841Z",
     "iopub.status.idle": "2023-06-29T15:17:43.468192Z",
     "shell.execute_reply": "2023-06-29T15:17:43.466617Z"
    },
    "papermill": {
     "duration": 0.324086,
     "end_time": "2023-06-29T15:17:43.470940",
     "exception": false,
     "start_time": "2023-06-29T15:17:43.146854",
     "status": "completed"
    },
    "tags": []
   },
   "outputs": [
    {
     "data": {
      "text/plain": [
       "<Axes: >"
      ]
     },
     "execution_count": 76,
     "metadata": {},
     "output_type": "execute_result"
    },
    {
     "data": {
      "image/png": "[encoded data removed]",
      "text/plain": [
       "<Figure size 640x480 with 1 Axes>"
      ]
     },
     "metadata": {},
     "output_type": "display_data"
    }
   ],
   "source": [
    "grid_search.best_estimator_.feature_importances_\n",
    "\n",
    "dict_f_importance = dict(zip(grid_search.best_estimator_.feature_names_in_,grid_search.best_estimator_.feature_importances_))\n",
    "\n",
    "pd.Series(dict_f_importance).sort_values().plot(kind='bar')"
   ]
  }
 ],
 "metadata": {
  "kernelspec": {
   "display_name": "Python 3",
   "language": "python",
   "name": "python3"
  },
  "language_info": {
   "codemirror_mode": {
    "name": "ipython",
    "version": 3
   },
   "file_extension": ".py",
   "mimetype": "text/x-python",
   "name": "python",
   "nbconvert_exporter": "python",
   "pygments_lexer": "ipython3",
   "version": "3.10.10"
  },
  "papermill": {
   "default_parameters": {},
   "duration": 97.745083,
   "end_time": "2023-06-29T15:17:46.115575",
   "environment_variables": {},
   "exception": null,
   "input_path": "__notebook__.ipynb",
   "output_path": "__notebook__.ipynb",
   "parameters": {},
   "start_time": "2023-06-29T15:16:08.370492",
   "version": "2.4.0"
  }
 },
 "nbformat": 4,
 "nbformat_minor": 5
}
