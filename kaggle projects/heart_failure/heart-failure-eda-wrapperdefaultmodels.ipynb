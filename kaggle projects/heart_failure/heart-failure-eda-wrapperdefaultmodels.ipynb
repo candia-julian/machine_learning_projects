{
 "cells": [
  {
   "cell_type": "markdown",
   "id": "0289c233",
   "metadata": {
    "papermill": {
     "duration": 0.006568,
     "end_time": "2022-10-28T12:12:17.033029",
     "exception": false,
     "start_time": "2022-10-28T12:12:17.026461",
     "status": "completed"
    },
    "tags": []
   },
   "source": [
    "# Setup :)"
   ]
  },
  {
   "cell_type": "markdown",
   "id": "aa6e71cf",
   "metadata": {
    "papermill": {
     "duration": 0.005079,
     "end_time": "2022-10-28T12:12:17.043825",
     "exception": false,
     "start_time": "2022-10-28T12:12:17.038746",
     "status": "completed"
    },
    "tags": []
   },
   "source": [
    "## Paquetes"
   ]
  },
  {
   "cell_type": "code",
   "execution_count": 1,
   "id": "73bd8fdc",
   "metadata": {
    "execution": {
     "iopub.execute_input": "2022-10-28T12:12:17.056382Z",
     "iopub.status.busy": "2022-10-28T12:12:17.055895Z",
     "iopub.status.idle": "2022-10-28T12:12:19.278880Z",
     "shell.execute_reply": "2022-10-28T12:12:19.277370Z"
    },
    "papermill": {
     "duration": 2.233484,
     "end_time": "2022-10-28T12:12:19.282662",
     "exception": false,
     "start_time": "2022-10-28T12:12:17.049178",
     "status": "completed"
    },
    "tags": []
   },
   "outputs": [],
   "source": [
    "import pandas as pd\n",
    "import matplotlib.pyplot as plt\n",
    "import seaborn as sns\n",
    "import plotly.express as px\n",
    "%matplotlib inline"
   ]
  },
  {
   "cell_type": "markdown",
   "id": "0be81f5e",
   "metadata": {
    "papermill": {
     "duration": 0.005462,
     "end_time": "2022-10-28T12:12:19.294857",
     "exception": false,
     "start_time": "2022-10-28T12:12:19.289395",
     "status": "completed"
    },
    "tags": []
   },
   "source": [
    "## Colores"
   ]
  },
  {
   "cell_type": "markdown",
   "id": "9a5b53fc",
   "metadata": {
    "papermill": {
     "duration": 0.006137,
     "end_time": "2022-10-28T12:12:19.307222",
     "exception": false,
     "start_time": "2022-10-28T12:12:19.301085",
     "status": "completed"
    },
    "tags": []
   },
   "source": [
    "Generamos espacios de color para graficar utilizando https://www.sessions.edu/color-calculator/ para calcular colores complementarios a partir de un color de base y https://mycolor.space/ para calcular automaticamente la serie monocromática de colores. "
   ]
  },
  {
   "cell_type": "code",
   "execution_count": 2,
   "id": "9e0be465",
   "metadata": {
    "execution": {
     "iopub.execute_input": "2022-10-28T12:12:19.324759Z",
     "iopub.status.busy": "2022-10-28T12:12:19.324157Z",
     "iopub.status.idle": "2022-10-28T12:12:19.717428Z",
     "shell.execute_reply": "2022-10-28T12:12:19.709832Z"
    },
    "papermill": {
     "duration": 0.412572,
     "end_time": "2022-10-28T12:12:19.725674",
     "exception": false,
     "start_time": "2022-10-28T12:12:19.313102",
     "status": "completed"
    },
    "tags": []
   },
   "outputs": [
    {
     "data": {
      "image/png": "[encoded data removed]",
      "text/plain": [
       "<Figure size 360x72 with 1 Axes>"
      ]
     },
     "metadata": {
      "needs_background": "light"
     },
     "output_type": "display_data"
    },
    {
     "data": {
      "image/png": "[encoded data removed]",
      "text/plain": [
       "<Figure size 360x72 with 1 Axes>"
      ]
     },
     "metadata": {
      "needs_background": "light"
     },
     "output_type": "display_data"
    },
    {
     "data": {
      "image/png": "[encoded data removed]",
      "text/plain": [
       "<Figure size 360x72 with 1 Axes>"
      ]
     },
     "metadata": {
      "needs_background": "light"
     },
     "output_type": "display_data"
    }
   ],
   "source": [
    "colors_green = [\"#61C25E\",\"#379B3A\",\"#007615\",\"#005200\",\"#003000\"][::-1]\n",
    "colors_dark = [\"#1F1F1F\", \"#313131\", '#636363', '#AEAEAE', '#DADADA']\n",
    "colors_red = [\"#C25E62\",\"#A44349\",\"#862832\",\"#68081C\",\"#4C0000\"][::-1]\n",
    "sns.palplot(colors_green)\n",
    "sns.palplot(colors_red)\n",
    "sns.palplot(colors_dark)"
   ]
  },
  {
   "cell_type": "code",
   "execution_count": 3,
   "id": "2a94ee00",
   "metadata": {
    "execution": {
     "iopub.execute_input": "2022-10-28T12:12:19.769176Z",
     "iopub.status.busy": "2022-10-28T12:12:19.768349Z",
     "iopub.status.idle": "2022-10-28T12:12:19.798034Z",
     "shell.execute_reply": "2022-10-28T12:12:19.796257Z"
    },
    "papermill": {
     "duration": 0.046387,
     "end_time": "2022-10-28T12:12:19.802050",
     "exception": false,
     "start_time": "2022-10-28T12:12:19.755663",
     "status": "completed"
    },
    "tags": []
   },
   "outputs": [],
   "source": [
    "df = pd.read_csv('../input/heart-failure-clinical-data/heart_failure_clinical_records_dataset.csv')"
   ]
  },
  {
   "cell_type": "code",
   "execution_count": 4,
   "id": "5e439c04",
   "metadata": {
    "execution": {
     "iopub.execute_input": "2022-10-28T12:12:19.825196Z",
     "iopub.status.busy": "2022-10-28T12:12:19.824527Z",
     "iopub.status.idle": "2022-10-28T12:12:19.852590Z",
     "shell.execute_reply": "2022-10-28T12:12:19.850920Z"
    },
    "papermill": {
     "duration": 0.045358,
     "end_time": "2022-10-28T12:12:19.857717",
     "exception": false,
     "start_time": "2022-10-28T12:12:19.812359",
     "status": "completed"
    },
    "tags": []
   },
   "outputs": [
    {
     "data": {
      "text/html": [
       "<div>\n",
       "<style scoped>\n",
       "    .dataframe tbody tr th:only-of-type {\n",
       "        vertical-align: middle;\n",
       "    }\n",
       "\n",
       "    .dataframe tbody tr th {\n",
       "        vertical-align: top;\n",
       "    }\n",
       "\n",
       "    .dataframe thead th {\n",
       "        text-align: right;\n",
       "    }\n",
       "</style>\n",
       "<table border=\"1\" class=\"dataframe\">\n",
       "  <thead>\n",
       "    <tr style=\"text-align: right;\">\n",
       "      <th></th>\n",
       "      <th>age</th>\n",
       "      <th>anaemia</th>\n",
       "      <th>creatinine_phosphokinase</th>\n",
       "      <th>diabetes</th>\n",
       "      <th>ejection_fraction</th>\n",
       "      <th>high_blood_pressure</th>\n",
       "      <th>platelets</th>\n",
       "      <th>serum_creatinine</th>\n",
       "      <th>serum_sodium</th>\n",
       "      <th>sex</th>\n",
       "      <th>smoking</th>\n",
       "      <th>time</th>\n",
       "      <th>DEATH_EVENT</th>\n",
       "    </tr>\n",
       "  </thead>\n",
       "  <tbody>\n",
       "    <tr>\n",
       "      <th>0</th>\n",
       "      <td>75.0</td>\n",
       "      <td>0</td>\n",
       "      <td>582</td>\n",
       "      <td>0</td>\n",
       "      <td>20</td>\n",
       "      <td>1</td>\n",
       "      <td>265000.00</td>\n",
       "      <td>1.9</td>\n",
       "      <td>130</td>\n",
       "      <td>1</td>\n",
       "      <td>0</td>\n",
       "      <td>4</td>\n",
       "      <td>1</td>\n",
       "    </tr>\n",
       "    <tr>\n",
       "      <th>1</th>\n",
       "      <td>55.0</td>\n",
       "      <td>0</td>\n",
       "      <td>7861</td>\n",
       "      <td>0</td>\n",
       "      <td>38</td>\n",
       "      <td>0</td>\n",
       "      <td>263358.03</td>\n",
       "      <td>1.1</td>\n",
       "      <td>136</td>\n",
       "      <td>1</td>\n",
       "      <td>0</td>\n",
       "      <td>6</td>\n",
       "      <td>1</td>\n",
       "    </tr>\n",
       "    <tr>\n",
       "      <th>2</th>\n",
       "      <td>65.0</td>\n",
       "      <td>0</td>\n",
       "      <td>146</td>\n",
       "      <td>0</td>\n",
       "      <td>20</td>\n",
       "      <td>0</td>\n",
       "      <td>162000.00</td>\n",
       "      <td>1.3</td>\n",
       "      <td>129</td>\n",
       "      <td>1</td>\n",
       "      <td>1</td>\n",
       "      <td>7</td>\n",
       "      <td>1</td>\n",
       "    </tr>\n",
       "    <tr>\n",
       "      <th>3</th>\n",
       "      <td>50.0</td>\n",
       "      <td>1</td>\n",
       "      <td>111</td>\n",
       "      <td>0</td>\n",
       "      <td>20</td>\n",
       "      <td>0</td>\n",
       "      <td>210000.00</td>\n",
       "      <td>1.9</td>\n",
       "      <td>137</td>\n",
       "      <td>1</td>\n",
       "      <td>0</td>\n",
       "      <td>7</td>\n",
       "      <td>1</td>\n",
       "    </tr>\n",
       "    <tr>\n",
       "      <th>4</th>\n",
       "      <td>65.0</td>\n",
       "      <td>1</td>\n",
       "      <td>160</td>\n",
       "      <td>1</td>\n",
       "      <td>20</td>\n",
       "      <td>0</td>\n",
       "      <td>327000.00</td>\n",
       "      <td>2.7</td>\n",
       "      <td>116</td>\n",
       "      <td>0</td>\n",
       "      <td>0</td>\n",
       "      <td>8</td>\n",
       "      <td>1</td>\n",
       "    </tr>\n",
       "  </tbody>\n",
       "</table>\n",
       "</div>"
      ],
      "text/plain": [
       "    age  anaemia  creatinine_phosphokinase  diabetes  ejection_fraction  \\\n",
       "0  75.0        0                       582         0                 20   \n",
       "1  55.0        0                      7861         0                 38   \n",
       "2  65.0        0                       146         0                 20   \n",
       "3  50.0        1                       111         0                 20   \n",
       "4  65.0        1                       160         1                 20   \n",
       "\n",
       "   high_blood_pressure  platelets  serum_creatinine  serum_sodium  sex  \\\n",
       "0                    1  265000.00               1.9           130    1   \n",
       "1                    0  263358.03               1.1           136    1   \n",
       "2                    0  162000.00               1.3           129    1   \n",
       "3                    0  210000.00               1.9           137    1   \n",
       "4                    0  327000.00               2.7           116    0   \n",
       "\n",
       "   smoking  time  DEATH_EVENT  \n",
       "0        0     4            1  \n",
       "1        0     6            1  \n",
       "2        1     7            1  \n",
       "3        0     7            1  \n",
       "4        0     8            1  "
      ]
     },
     "execution_count": 4,
     "metadata": {},
     "output_type": "execute_result"
    }
   ],
   "source": [
    "df.head()"
   ]
  },
  {
   "cell_type": "code",
   "execution_count": 5,
   "id": "c904f8e5",
   "metadata": {
    "execution": {
     "iopub.execute_input": "2022-10-28T12:12:19.882505Z",
     "iopub.status.busy": "2022-10-28T12:12:19.881663Z",
     "iopub.status.idle": "2022-10-28T12:12:19.946873Z",
     "shell.execute_reply": "2022-10-28T12:12:19.945712Z"
    },
    "papermill": {
     "duration": 0.081221,
     "end_time": "2022-10-28T12:12:19.949851",
     "exception": false,
     "start_time": "2022-10-28T12:12:19.868630",
     "status": "completed"
    },
    "tags": []
   },
   "outputs": [
    {
     "data": {
      "text/html": [
       "<div>\n",
       "<style scoped>\n",
       "    .dataframe tbody tr th:only-of-type {\n",
       "        vertical-align: middle;\n",
       "    }\n",
       "\n",
       "    .dataframe tbody tr th {\n",
       "        vertical-align: top;\n",
       "    }\n",
       "\n",
       "    .dataframe thead th {\n",
       "        text-align: right;\n",
       "    }\n",
       "</style>\n",
       "<table border=\"1\" class=\"dataframe\">\n",
       "  <thead>\n",
       "    <tr style=\"text-align: right;\">\n",
       "      <th></th>\n",
       "      <th>count</th>\n",
       "      <th>mean</th>\n",
       "      <th>std</th>\n",
       "      <th>min</th>\n",
       "      <th>25%</th>\n",
       "      <th>50%</th>\n",
       "      <th>75%</th>\n",
       "      <th>max</th>\n",
       "    </tr>\n",
       "  </thead>\n",
       "  <tbody>\n",
       "    <tr>\n",
       "      <th>age</th>\n",
       "      <td>299.0</td>\n",
       "      <td>60.833893</td>\n",
       "      <td>11.894809</td>\n",
       "      <td>40.0</td>\n",
       "      <td>51.0</td>\n",
       "      <td>60.0</td>\n",
       "      <td>70.0</td>\n",
       "      <td>95.0</td>\n",
       "    </tr>\n",
       "    <tr>\n",
       "      <th>anaemia</th>\n",
       "      <td>299.0</td>\n",
       "      <td>0.431438</td>\n",
       "      <td>0.496107</td>\n",
       "      <td>0.0</td>\n",
       "      <td>0.0</td>\n",
       "      <td>0.0</td>\n",
       "      <td>1.0</td>\n",
       "      <td>1.0</td>\n",
       "    </tr>\n",
       "    <tr>\n",
       "      <th>creatinine_phosphokinase</th>\n",
       "      <td>299.0</td>\n",
       "      <td>581.839465</td>\n",
       "      <td>970.287881</td>\n",
       "      <td>23.0</td>\n",
       "      <td>116.5</td>\n",
       "      <td>250.0</td>\n",
       "      <td>582.0</td>\n",
       "      <td>7861.0</td>\n",
       "    </tr>\n",
       "    <tr>\n",
       "      <th>diabetes</th>\n",
       "      <td>299.0</td>\n",
       "      <td>0.418060</td>\n",
       "      <td>0.494067</td>\n",
       "      <td>0.0</td>\n",
       "      <td>0.0</td>\n",
       "      <td>0.0</td>\n",
       "      <td>1.0</td>\n",
       "      <td>1.0</td>\n",
       "    </tr>\n",
       "    <tr>\n",
       "      <th>ejection_fraction</th>\n",
       "      <td>299.0</td>\n",
       "      <td>38.083612</td>\n",
       "      <td>11.834841</td>\n",
       "      <td>14.0</td>\n",
       "      <td>30.0</td>\n",
       "      <td>38.0</td>\n",
       "      <td>45.0</td>\n",
       "      <td>80.0</td>\n",
       "    </tr>\n",
       "    <tr>\n",
       "      <th>high_blood_pressure</th>\n",
       "      <td>299.0</td>\n",
       "      <td>0.351171</td>\n",
       "      <td>0.478136</td>\n",
       "      <td>0.0</td>\n",
       "      <td>0.0</td>\n",
       "      <td>0.0</td>\n",
       "      <td>1.0</td>\n",
       "      <td>1.0</td>\n",
       "    </tr>\n",
       "    <tr>\n",
       "      <th>platelets</th>\n",
       "      <td>299.0</td>\n",
       "      <td>263358.029264</td>\n",
       "      <td>97804.236869</td>\n",
       "      <td>25100.0</td>\n",
       "      <td>212500.0</td>\n",
       "      <td>262000.0</td>\n",
       "      <td>303500.0</td>\n",
       "      <td>850000.0</td>\n",
       "    </tr>\n",
       "    <tr>\n",
       "      <th>serum_creatinine</th>\n",
       "      <td>299.0</td>\n",
       "      <td>1.393880</td>\n",
       "      <td>1.034510</td>\n",
       "      <td>0.5</td>\n",
       "      <td>0.9</td>\n",
       "      <td>1.1</td>\n",
       "      <td>1.4</td>\n",
       "      <td>9.4</td>\n",
       "    </tr>\n",
       "    <tr>\n",
       "      <th>serum_sodium</th>\n",
       "      <td>299.0</td>\n",
       "      <td>136.625418</td>\n",
       "      <td>4.412477</td>\n",
       "      <td>113.0</td>\n",
       "      <td>134.0</td>\n",
       "      <td>137.0</td>\n",
       "      <td>140.0</td>\n",
       "      <td>148.0</td>\n",
       "    </tr>\n",
       "    <tr>\n",
       "      <th>sex</th>\n",
       "      <td>299.0</td>\n",
       "      <td>0.648829</td>\n",
       "      <td>0.478136</td>\n",
       "      <td>0.0</td>\n",
       "      <td>0.0</td>\n",
       "      <td>1.0</td>\n",
       "      <td>1.0</td>\n",
       "      <td>1.0</td>\n",
       "    </tr>\n",
       "    <tr>\n",
       "      <th>smoking</th>\n",
       "      <td>299.0</td>\n",
       "      <td>0.321070</td>\n",
       "      <td>0.467670</td>\n",
       "      <td>0.0</td>\n",
       "      <td>0.0</td>\n",
       "      <td>0.0</td>\n",
       "      <td>1.0</td>\n",
       "      <td>1.0</td>\n",
       "    </tr>\n",
       "    <tr>\n",
       "      <th>time</th>\n",
       "      <td>299.0</td>\n",
       "      <td>130.260870</td>\n",
       "      <td>77.614208</td>\n",
       "      <td>4.0</td>\n",
       "      <td>73.0</td>\n",
       "      <td>115.0</td>\n",
       "      <td>203.0</td>\n",
       "      <td>285.0</td>\n",
       "    </tr>\n",
       "    <tr>\n",
       "      <th>DEATH_EVENT</th>\n",
       "      <td>299.0</td>\n",
       "      <td>0.321070</td>\n",
       "      <td>0.467670</td>\n",
       "      <td>0.0</td>\n",
       "      <td>0.0</td>\n",
       "      <td>0.0</td>\n",
       "      <td>1.0</td>\n",
       "      <td>1.0</td>\n",
       "    </tr>\n",
       "  </tbody>\n",
       "</table>\n",
       "</div>"
      ],
      "text/plain": [
       "                          count           mean           std      min  \\\n",
       "age                       299.0      60.833893     11.894809     40.0   \n",
       "anaemia                   299.0       0.431438      0.496107      0.0   \n",
       "creatinine_phosphokinase  299.0     581.839465    970.287881     23.0   \n",
       "diabetes                  299.0       0.418060      0.494067      0.0   \n",
       "ejection_fraction         299.0      38.083612     11.834841     14.0   \n",
       "high_blood_pressure       299.0       0.351171      0.478136      0.0   \n",
       "platelets                 299.0  263358.029264  97804.236869  25100.0   \n",
       "serum_creatinine          299.0       1.393880      1.034510      0.5   \n",
       "serum_sodium              299.0     136.625418      4.412477    113.0   \n",
       "sex                       299.0       0.648829      0.478136      0.0   \n",
       "smoking                   299.0       0.321070      0.467670      0.0   \n",
       "time                      299.0     130.260870     77.614208      4.0   \n",
       "DEATH_EVENT               299.0       0.321070      0.467670      0.0   \n",
       "\n",
       "                               25%       50%       75%       max  \n",
       "age                           51.0      60.0      70.0      95.0  \n",
       "anaemia                        0.0       0.0       1.0       1.0  \n",
       "creatinine_phosphokinase     116.5     250.0     582.0    7861.0  \n",
       "diabetes                       0.0       0.0       1.0       1.0  \n",
       "ejection_fraction             30.0      38.0      45.0      80.0  \n",
       "high_blood_pressure            0.0       0.0       1.0       1.0  \n",
       "platelets                 212500.0  262000.0  303500.0  850000.0  \n",
       "serum_creatinine               0.9       1.1       1.4       9.4  \n",
       "serum_sodium                 134.0     137.0     140.0     148.0  \n",
       "sex                            0.0       1.0       1.0       1.0  \n",
       "smoking                        0.0       0.0       1.0       1.0  \n",
       "time                          73.0     115.0     203.0     285.0  \n",
       "DEATH_EVENT                    0.0       0.0       1.0       1.0  "
      ]
     },
     "execution_count": 5,
     "metadata": {},
     "output_type": "execute_result"
    }
   ],
   "source": [
    "df.describe().T"
   ]
  },
  {
   "cell_type": "code",
   "execution_count": 6,
   "id": "9f2f1c90",
   "metadata": {
    "execution": {
     "iopub.execute_input": "2022-10-28T12:12:19.972256Z",
     "iopub.status.busy": "2022-10-28T12:12:19.971549Z",
     "iopub.status.idle": "2022-10-28T12:12:19.989832Z",
     "shell.execute_reply": "2022-10-28T12:12:19.988687Z"
    },
    "papermill": {
     "duration": 0.035739,
     "end_time": "2022-10-28T12:12:19.995588",
     "exception": false,
     "start_time": "2022-10-28T12:12:19.959849",
     "status": "completed"
    },
    "tags": []
   },
   "outputs": [
    {
     "name": "stdout",
     "output_type": "stream",
     "text": [
      "<class 'pandas.core.frame.DataFrame'>\n",
      "RangeIndex: 299 entries, 0 to 298\n",
      "Data columns (total 13 columns):\n",
      " #   Column                    Non-Null Count  Dtype  \n",
      "---  ------                    --------------  -----  \n",
      " 0   age                       299 non-null    float64\n",
      " 1   anaemia                   299 non-null    int64  \n",
      " 2   creatinine_phosphokinase  299 non-null    int64  \n",
      " 3   diabetes                  299 non-null    int64  \n",
      " 4   ejection_fraction         299 non-null    int64  \n",
      " 5   high_blood_pressure       299 non-null    int64  \n",
      " 6   platelets                 299 non-null    float64\n",
      " 7   serum_creatinine          299 non-null    float64\n",
      " 8   serum_sodium              299 non-null    int64  \n",
      " 9   sex                       299 non-null    int64  \n",
      " 10  smoking                   299 non-null    int64  \n",
      " 11  time                      299 non-null    int64  \n",
      " 12  DEATH_EVENT               299 non-null    int64  \n",
      "dtypes: float64(3), int64(10)\n",
      "memory usage: 30.5 KB\n"
     ]
    }
   ],
   "source": [
    "df.info()"
   ]
  },
  {
   "cell_type": "code",
   "execution_count": 7,
   "id": "c839910f",
   "metadata": {
    "execution": {
     "iopub.execute_input": "2022-10-28T12:12:20.015805Z",
     "iopub.status.busy": "2022-10-28T12:12:20.014868Z",
     "iopub.status.idle": "2022-10-28T12:12:20.031829Z",
     "shell.execute_reply": "2022-10-28T12:12:20.030359Z"
    },
    "papermill": {
     "duration": 0.029058,
     "end_time": "2022-10-28T12:12:20.035247",
     "exception": false,
     "start_time": "2022-10-28T12:12:20.006189",
     "status": "completed"
    },
    "tags": []
   },
   "outputs": [
    {
     "name": "stdout",
     "output_type": "stream",
     "text": [
      "Las variables binarias son:  anaemia, diabetes, high_blood_pressure, sex, smoking, DEATH_EVENT \n",
      "------------------------------------------------------------------------------------------------------------------------------------------------------\n",
      " Las variables no binarias son:  age, creatinine_phosphokinase, ejection_fraction, platelets, serum_creatinine, serum_sodium, time\n"
     ]
    }
   ],
   "source": [
    "lista_bin,lista_nobin = [],[]\n",
    "for i in df.columns:\n",
    "    if len(df[f'{i}'].value_counts())==2:\n",
    "        lista_bin.append(i)\n",
    "    else:\n",
    "        lista_nobin.append(i)\n",
    "else:\n",
    "    print('Las variables binarias son: ',', '.join(lista_bin),'\\n'+'-'*150+'\\n','Las variables no binarias son: ',', '.join(lista_nobin))"
   ]
  },
  {
   "cell_type": "code",
   "execution_count": 8,
   "id": "694db015",
   "metadata": {
    "execution": {
     "iopub.execute_input": "2022-10-28T12:12:20.051550Z",
     "iopub.status.busy": "2022-10-28T12:12:20.050720Z",
     "iopub.status.idle": "2022-10-28T12:12:20.059758Z",
     "shell.execute_reply": "2022-10-28T12:12:20.058751Z"
    },
    "papermill": {
     "duration": 0.020049,
     "end_time": "2022-10-28T12:12:20.062247",
     "exception": false,
     "start_time": "2022-10-28T12:12:20.042198",
     "status": "completed"
    },
    "tags": []
   },
   "outputs": [
    {
     "data": {
      "text/plain": [
       "0    203\n",
       "1     96\n",
       "Name: DEATH_EVENT, dtype: int64"
      ]
     },
     "execution_count": 8,
     "metadata": {},
     "output_type": "execute_result"
    }
   ],
   "source": [
    "df['DEATH_EVENT'].value_counts()"
   ]
  },
  {
   "cell_type": "code",
   "execution_count": 9,
   "id": "a4e1da51",
   "metadata": {
    "execution": {
     "iopub.execute_input": "2022-10-28T12:12:20.078534Z",
     "iopub.status.busy": "2022-10-28T12:12:20.077660Z",
     "iopub.status.idle": "2022-10-28T12:12:21.239847Z",
     "shell.execute_reply": "2022-10-28T12:12:21.238762Z"
    },
    "papermill": {
     "duration": 1.173075,
     "end_time": "2022-10-28T12:12:21.242259",
     "exception": false,
     "start_time": "2022-10-28T12:12:20.069184",
     "status": "completed"
    },
    "tags": []
   },
   "outputs": [
    {
     "data": {
      "text/html": [
       "        <script type=\"text/javascript\">\n",
       "        window.PlotlyConfig = {MathJaxConfig: 'local'};\n",
       "        if (window.MathJax && window.MathJax.Hub && window.MathJax.Hub.Config) {window.MathJax.Hub.Config({SVG: {font: \"STIX-Web\"}});}\n",
       "        if (typeof require !== 'undefined') {\n",
       "        require.undef(\"plotly\");\n",
       "        requirejs.config({\n",
       "            paths: {\n",
       "                'plotly': ['https://cdn.plot.ly/plotly-2.14.0.min']\n",
       "            }\n",
       "        });\n",
       "        require(['plotly'], function(Plotly) {\n",
       "            window._Plotly = Plotly;\n",
       "        });\n",
       "        }\n",
       "        </script>\n",
       "        "
      ]
     },
     "metadata": {},
     "output_type": "display_data"
    },
    {
     "data": {
      "text/html": [
       "<div>                            <div id=\"104c6830-178a-4857-9d22-98625acf718f\" class=\"plotly-graph-div\" style=\"height:525px; width:100%;\"></div>            <script type=\"text/javascript\">                require([\"plotly\"], function(Plotly) {                    window.PLOTLYENV=window.PLOTLYENV || {};                                    if (document.getElementById(\"104c6830-178a-4857-9d22-98625acf718f\")) {                    Plotly.newPlot(                        \"104c6830-178a-4857-9d22-98625acf718f\",                        [{\"domain\":{\"x\":[0.0,1.0],\"y\":[0.0,1.0]},\"hole\":0.4,\"hovertemplate\":\"label=%{label}<br>DEATH_EVENT=%{value}<extra></extra>\",\"labels\":[\"Muerte\",\"No-muerte\"],\"legendgroup\":\"\",\"name\":\"\",\"opacity\":0.6,\"showlegend\":true,\"values\":[203,96],\"type\":\"pie\",\"textinfo\":\"percent+label\",\"textposition\":\"outside\"}],                        {\"template\":{\"data\":{\"histogram2dcontour\":[{\"type\":\"histogram2dcontour\",\"colorbar\":{\"outlinewidth\":0,\"ticks\":\"\"},\"colorscale\":[[0.0,\"#0d0887\"],[0.1111111111111111,\"#46039f\"],[0.2222222222222222,\"#7201a8\"],[0.3333333333333333,\"#9c179e\"],[0.4444444444444444,\"#bd3786\"],[0.5555555555555556,\"#d8576b\"],[0.6666666666666666,\"#ed7953\"],[0.7777777777777778,\"#fb9f3a\"],[0.8888888888888888,\"#fdca26\"],[1.0,\"#f0f921\"]]}],\"choropleth\":[{\"type\":\"choropleth\",\"colorbar\":{\"outlinewidth\":0,\"ticks\":\"\"}}],\"histogram2d\":[{\"type\":\"histogram2d\",\"colorbar\":{\"outlinewidth\":0,\"ticks\":\"\"},\"colorscale\":[[0.0,\"#0d0887\"],[0.1111111111111111,\"#46039f\"],[0.2222222222222222,\"#7201a8\"],[0.3333333333333333,\"#9c179e\"],[0.4444444444444444,\"#bd3786\"],[0.5555555555555556,\"#d8576b\"],[0.6666666666666666,\"#ed7953\"],[0.7777777777777778,\"#fb9f3a\"],[0.8888888888888888,\"#fdca26\"],[1.0,\"#f0f921\"]]}],\"heatmap\":[{\"type\":\"heatmap\",\"colorbar\":{\"outlinewidth\":0,\"ticks\":\"\"},\"colorscale\":[[0.0,\"#0d0887\"],[0.1111111111111111,\"#46039f\"],[0.2222222222222222,\"#7201a8\"],[0.3333333333333333,\"#9c179e\"],[0.4444444444444444,\"#bd3786\"],[0.5555555555555556,\"#d8576b\"],[0.6666666666666666,\"#ed7953\"],[0.7777777777777778,\"#fb9f3a\"],[0.8888888888888888,\"#fdca26\"],[1.0,\"#f0f921\"]]}],\"heatmapgl\":[{\"type\":\"heatmapgl\",\"colorbar\":{\"outlinewidth\":0,\"ticks\":\"\"},\"colorscale\":[[0.0,\"#0d0887\"],[0.1111111111111111,\"#46039f\"],[0.2222222222222222,\"#7201a8\"],[0.3333333333333333,\"#9c179e\"],[0.4444444444444444,\"#bd3786\"],[0.5555555555555556,\"#d8576b\"],[0.6666666666666666,\"#ed7953\"],[0.7777777777777778,\"#fb9f3a\"],[0.8888888888888888,\"#fdca26\"],[1.0,\"#f0f921\"]]}],\"contourcarpet\":[{\"type\":\"contourcarpet\",\"colorbar\":{\"outlinewidth\":0,\"ticks\":\"\"}}],\"contour\":[{\"type\":\"contour\",\"colorbar\":{\"outlinewidth\":0,\"ticks\":\"\"},\"colorscale\":[[0.0,\"#0d0887\"],[0.1111111111111111,\"#46039f\"],[0.2222222222222222,\"#7201a8\"],[0.3333333333333333,\"#9c179e\"],[0.4444444444444444,\"#bd3786\"],[0.5555555555555556,\"#d8576b\"],[0.6666666666666666,\"#ed7953\"],[0.7777777777777778,\"#fb9f3a\"],[0.8888888888888888,\"#fdca26\"],[1.0,\"#f0f921\"]]}],\"surface\":[{\"type\":\"surface\",\"colorbar\":{\"outlinewidth\":0,\"ticks\":\"\"},\"colorscale\":[[0.0,\"#0d0887\"],[0.1111111111111111,\"#46039f\"],[0.2222222222222222,\"#7201a8\"],[0.3333333333333333,\"#9c179e\"],[0.4444444444444444,\"#bd3786\"],[0.5555555555555556,\"#d8576b\"],[0.6666666666666666,\"#ed7953\"],[0.7777777777777778,\"#fb9f3a\"],[0.8888888888888888,\"#fdca26\"],[1.0,\"#f0f921\"]]}],\"mesh3d\":[{\"type\":\"mesh3d\",\"colorbar\":{\"outlinewidth\":0,\"ticks\":\"\"}}],\"scatter\":[{\"fillpattern\":{\"fillmode\":\"overlay\",\"size\":10,\"solidity\":0.2},\"type\":\"scatter\"}],\"parcoords\":[{\"type\":\"parcoords\",\"line\":{\"colorbar\":{\"outlinewidth\":0,\"ticks\":\"\"}}}],\"scatterpolargl\":[{\"type\":\"scatterpolargl\",\"marker\":{\"colorbar\":{\"outlinewidth\":0,\"ticks\":\"\"}}}],\"bar\":[{\"error_x\":{\"color\":\"#2a3f5f\"},\"error_y\":{\"color\":\"#2a3f5f\"},\"marker\":{\"line\":{\"color\":\"#E5ECF6\",\"width\":0.5},\"pattern\":{\"fillmode\":\"overlay\",\"size\":10,\"solidity\":0.2}},\"type\":\"bar\"}],\"scattergeo\":[{\"type\":\"scattergeo\",\"marker\":{\"colorbar\":{\"outlinewidth\":0,\"ticks\":\"\"}}}],\"scatterpolar\":[{\"type\":\"scatterpolar\",\"marker\":{\"colorbar\":{\"outlinewidth\":0,\"ticks\":\"\"}}}],\"histogram\":[{\"marker\":{\"pattern\":{\"fillmode\":\"overlay\",\"size\":10,\"solidity\":0.2}},\"type\":\"histogram\"}],\"scattergl\":[{\"type\":\"scattergl\",\"marker\":{\"colorbar\":{\"outlinewidth\":0,\"ticks\":\"\"}}}],\"scatter3d\":[{\"type\":\"scatter3d\",\"line\":{\"colorbar\":{\"outlinewidth\":0,\"ticks\":\"\"}},\"marker\":{\"colorbar\":{\"outlinewidth\":0,\"ticks\":\"\"}}}],\"scattermapbox\":[{\"type\":\"scattermapbox\",\"marker\":{\"colorbar\":{\"outlinewidth\":0,\"ticks\":\"\"}}}],\"scatterternary\":[{\"type\":\"scatterternary\",\"marker\":{\"colorbar\":{\"outlinewidth\":0,\"ticks\":\"\"}}}],\"scattercarpet\":[{\"type\":\"scattercarpet\",\"marker\":{\"colorbar\":{\"outlinewidth\":0,\"ticks\":\"\"}}}],\"carpet\":[{\"aaxis\":{\"endlinecolor\":\"#2a3f5f\",\"gridcolor\":\"white\",\"linecolor\":\"white\",\"minorgridcolor\":\"white\",\"startlinecolor\":\"#2a3f5f\"},\"baxis\":{\"endlinecolor\":\"#2a3f5f\",\"gridcolor\":\"white\",\"linecolor\":\"white\",\"minorgridcolor\":\"white\",\"startlinecolor\":\"#2a3f5f\"},\"type\":\"carpet\"}],\"table\":[{\"cells\":{\"fill\":{\"color\":\"#EBF0F8\"},\"line\":{\"color\":\"white\"}},\"header\":{\"fill\":{\"color\":\"#C8D4E3\"},\"line\":{\"color\":\"white\"}},\"type\":\"table\"}],\"barpolar\":[{\"marker\":{\"line\":{\"color\":\"#E5ECF6\",\"width\":0.5},\"pattern\":{\"fillmode\":\"overlay\",\"size\":10,\"solidity\":0.2}},\"type\":\"barpolar\"}],\"pie\":[{\"automargin\":true,\"type\":\"pie\"}]},\"layout\":{\"autotypenumbers\":\"strict\",\"colorway\":[\"#636efa\",\"#EF553B\",\"#00cc96\",\"#ab63fa\",\"#FFA15A\",\"#19d3f3\",\"#FF6692\",\"#B6E880\",\"#FF97FF\",\"#FECB52\"],\"font\":{\"color\":\"#2a3f5f\"},\"hovermode\":\"closest\",\"hoverlabel\":{\"align\":\"left\"},\"paper_bgcolor\":\"white\",\"plot_bgcolor\":\"#E5ECF6\",\"polar\":{\"bgcolor\":\"#E5ECF6\",\"angularaxis\":{\"gridcolor\":\"white\",\"linecolor\":\"white\",\"ticks\":\"\"},\"radialaxis\":{\"gridcolor\":\"white\",\"linecolor\":\"white\",\"ticks\":\"\"}},\"ternary\":{\"bgcolor\":\"#E5ECF6\",\"aaxis\":{\"gridcolor\":\"white\",\"linecolor\":\"white\",\"ticks\":\"\"},\"baxis\":{\"gridcolor\":\"white\",\"linecolor\":\"white\",\"ticks\":\"\"},\"caxis\":{\"gridcolor\":\"white\",\"linecolor\":\"white\",\"ticks\":\"\"}},\"coloraxis\":{\"colorbar\":{\"outlinewidth\":0,\"ticks\":\"\"}},\"colorscale\":{\"sequential\":[[0.0,\"#0d0887\"],[0.1111111111111111,\"#46039f\"],[0.2222222222222222,\"#7201a8\"],[0.3333333333333333,\"#9c179e\"],[0.4444444444444444,\"#bd3786\"],[0.5555555555555556,\"#d8576b\"],[0.6666666666666666,\"#ed7953\"],[0.7777777777777778,\"#fb9f3a\"],[0.8888888888888888,\"#fdca26\"],[1.0,\"#f0f921\"]],\"sequentialminus\":[[0.0,\"#0d0887\"],[0.1111111111111111,\"#46039f\"],[0.2222222222222222,\"#7201a8\"],[0.3333333333333333,\"#9c179e\"],[0.4444444444444444,\"#bd3786\"],[0.5555555555555556,\"#d8576b\"],[0.6666666666666666,\"#ed7953\"],[0.7777777777777778,\"#fb9f3a\"],[0.8888888888888888,\"#fdca26\"],[1.0,\"#f0f921\"]],\"diverging\":[[0,\"#8e0152\"],[0.1,\"#c51b7d\"],[0.2,\"#de77ae\"],[0.3,\"#f1b6da\"],[0.4,\"#fde0ef\"],[0.5,\"#f7f7f7\"],[0.6,\"#e6f5d0\"],[0.7,\"#b8e186\"],[0.8,\"#7fbc41\"],[0.9,\"#4d9221\"],[1,\"#276419\"]]},\"xaxis\":{\"gridcolor\":\"white\",\"linecolor\":\"white\",\"ticks\":\"\",\"title\":{\"standoff\":15},\"zerolinecolor\":\"white\",\"automargin\":true,\"zerolinewidth\":2},\"yaxis\":{\"gridcolor\":\"white\",\"linecolor\":\"white\",\"ticks\":\"\",\"title\":{\"standoff\":15},\"zerolinecolor\":\"white\",\"automargin\":true,\"zerolinewidth\":2},\"scene\":{\"xaxis\":{\"backgroundcolor\":\"#E5ECF6\",\"gridcolor\":\"white\",\"linecolor\":\"white\",\"showbackground\":true,\"ticks\":\"\",\"zerolinecolor\":\"white\",\"gridwidth\":2},\"yaxis\":{\"backgroundcolor\":\"#E5ECF6\",\"gridcolor\":\"white\",\"linecolor\":\"white\",\"showbackground\":true,\"ticks\":\"\",\"zerolinecolor\":\"white\",\"gridwidth\":2},\"zaxis\":{\"backgroundcolor\":\"#E5ECF6\",\"gridcolor\":\"white\",\"linecolor\":\"white\",\"showbackground\":true,\"ticks\":\"\",\"zerolinecolor\":\"white\",\"gridwidth\":2}},\"shapedefaults\":{\"line\":{\"color\":\"#2a3f5f\"}},\"annotationdefaults\":{\"arrowcolor\":\"#2a3f5f\",\"arrowhead\":0,\"arrowwidth\":1},\"geo\":{\"bgcolor\":\"white\",\"landcolor\":\"#E5ECF6\",\"subunitcolor\":\"white\",\"showland\":true,\"showlakes\":true,\"lakecolor\":\"white\"},\"title\":{\"x\":0.05},\"mapbox\":{\"style\":\"light\"}}},\"legend\":{\"tracegroupgap\":0,\"x\":0.37,\"y\":-0.05,\"orientation\":\"h\",\"traceorder\":\"reversed\"},\"margin\":{\"t\":60},\"piecolorway\":[\"#A44349\",\"#379B3A\"],\"annotations\":[{\"font\":{\"family\":\"monospace\",\"size\":12},\"opacity\":0.7,\"showarrow\":false,\"text\":\"El data-set esta desbalanceado\",\"x\":1.2,\"y\":0.9},{\"font\":{\"family\":\"monospace\",\"size\":14},\"opacity\":0.7,\"showarrow\":false,\"text\":\"Mortalidad\",\"x\":0.5,\"y\":0.5}],\"font\":{\"family\":\"monospace\"},\"title\":{\"font\":{\"color\":\"#AEAEAE\",\"size\":20},\"text\":\"Q.Cuantos pacientes murieron ante la urgencia?\",\"x\":0.47,\"y\":0.98},\"hoverlabel\":{\"bgcolor\":\"#C25E62\"}},                        {\"responsive\": true}                    ).then(function(){\n",
       "                            \n",
       "var gd = document.getElementById('104c6830-178a-4857-9d22-98625acf718f');\n",
       "var x = new MutationObserver(function (mutations, observer) {{\n",
       "        var display = window.getComputedStyle(gd).display;\n",
       "        if (!display || display === 'none') {{\n",
       "            console.log([gd, 'removed!']);\n",
       "            Plotly.purge(gd);\n",
       "            observer.disconnect();\n",
       "        }}\n",
       "}});\n",
       "\n",
       "// Listen for the removal of the full notebook cells\n",
       "var notebookContainer = gd.closest('#notebook-container');\n",
       "if (notebookContainer) {{\n",
       "    x.observe(notebookContainer, {childList: true});\n",
       "}}\n",
       "\n",
       "// Listen for the clearing of the current output cell\n",
       "var outputEl = gd.closest('.output');\n",
       "if (outputEl) {{\n",
       "    x.observe(outputEl, {childList: true});\n",
       "}}\n",
       "\n",
       "                        })                };                });            </script>        </div>"
      ]
     },
     "metadata": {},
     "output_type": "display_data"
    }
   ],
   "source": [
    "d= pd.DataFrame(df['DEATH_EVENT'].value_counts())\n",
    "fig = px.pie(d,values='DEATH_EVENT',names=['Muerte','No-muerte'],hole=0.4,opacity=0.6,\n",
    "            color_discrete_sequence=[colors_red[3],colors_green[3]],\n",
    "             labels={'label':'Potabilidad','Potabilidad':'No. de muestras'})\n",
    "\n",
    "fig.add_annotation(text='El data-set esta desbalanceado',\n",
    "                   x=1.2,y=0.9,showarrow=False,font_size=12,opacity=0.7,font_family='monospace')\n",
    "fig.add_annotation(text='Mortalidad',\n",
    "                   x=0.5,y=0.5,showarrow=False,font_size=14,opacity=0.7,font_family='monospace')\n",
    "\n",
    "fig.update_layout(\n",
    "    font_family='monospace',\n",
    "    title=dict(text='Q.Cuantos pacientes murieron ante la urgencia?',x=0.47,y=0.98,\n",
    "               font=dict(color=colors_dark[3],size=20)),\n",
    "    legend=dict(x=0.37,y=-0.05,orientation='h',traceorder='reversed'),\n",
    "    hoverlabel=dict(bgcolor=colors_red[-1]))\n",
    "\n",
    "fig.update_traces(textposition='outside', textinfo='percent+label')\n",
    "\n",
    "fig.show()"
   ]
  },
  {
   "cell_type": "code",
   "execution_count": 10,
   "id": "90ab601b",
   "metadata": {
    "execution": {
     "iopub.execute_input": "2022-10-28T12:12:21.258350Z",
     "iopub.status.busy": "2022-10-28T12:12:21.257932Z",
     "iopub.status.idle": "2022-10-28T12:12:21.267123Z",
     "shell.execute_reply": "2022-10-28T12:12:21.266102Z"
    },
    "papermill": {
     "duration": 0.02002,
     "end_time": "2022-10-28T12:12:21.269511",
     "exception": false,
     "start_time": "2022-10-28T12:12:21.249491",
     "status": "completed"
    },
    "tags": []
   },
   "outputs": [],
   "source": [
    "def histo_comp(df,variable,categor='DEATH_EVENT',titulo='Acá va un titulo',nbins=100):\n",
    "        \"\"\"Función para crear un histograma+diagram de caja, usando plotly, a partir de una variable y\n",
    "        categorizada por default usando eventos positivos(1) y negativos(0) \n",
    "\n",
    "    Args:\n",
    "        df (DataFrame): datos\n",
    "        variable (Series): variable a graficar\n",
    "        categor(str)= Categoria para segmentar los datos\n",
    "        titulo (str, optional): Reemplazar por el nombre de la variable. Defaults to 'Acá va un titulo'.\n",
    "        nbins (int, optional): Cantidad de columnas del histograma. Defaults to 100.\n",
    "    \"\"\"\n",
    "        fig = px.histogram(df,x=variable,color=categor,template='ggplot2',\n",
    "                  marginal='box',opacity=0.7,nbins=nbins,color_discrete_sequence=[colors_red[3],colors_green[3]],\n",
    "                  barmode='group',histfunc='count')\n",
    "\n",
    "        fig.update_layout(\n",
    "        font_family='monospace',\n",
    "        title=dict(text=titulo,x=0.53,y=0.95,\n",
    "                   font=dict(color=colors_dark[2],size=20)),\n",
    "        xaxis_title_text=f'{titulo}',\n",
    "        yaxis_title_text='Count',\n",
    "        legend=dict(x=1,y=0.96,bordercolor=colors_dark[4],borderwidth=0,tracegroupgap=5),\n",
    "        bargap=0.1,\n",
    "        )\n",
    "        fig.show()\n",
    "\n"
   ]
  },
  {
   "cell_type": "markdown",
   "id": "63e40fb0",
   "metadata": {
    "papermill": {
     "duration": 0.00671,
     "end_time": "2022-10-28T12:12:21.283418",
     "exception": false,
     "start_time": "2022-10-28T12:12:21.276708",
     "status": "completed"
    },
    "tags": []
   },
   "source": [
    "## Análisis de variables no binarias respecto a la mortalidad de la emergencia"
   ]
  },
  {
   "cell_type": "code",
   "execution_count": 11,
   "id": "a90453f3",
   "metadata": {
    "execution": {
     "iopub.execute_input": "2022-10-28T12:12:21.299172Z",
     "iopub.status.busy": "2022-10-28T12:12:21.298796Z",
     "iopub.status.idle": "2022-10-28T12:12:21.305499Z",
     "shell.execute_reply": "2022-10-28T12:12:21.304699Z"
    },
    "papermill": {
     "duration": 0.017133,
     "end_time": "2022-10-28T12:12:21.307605",
     "exception": false,
     "start_time": "2022-10-28T12:12:21.290472",
     "status": "completed"
    },
    "tags": []
   },
   "outputs": [
    {
     "data": {
      "text/plain": [
       "['age',\n",
       " 'creatinine_phosphokinase',\n",
       " 'ejection_fraction',\n",
       " 'platelets',\n",
       " 'serum_creatinine',\n",
       " 'serum_sodium',\n",
       " 'time']"
      ]
     },
     "execution_count": 11,
     "metadata": {},
     "output_type": "execute_result"
    }
   ],
   "source": [
    "lista_nobin"
   ]
  },
  {
   "cell_type": "markdown",
   "id": "f6e339e9",
   "metadata": {
    "papermill": {
     "duration": 0.007281,
     "end_time": "2022-10-28T12:12:21.322586",
     "exception": false,
     "start_time": "2022-10-28T12:12:21.315305",
     "status": "completed"
    },
    "tags": []
   },
   "source": [
    "### Edad"
   ]
  },
  {
   "cell_type": "code",
   "execution_count": 12,
   "id": "6fbbbf4d",
   "metadata": {
    "execution": {
     "iopub.execute_input": "2022-10-28T12:12:21.339528Z",
     "iopub.status.busy": "2022-10-28T12:12:21.338410Z",
     "iopub.status.idle": "2022-10-28T12:12:21.567834Z",
     "shell.execute_reply": "2022-10-28T12:12:21.566756Z"
    },
    "papermill": {
     "duration": 0.240491,
     "end_time": "2022-10-28T12:12:21.570412",
     "exception": false,
     "start_time": "2022-10-28T12:12:21.329921",
     "status": "completed"
    },
    "tags": []
   },
   "outputs": [
    {
     "data": {
      "text/html": [
       "<div>                            <div id=\"d96448e0-90e5-4c97-a425-90f29f8d26df\" class=\"plotly-graph-div\" style=\"height:525px; width:100%;\"></div>            <script type=\"text/javascript\">                require([\"plotly\"], function(Plotly) {                    window.PLOTLYENV=window.PLOTLYENV || {};                                    if (document.getElementById(\"d96448e0-90e5-4c97-a425-90f29f8d26df\")) {                    Plotly.newPlot(                        \"d96448e0-90e5-4c97-a425-90f29f8d26df\",                        [{\"alignmentgroup\":\"True\",\"bingroup\":\"x\",\"histfunc\":\"count\",\"hovertemplate\":\"DEATH_EVENT=1<br>age=%{x}<br>count=%{y}<extra></extra>\",\"legendgroup\":\"1\",\"marker\":{\"color\":\"#A44349\",\"opacity\":0.7,\"pattern\":{\"shape\":\"\"}},\"name\":\"1\",\"nbinsx\":40,\"offsetgroup\":\"1\",\"orientation\":\"v\",\"showlegend\":true,\"x\":[75.0,55.0,65.0,50.0,65.0,90.0,75.0,60.0,65.0,80.0,75.0,62.0,45.0,50.0,82.0,87.0,45.0,70.0,48.0,65.0,68.0,75.0,80.0,95.0,70.0,58.0,82.0,94.0,85.0,50.0,65.0,69.0,90.0,82.0,60.0,70.0,50.0,70.0,60.0,50.0,51.0,60.0,80.0,57.0,68.0,53.0,60.0,70.0,60.0,95.0,49.0,72.0,45.0,50.0,45.0,60.0,42.0,72.0,70.0,65.0,85.0,69.0,60.0,60.0,59.0,60.0,72.0,85.0,70.0,86.0,60.0,46.0,80.0,72.0,75.0,72.0,50.0,45.0,80.0,59.0,59.0,65.0,75.0,58.0,60.667,50.0,60.0,45.0,77.0,48.0,54.0,73.0,60.0,55.0,65.0,55.0],\"xaxis\":\"x\",\"yaxis\":\"y\",\"type\":\"histogram\"},{\"alignmentgroup\":\"True\",\"hovertemplate\":\"DEATH_EVENT=1<br>age=%{x}<extra></extra>\",\"legendgroup\":\"1\",\"marker\":{\"color\":\"#A44349\"},\"name\":\"1\",\"notched\":true,\"offsetgroup\":\"1\",\"showlegend\":false,\"x\":[75.0,55.0,65.0,50.0,65.0,90.0,75.0,60.0,65.0,80.0,75.0,62.0,45.0,50.0,82.0,87.0,45.0,70.0,48.0,65.0,68.0,75.0,80.0,95.0,70.0,58.0,82.0,94.0,85.0,50.0,65.0,69.0,90.0,82.0,60.0,70.0,50.0,70.0,60.0,50.0,51.0,60.0,80.0,57.0,68.0,53.0,60.0,70.0,60.0,95.0,49.0,72.0,45.0,50.0,45.0,60.0,42.0,72.0,70.0,65.0,85.0,69.0,60.0,60.0,59.0,60.0,72.0,85.0,70.0,86.0,60.0,46.0,80.0,72.0,75.0,72.0,50.0,45.0,80.0,59.0,59.0,65.0,75.0,58.0,60.667,50.0,60.0,45.0,77.0,48.0,54.0,73.0,60.0,55.0,65.0,55.0],\"xaxis\":\"x2\",\"yaxis\":\"y2\",\"type\":\"box\"},{\"alignmentgroup\":\"True\",\"bingroup\":\"x\",\"histfunc\":\"count\",\"hovertemplate\":\"DEATH_EVENT=0<br>age=%{x}<br>count=%{y}<extra></extra>\",\"legendgroup\":\"0\",\"marker\":{\"color\":\"#379B3A\",\"opacity\":0.7,\"pattern\":{\"shape\":\"\"}},\"name\":\"0\",\"nbinsx\":40,\"offsetgroup\":\"0\",\"orientation\":\"v\",\"showlegend\":true,\"x\":[49.0,65.0,53.0,50.0,60.0,72.0,70.0,60.0,55.0,45.0,41.0,58.0,65.0,70.0,42.0,75.0,55.0,70.0,67.0,79.0,51.0,55.0,65.0,44.0,57.0,70.0,60.0,42.0,58.0,58.0,63.0,70.0,60.0,63.0,65.0,75.0,80.0,42.0,60.0,55.0,45.0,63.0,45.0,55.0,50.0,60.0,58.0,60.0,85.0,65.0,60.0,66.0,60.0,60.0,43.0,58.0,61.0,53.0,53.0,60.0,46.0,63.0,81.0,75.0,65.0,68.0,62.0,50.0,46.0,50.0,61.0,50.0,52.0,64.0,60.0,62.0,50.0,50.0,65.0,60.0,52.0,50.0,85.0,59.0,66.0,45.0,63.0,53.0,65.0,70.0,51.0,52.0,70.0,50.0,65.0,60.0,69.0,49.0,63.0,55.0,40.0,60.667,40.0,80.0,64.0,50.0,73.0,45.0,65.0,50.0,60.0,63.0,45.0,70.0,60.0,78.0,50.0,40.0,85.0,60.0,49.0,70.0,50.0,78.0,65.0,73.0,70.0,68.0,55.0,65.0,42.0,47.0,58.0,75.0,58.0,55.0,65.0,72.0,70.0,40.0,53.0,53.0,77.0,75.0,70.0,65.0,55.0,70.0,65.0,40.0,73.0,54.0,61.0,64.0,40.0,53.0,50.0,55.0,50.0,70.0,53.0,52.0,65.0,58.0,45.0,53.0,55.0,62.0,68.0,61.0,50.0,56.0,45.0,40.0,44.0,51.0,67.0,42.0,60.0,45.0,70.0,70.0,50.0,55.0,70.0,70.0,42.0,65.0,50.0,55.0,60.0,45.0,65.0,90.0,45.0,60.0,52.0,63.0,62.0,55.0,45.0,45.0,50.0],\"xaxis\":\"x\",\"yaxis\":\"y\",\"type\":\"histogram\"},{\"alignmentgroup\":\"True\",\"hovertemplate\":\"DEATH_EVENT=0<br>age=%{x}<extra></extra>\",\"legendgroup\":\"0\",\"marker\":{\"color\":\"#379B3A\"},\"name\":\"0\",\"notched\":true,\"offsetgroup\":\"0\",\"showlegend\":false,\"x\":[49.0,65.0,53.0,50.0,60.0,72.0,70.0,60.0,55.0,45.0,41.0,58.0,65.0,70.0,42.0,75.0,55.0,70.0,67.0,79.0,51.0,55.0,65.0,44.0,57.0,70.0,60.0,42.0,58.0,58.0,63.0,70.0,60.0,63.0,65.0,75.0,80.0,42.0,60.0,55.0,45.0,63.0,45.0,55.0,50.0,60.0,58.0,60.0,85.0,65.0,60.0,66.0,60.0,60.0,43.0,58.0,61.0,53.0,53.0,60.0,46.0,63.0,81.0,75.0,65.0,68.0,62.0,50.0,46.0,50.0,61.0,50.0,52.0,64.0,60.0,62.0,50.0,50.0,65.0,60.0,52.0,50.0,85.0,59.0,66.0,45.0,63.0,53.0,65.0,70.0,51.0,52.0,70.0,50.0,65.0,60.0,69.0,49.0,63.0,55.0,40.0,60.667,40.0,80.0,64.0,50.0,73.0,45.0,65.0,50.0,60.0,63.0,45.0,70.0,60.0,78.0,50.0,40.0,85.0,60.0,49.0,70.0,50.0,78.0,65.0,73.0,70.0,68.0,55.0,65.0,42.0,47.0,58.0,75.0,58.0,55.0,65.0,72.0,70.0,40.0,53.0,53.0,77.0,75.0,70.0,65.0,55.0,70.0,65.0,40.0,73.0,54.0,61.0,64.0,40.0,53.0,50.0,55.0,50.0,70.0,53.0,52.0,65.0,58.0,45.0,53.0,55.0,62.0,68.0,61.0,50.0,56.0,45.0,40.0,44.0,51.0,67.0,42.0,60.0,45.0,70.0,70.0,50.0,55.0,70.0,70.0,42.0,65.0,50.0,55.0,60.0,45.0,65.0,90.0,45.0,60.0,52.0,63.0,62.0,55.0,45.0,45.0,50.0],\"xaxis\":\"x2\",\"yaxis\":\"y2\",\"type\":\"box\"}],                        {\"template\":{\"data\":{\"barpolar\":[{\"marker\":{\"line\":{\"color\":\"rgb(237,237,237)\",\"width\":0.5},\"pattern\":{\"fillmode\":\"overlay\",\"size\":10,\"solidity\":0.2}},\"type\":\"barpolar\"}],\"bar\":[{\"error_x\":{\"color\":\"rgb(51,51,51)\"},\"error_y\":{\"color\":\"rgb(51,51,51)\"},\"marker\":{\"line\":{\"color\":\"rgb(237,237,237)\",\"width\":0.5},\"pattern\":{\"fillmode\":\"overlay\",\"size\":10,\"solidity\":0.2}},\"type\":\"bar\"}],\"carpet\":[{\"aaxis\":{\"endlinecolor\":\"rgb(51,51,51)\",\"gridcolor\":\"white\",\"linecolor\":\"white\",\"minorgridcolor\":\"white\",\"startlinecolor\":\"rgb(51,51,51)\"},\"baxis\":{\"endlinecolor\":\"rgb(51,51,51)\",\"gridcolor\":\"white\",\"linecolor\":\"white\",\"minorgridcolor\":\"white\",\"startlinecolor\":\"rgb(51,51,51)\"},\"type\":\"carpet\"}],\"choropleth\":[{\"colorbar\":{\"outlinewidth\":0,\"tickcolor\":\"rgb(237,237,237)\",\"ticklen\":6,\"ticks\":\"inside\"},\"type\":\"choropleth\"}],\"contourcarpet\":[{\"colorbar\":{\"outlinewidth\":0,\"tickcolor\":\"rgb(237,237,237)\",\"ticklen\":6,\"ticks\":\"inside\"},\"type\":\"contourcarpet\"}],\"contour\":[{\"colorbar\":{\"outlinewidth\":0,\"tickcolor\":\"rgb(237,237,237)\",\"ticklen\":6,\"ticks\":\"inside\"},\"colorscale\":[[0,\"rgb(20,44,66)\"],[1,\"rgb(90,179,244)\"]],\"type\":\"contour\"}],\"heatmapgl\":[{\"colorbar\":{\"outlinewidth\":0,\"tickcolor\":\"rgb(237,237,237)\",\"ticklen\":6,\"ticks\":\"inside\"},\"colorscale\":[[0,\"rgb(20,44,66)\"],[1,\"rgb(90,179,244)\"]],\"type\":\"heatmapgl\"}],\"heatmap\":[{\"colorbar\":{\"outlinewidth\":0,\"tickcolor\":\"rgb(237,237,237)\",\"ticklen\":6,\"ticks\":\"inside\"},\"colorscale\":[[0,\"rgb(20,44,66)\"],[1,\"rgb(90,179,244)\"]],\"type\":\"heatmap\"}],\"histogram2dcontour\":[{\"colorbar\":{\"outlinewidth\":0,\"tickcolor\":\"rgb(237,237,237)\",\"ticklen\":6,\"ticks\":\"inside\"},\"colorscale\":[[0,\"rgb(20,44,66)\"],[1,\"rgb(90,179,244)\"]],\"type\":\"histogram2dcontour\"}],\"histogram2d\":[{\"colorbar\":{\"outlinewidth\":0,\"tickcolor\":\"rgb(237,237,237)\",\"ticklen\":6,\"ticks\":\"inside\"},\"colorscale\":[[0,\"rgb(20,44,66)\"],[1,\"rgb(90,179,244)\"]],\"type\":\"histogram2d\"}],\"histogram\":[{\"marker\":{\"pattern\":{\"fillmode\":\"overlay\",\"size\":10,\"solidity\":0.2}},\"type\":\"histogram\"}],\"mesh3d\":[{\"colorbar\":{\"outlinewidth\":0,\"tickcolor\":\"rgb(237,237,237)\",\"ticklen\":6,\"ticks\":\"inside\"},\"type\":\"mesh3d\"}],\"parcoords\":[{\"line\":{\"colorbar\":{\"outlinewidth\":0,\"tickcolor\":\"rgb(237,237,237)\",\"ticklen\":6,\"ticks\":\"inside\"}},\"type\":\"parcoords\"}],\"pie\":[{\"automargin\":true,\"type\":\"pie\"}],\"scatter3d\":[{\"line\":{\"colorbar\":{\"outlinewidth\":0,\"tickcolor\":\"rgb(237,237,237)\",\"ticklen\":6,\"ticks\":\"inside\"}},\"marker\":{\"colorbar\":{\"outlinewidth\":0,\"tickcolor\":\"rgb(237,237,237)\",\"ticklen\":6,\"ticks\":\"inside\"}},\"type\":\"scatter3d\"}],\"scattercarpet\":[{\"marker\":{\"colorbar\":{\"outlinewidth\":0,\"tickcolor\":\"rgb(237,237,237)\",\"ticklen\":6,\"ticks\":\"inside\"}},\"type\":\"scattercarpet\"}],\"scattergeo\":[{\"marker\":{\"colorbar\":{\"outlinewidth\":0,\"tickcolor\":\"rgb(237,237,237)\",\"ticklen\":6,\"ticks\":\"inside\"}},\"type\":\"scattergeo\"}],\"scattergl\":[{\"marker\":{\"colorbar\":{\"outlinewidth\":0,\"tickcolor\":\"rgb(237,237,237)\",\"ticklen\":6,\"ticks\":\"inside\"}},\"type\":\"scattergl\"}],\"scattermapbox\":[{\"marker\":{\"colorbar\":{\"outlinewidth\":0,\"tickcolor\":\"rgb(237,237,237)\",\"ticklen\":6,\"ticks\":\"inside\"}},\"type\":\"scattermapbox\"}],\"scatterpolargl\":[{\"marker\":{\"colorbar\":{\"outlinewidth\":0,\"tickcolor\":\"rgb(237,237,237)\",\"ticklen\":6,\"ticks\":\"inside\"}},\"type\":\"scatterpolargl\"}],\"scatterpolar\":[{\"marker\":{\"colorbar\":{\"outlinewidth\":0,\"tickcolor\":\"rgb(237,237,237)\",\"ticklen\":6,\"ticks\":\"inside\"}},\"type\":\"scatterpolar\"}],\"scatter\":[{\"fillpattern\":{\"fillmode\":\"overlay\",\"size\":10,\"solidity\":0.2},\"type\":\"scatter\"}],\"scatterternary\":[{\"marker\":{\"colorbar\":{\"outlinewidth\":0,\"tickcolor\":\"rgb(237,237,237)\",\"ticklen\":6,\"ticks\":\"inside\"}},\"type\":\"scatterternary\"}],\"surface\":[{\"colorbar\":{\"outlinewidth\":0,\"tickcolor\":\"rgb(237,237,237)\",\"ticklen\":6,\"ticks\":\"inside\"},\"colorscale\":[[0,\"rgb(20,44,66)\"],[1,\"rgb(90,179,244)\"]],\"type\":\"surface\"}],\"table\":[{\"cells\":{\"fill\":{\"color\":\"rgb(237,237,237)\"},\"line\":{\"color\":\"white\"}},\"header\":{\"fill\":{\"color\":\"rgb(217,217,217)\"},\"line\":{\"color\":\"white\"}},\"type\":\"table\"}]},\"layout\":{\"annotationdefaults\":{\"arrowhead\":0,\"arrowwidth\":1},\"autotypenumbers\":\"strict\",\"coloraxis\":{\"colorbar\":{\"outlinewidth\":0,\"tickcolor\":\"rgb(237,237,237)\",\"ticklen\":6,\"ticks\":\"inside\"}},\"colorscale\":{\"sequential\":[[0,\"rgb(20,44,66)\"],[1,\"rgb(90,179,244)\"]],\"sequentialminus\":[[0,\"rgb(20,44,66)\"],[1,\"rgb(90,179,244)\"]]},\"colorway\":[\"#F8766D\",\"#A3A500\",\"#00BF7D\",\"#00B0F6\",\"#E76BF3\"],\"font\":{\"color\":\"rgb(51,51,51)\"},\"geo\":{\"bgcolor\":\"white\",\"lakecolor\":\"white\",\"landcolor\":\"rgb(237,237,237)\",\"showlakes\":true,\"showland\":true,\"subunitcolor\":\"white\"},\"hoverlabel\":{\"align\":\"left\"},\"hovermode\":\"closest\",\"paper_bgcolor\":\"white\",\"plot_bgcolor\":\"rgb(237,237,237)\",\"polar\":{\"angularaxis\":{\"gridcolor\":\"white\",\"linecolor\":\"white\",\"showgrid\":true,\"tickcolor\":\"rgb(51,51,51)\",\"ticks\":\"outside\"},\"bgcolor\":\"rgb(237,237,237)\",\"radialaxis\":{\"gridcolor\":\"white\",\"linecolor\":\"white\",\"showgrid\":true,\"tickcolor\":\"rgb(51,51,51)\",\"ticks\":\"outside\"}},\"scene\":{\"xaxis\":{\"backgroundcolor\":\"rgb(237,237,237)\",\"gridcolor\":\"white\",\"gridwidth\":2,\"linecolor\":\"white\",\"showbackground\":true,\"showgrid\":true,\"tickcolor\":\"rgb(51,51,51)\",\"ticks\":\"outside\",\"zerolinecolor\":\"white\"},\"yaxis\":{\"backgroundcolor\":\"rgb(237,237,237)\",\"gridcolor\":\"white\",\"gridwidth\":2,\"linecolor\":\"white\",\"showbackground\":true,\"showgrid\":true,\"tickcolor\":\"rgb(51,51,51)\",\"ticks\":\"outside\",\"zerolinecolor\":\"white\"},\"zaxis\":{\"backgroundcolor\":\"rgb(237,237,237)\",\"gridcolor\":\"white\",\"gridwidth\":2,\"linecolor\":\"white\",\"showbackground\":true,\"showgrid\":true,\"tickcolor\":\"rgb(51,51,51)\",\"ticks\":\"outside\",\"zerolinecolor\":\"white\"}},\"shapedefaults\":{\"fillcolor\":\"black\",\"line\":{\"width\":0},\"opacity\":0.3},\"ternary\":{\"aaxis\":{\"gridcolor\":\"white\",\"linecolor\":\"white\",\"showgrid\":true,\"tickcolor\":\"rgb(51,51,51)\",\"ticks\":\"outside\"},\"baxis\":{\"gridcolor\":\"white\",\"linecolor\":\"white\",\"showgrid\":true,\"tickcolor\":\"rgb(51,51,51)\",\"ticks\":\"outside\"},\"bgcolor\":\"rgb(237,237,237)\",\"caxis\":{\"gridcolor\":\"white\",\"linecolor\":\"white\",\"showgrid\":true,\"tickcolor\":\"rgb(51,51,51)\",\"ticks\":\"outside\"}},\"xaxis\":{\"automargin\":true,\"gridcolor\":\"white\",\"linecolor\":\"white\",\"showgrid\":true,\"tickcolor\":\"rgb(51,51,51)\",\"ticks\":\"outside\",\"title\":{\"standoff\":15},\"zerolinecolor\":\"white\"},\"yaxis\":{\"automargin\":true,\"gridcolor\":\"white\",\"linecolor\":\"white\",\"showgrid\":true,\"tickcolor\":\"rgb(51,51,51)\",\"ticks\":\"outside\",\"title\":{\"standoff\":15},\"zerolinecolor\":\"white\"}}},\"xaxis\":{\"anchor\":\"y\",\"domain\":[0.0,1.0],\"title\":{\"text\":\"Edad en años\"}},\"yaxis\":{\"anchor\":\"x\",\"domain\":[0.0,0.7326],\"title\":{\"text\":\"Count\"}},\"xaxis2\":{\"anchor\":\"y2\",\"domain\":[0.0,1.0],\"matches\":\"x\",\"showticklabels\":false},\"yaxis2\":{\"anchor\":\"x2\",\"domain\":[0.7426,1.0],\"matches\":\"y2\",\"showticklabels\":false,\"showline\":false,\"ticks\":\"\"},\"legend\":{\"title\":{\"text\":\"DEATH_EVENT\"},\"tracegroupgap\":5,\"x\":1,\"y\":0.96,\"bordercolor\":\"#DADADA\",\"borderwidth\":0},\"margin\":{\"t\":60},\"barmode\":\"group\",\"font\":{\"family\":\"monospace\"},\"title\":{\"font\":{\"color\":\"#636363\",\"size\":20},\"text\":\"Edad en años\",\"x\":0.53,\"y\":0.95},\"bargap\":0.1},                        {\"responsive\": true}                    ).then(function(){\n",
       "                            \n",
       "var gd = document.getElementById('d96448e0-90e5-4c97-a425-90f29f8d26df');\n",
       "var x = new MutationObserver(function (mutations, observer) {{\n",
       "        var display = window.getComputedStyle(gd).display;\n",
       "        if (!display || display === 'none') {{\n",
       "            console.log([gd, 'removed!']);\n",
       "            Plotly.purge(gd);\n",
       "            observer.disconnect();\n",
       "        }}\n",
       "}});\n",
       "\n",
       "// Listen for the removal of the full notebook cells\n",
       "var notebookContainer = gd.closest('#notebook-container');\n",
       "if (notebookContainer) {{\n",
       "    x.observe(notebookContainer, {childList: true});\n",
       "}}\n",
       "\n",
       "// Listen for the clearing of the current output cell\n",
       "var outputEl = gd.closest('.output');\n",
       "if (outputEl) {{\n",
       "    x.observe(outputEl, {childList: true});\n",
       "}}\n",
       "\n",
       "                        })                };                });            </script>        </div>"
      ]
     },
     "metadata": {},
     "output_type": "display_data"
    }
   ],
   "source": [
    "histo_comp(df,variable='age',titulo='Edad en años',nbins=40)"
   ]
  },
  {
   "cell_type": "code",
   "execution_count": 13,
   "id": "3e0e929c",
   "metadata": {
    "execution": {
     "iopub.execute_input": "2022-10-28T12:12:21.587303Z",
     "iopub.status.busy": "2022-10-28T12:12:21.586901Z",
     "iopub.status.idle": "2022-10-28T12:12:21.680941Z",
     "shell.execute_reply": "2022-10-28T12:12:21.680157Z"
    },
    "papermill": {
     "duration": 0.104946,
     "end_time": "2022-10-28T12:12:21.683063",
     "exception": false,
     "start_time": "2022-10-28T12:12:21.578117",
     "status": "completed"
    },
    "tags": []
   },
   "outputs": [
    {
     "data": {
      "text/html": [
       "<div>                            <div id=\"ea6ab57b-b9b0-4218-809b-3404c28c23b6\" class=\"plotly-graph-div\" style=\"height:525px; width:100%;\"></div>            <script type=\"text/javascript\">                require([\"plotly\"], function(Plotly) {                    window.PLOTLYENV=window.PLOTLYENV || {};                                    if (document.getElementById(\"ea6ab57b-b9b0-4218-809b-3404c28c23b6\")) {                    Plotly.newPlot(                        \"ea6ab57b-b9b0-4218-809b-3404c28c23b6\",                        [{\"alignmentgroup\":\"True\",\"bingroup\":\"x\",\"histfunc\":\"count\",\"hovertemplate\":\"DEATH_EVENT=1<br>creatinine_phosphokinase=%{x}<br>count=%{y}<extra></extra>\",\"legendgroup\":\"1\",\"marker\":{\"color\":\"#A44349\",\"opacity\":0.7,\"pattern\":{\"shape\":\"\"}},\"name\":\"1\",\"nbinsx\":50,\"offsetgroup\":\"1\",\"orientation\":\"v\",\"showlegend\":true,\"x\":[582,7861,146,111,160,47,246,315,157,123,81,231,981,168,379,149,582,125,582,128,220,582,148,112,122,60,70,582,23,249,94,582,60,855,235,582,124,571,588,582,1380,582,553,129,577,91,3964,69,260,371,789,364,7702,318,582,68,250,110,161,113,5882,582,47,76,280,154,328,129,143,582,582,168,805,943,582,233,2334,2442,776,66,176,395,99,145,104,582,1896,582,418,131,427,582,166,2017,258,1199],\"xaxis\":\"x\",\"yaxis\":\"y\",\"type\":\"histogram\"},{\"alignmentgroup\":\"True\",\"hovertemplate\":\"DEATH_EVENT=1<br>creatinine_phosphokinase=%{x}<extra></extra>\",\"legendgroup\":\"1\",\"marker\":{\"color\":\"#A44349\"},\"name\":\"1\",\"notched\":true,\"offsetgroup\":\"1\",\"showlegend\":false,\"x\":[582,7861,146,111,160,47,246,315,157,123,81,231,981,168,379,149,582,125,582,128,220,582,148,112,122,60,70,582,23,249,94,582,60,855,235,582,124,571,588,582,1380,582,553,129,577,91,3964,69,260,371,789,364,7702,318,582,68,250,110,161,113,5882,582,47,76,280,154,328,129,143,582,582,168,805,943,582,233,2334,2442,776,66,176,395,99,145,104,582,1896,582,418,131,427,582,166,2017,258,1199],\"xaxis\":\"x2\",\"yaxis\":\"y2\",\"type\":\"box\"},{\"alignmentgroup\":\"True\",\"bingroup\":\"x\",\"histfunc\":\"count\",\"hovertemplate\":\"DEATH_EVENT=0<br>creatinine_phosphokinase=%{x}<br>count=%{y}<extra></extra>\",\"legendgroup\":\"0\",\"marker\":{\"color\":\"#379B3A\",\"opacity\":0.7,\"pattern\":{\"shape\":\"\"}},\"name\":\"0\",\"nbinsx\":50,\"offsetgroup\":\"0\",\"orientation\":\"v\",\"showlegend\":true,\"x\":[80,52,63,159,2656,127,75,607,109,582,148,582,224,92,102,203,336,69,582,55,78,47,68,84,115,66,897,582,144,133,514,59,156,61,305,582,898,5209,53,748,1876,936,292,60,369,754,400,96,102,113,737,68,96,582,358,200,248,270,1808,1082,719,193,4540,582,59,646,281,1548,291,482,84,185,132,1610,2261,30,115,1846,335,231,58,250,910,129,72,130,582,196,582,835,582,3966,171,115,198,95,1419,69,122,835,478,151,244,582,62,121,231,582,167,582,1211,1767,308,97,59,64,167,101,212,2281,972,212,582,224,135,582,1202,1021,582,118,86,582,582,675,57,2794,56,211,93,129,707,582,109,119,232,720,180,81,582,90,1185,582,80,143,624,207,2522,572,245,88,446,191,326,132,66,56,66,655,157,582,298,135,582,582,582,582,213,64,257,582,618,582,1051,84,2695,582,64,1688,54,170,253,582,892,337,615,320,190,103,61,1820,2060,2413,196],\"xaxis\":\"x\",\"yaxis\":\"y\",\"type\":\"histogram\"},{\"alignmentgroup\":\"True\",\"hovertemplate\":\"DEATH_EVENT=0<br>creatinine_phosphokinase=%{x}<extra></extra>\",\"legendgroup\":\"0\",\"marker\":{\"color\":\"#379B3A\"},\"name\":\"0\",\"notched\":true,\"offsetgroup\":\"0\",\"showlegend\":false,\"x\":[80,52,63,159,2656,127,75,607,109,582,148,582,224,92,102,203,336,69,582,55,78,47,68,84,115,66,897,582,144,133,514,59,156,61,305,582,898,5209,53,748,1876,936,292,60,369,754,400,96,102,113,737,68,96,582,358,200,248,270,1808,1082,719,193,4540,582,59,646,281,1548,291,482,84,185,132,1610,2261,30,115,1846,335,231,58,250,910,129,72,130,582,196,582,835,582,3966,171,115,198,95,1419,69,122,835,478,151,244,582,62,121,231,582,167,582,1211,1767,308,97,59,64,167,101,212,2281,972,212,582,224,135,582,1202,1021,582,118,86,582,582,675,57,2794,56,211,93,129,707,582,109,119,232,720,180,81,582,90,1185,582,80,143,624,207,2522,572,245,88,446,191,326,132,66,56,66,655,157,582,298,135,582,582,582,582,213,64,257,582,618,582,1051,84,2695,582,64,1688,54,170,253,582,892,337,615,320,190,103,61,1820,2060,2413,196],\"xaxis\":\"x2\",\"yaxis\":\"y2\",\"type\":\"box\"}],                        {\"template\":{\"data\":{\"barpolar\":[{\"marker\":{\"line\":{\"color\":\"rgb(237,237,237)\",\"width\":0.5},\"pattern\":{\"fillmode\":\"overlay\",\"size\":10,\"solidity\":0.2}},\"type\":\"barpolar\"}],\"bar\":[{\"error_x\":{\"color\":\"rgb(51,51,51)\"},\"error_y\":{\"color\":\"rgb(51,51,51)\"},\"marker\":{\"line\":{\"color\":\"rgb(237,237,237)\",\"width\":0.5},\"pattern\":{\"fillmode\":\"overlay\",\"size\":10,\"solidity\":0.2}},\"type\":\"bar\"}],\"carpet\":[{\"aaxis\":{\"endlinecolor\":\"rgb(51,51,51)\",\"gridcolor\":\"white\",\"linecolor\":\"white\",\"minorgridcolor\":\"white\",\"startlinecolor\":\"rgb(51,51,51)\"},\"baxis\":{\"endlinecolor\":\"rgb(51,51,51)\",\"gridcolor\":\"white\",\"linecolor\":\"white\",\"minorgridcolor\":\"white\",\"startlinecolor\":\"rgb(51,51,51)\"},\"type\":\"carpet\"}],\"choropleth\":[{\"colorbar\":{\"outlinewidth\":0,\"tickcolor\":\"rgb(237,237,237)\",\"ticklen\":6,\"ticks\":\"inside\"},\"type\":\"choropleth\"}],\"contourcarpet\":[{\"colorbar\":{\"outlinewidth\":0,\"tickcolor\":\"rgb(237,237,237)\",\"ticklen\":6,\"ticks\":\"inside\"},\"type\":\"contourcarpet\"}],\"contour\":[{\"colorbar\":{\"outlinewidth\":0,\"tickcolor\":\"rgb(237,237,237)\",\"ticklen\":6,\"ticks\":\"inside\"},\"colorscale\":[[0,\"rgb(20,44,66)\"],[1,\"rgb(90,179,244)\"]],\"type\":\"contour\"}],\"heatmapgl\":[{\"colorbar\":{\"outlinewidth\":0,\"tickcolor\":\"rgb(237,237,237)\",\"ticklen\":6,\"ticks\":\"inside\"},\"colorscale\":[[0,\"rgb(20,44,66)\"],[1,\"rgb(90,179,244)\"]],\"type\":\"heatmapgl\"}],\"heatmap\":[{\"colorbar\":{\"outlinewidth\":0,\"tickcolor\":\"rgb(237,237,237)\",\"ticklen\":6,\"ticks\":\"inside\"},\"colorscale\":[[0,\"rgb(20,44,66)\"],[1,\"rgb(90,179,244)\"]],\"type\":\"heatmap\"}],\"histogram2dcontour\":[{\"colorbar\":{\"outlinewidth\":0,\"tickcolor\":\"rgb(237,237,237)\",\"ticklen\":6,\"ticks\":\"inside\"},\"colorscale\":[[0,\"rgb(20,44,66)\"],[1,\"rgb(90,179,244)\"]],\"type\":\"histogram2dcontour\"}],\"histogram2d\":[{\"colorbar\":{\"outlinewidth\":0,\"tickcolor\":\"rgb(237,237,237)\",\"ticklen\":6,\"ticks\":\"inside\"},\"colorscale\":[[0,\"rgb(20,44,66)\"],[1,\"rgb(90,179,244)\"]],\"type\":\"histogram2d\"}],\"histogram\":[{\"marker\":{\"pattern\":{\"fillmode\":\"overlay\",\"size\":10,\"solidity\":0.2}},\"type\":\"histogram\"}],\"mesh3d\":[{\"colorbar\":{\"outlinewidth\":0,\"tickcolor\":\"rgb(237,237,237)\",\"ticklen\":6,\"ticks\":\"inside\"},\"type\":\"mesh3d\"}],\"parcoords\":[{\"line\":{\"colorbar\":{\"outlinewidth\":0,\"tickcolor\":\"rgb(237,237,237)\",\"ticklen\":6,\"ticks\":\"inside\"}},\"type\":\"parcoords\"}],\"pie\":[{\"automargin\":true,\"type\":\"pie\"}],\"scatter3d\":[{\"line\":{\"colorbar\":{\"outlinewidth\":0,\"tickcolor\":\"rgb(237,237,237)\",\"ticklen\":6,\"ticks\":\"inside\"}},\"marker\":{\"colorbar\":{\"outlinewidth\":0,\"tickcolor\":\"rgb(237,237,237)\",\"ticklen\":6,\"ticks\":\"inside\"}},\"type\":\"scatter3d\"}],\"scattercarpet\":[{\"marker\":{\"colorbar\":{\"outlinewidth\":0,\"tickcolor\":\"rgb(237,237,237)\",\"ticklen\":6,\"ticks\":\"inside\"}},\"type\":\"scattercarpet\"}],\"scattergeo\":[{\"marker\":{\"colorbar\":{\"outlinewidth\":0,\"tickcolor\":\"rgb(237,237,237)\",\"ticklen\":6,\"ticks\":\"inside\"}},\"type\":\"scattergeo\"}],\"scattergl\":[{\"marker\":{\"colorbar\":{\"outlinewidth\":0,\"tickcolor\":\"rgb(237,237,237)\",\"ticklen\":6,\"ticks\":\"inside\"}},\"type\":\"scattergl\"}],\"scattermapbox\":[{\"marker\":{\"colorbar\":{\"outlinewidth\":0,\"tickcolor\":\"rgb(237,237,237)\",\"ticklen\":6,\"ticks\":\"inside\"}},\"type\":\"scattermapbox\"}],\"scatterpolargl\":[{\"marker\":{\"colorbar\":{\"outlinewidth\":0,\"tickcolor\":\"rgb(237,237,237)\",\"ticklen\":6,\"ticks\":\"inside\"}},\"type\":\"scatterpolargl\"}],\"scatterpolar\":[{\"marker\":{\"colorbar\":{\"outlinewidth\":0,\"tickcolor\":\"rgb(237,237,237)\",\"ticklen\":6,\"ticks\":\"inside\"}},\"type\":\"scatterpolar\"}],\"scatter\":[{\"fillpattern\":{\"fillmode\":\"overlay\",\"size\":10,\"solidity\":0.2},\"type\":\"scatter\"}],\"scatterternary\":[{\"marker\":{\"colorbar\":{\"outlinewidth\":0,\"tickcolor\":\"rgb(237,237,237)\",\"ticklen\":6,\"ticks\":\"inside\"}},\"type\":\"scatterternary\"}],\"surface\":[{\"colorbar\":{\"outlinewidth\":0,\"tickcolor\":\"rgb(237,237,237)\",\"ticklen\":6,\"ticks\":\"inside\"},\"colorscale\":[[0,\"rgb(20,44,66)\"],[1,\"rgb(90,179,244)\"]],\"type\":\"surface\"}],\"table\":[{\"cells\":{\"fill\":{\"color\":\"rgb(237,237,237)\"},\"line\":{\"color\":\"white\"}},\"header\":{\"fill\":{\"color\":\"rgb(217,217,217)\"},\"line\":{\"color\":\"white\"}},\"type\":\"table\"}]},\"layout\":{\"annotationdefaults\":{\"arrowhead\":0,\"arrowwidth\":1},\"autotypenumbers\":\"strict\",\"coloraxis\":{\"colorbar\":{\"outlinewidth\":0,\"tickcolor\":\"rgb(237,237,237)\",\"ticklen\":6,\"ticks\":\"inside\"}},\"colorscale\":{\"sequential\":[[0,\"rgb(20,44,66)\"],[1,\"rgb(90,179,244)\"]],\"sequentialminus\":[[0,\"rgb(20,44,66)\"],[1,\"rgb(90,179,244)\"]]},\"colorway\":[\"#F8766D\",\"#A3A500\",\"#00BF7D\",\"#00B0F6\",\"#E76BF3\"],\"font\":{\"color\":\"rgb(51,51,51)\"},\"geo\":{\"bgcolor\":\"white\",\"lakecolor\":\"white\",\"landcolor\":\"rgb(237,237,237)\",\"showlakes\":true,\"showland\":true,\"subunitcolor\":\"white\"},\"hoverlabel\":{\"align\":\"left\"},\"hovermode\":\"closest\",\"paper_bgcolor\":\"white\",\"plot_bgcolor\":\"rgb(237,237,237)\",\"polar\":{\"angularaxis\":{\"gridcolor\":\"white\",\"linecolor\":\"white\",\"showgrid\":true,\"tickcolor\":\"rgb(51,51,51)\",\"ticks\":\"outside\"},\"bgcolor\":\"rgb(237,237,237)\",\"radialaxis\":{\"gridcolor\":\"white\",\"linecolor\":\"white\",\"showgrid\":true,\"tickcolor\":\"rgb(51,51,51)\",\"ticks\":\"outside\"}},\"scene\":{\"xaxis\":{\"backgroundcolor\":\"rgb(237,237,237)\",\"gridcolor\":\"white\",\"gridwidth\":2,\"linecolor\":\"white\",\"showbackground\":true,\"showgrid\":true,\"tickcolor\":\"rgb(51,51,51)\",\"ticks\":\"outside\",\"zerolinecolor\":\"white\"},\"yaxis\":{\"backgroundcolor\":\"rgb(237,237,237)\",\"gridcolor\":\"white\",\"gridwidth\":2,\"linecolor\":\"white\",\"showbackground\":true,\"showgrid\":true,\"tickcolor\":\"rgb(51,51,51)\",\"ticks\":\"outside\",\"zerolinecolor\":\"white\"},\"zaxis\":{\"backgroundcolor\":\"rgb(237,237,237)\",\"gridcolor\":\"white\",\"gridwidth\":2,\"linecolor\":\"white\",\"showbackground\":true,\"showgrid\":true,\"tickcolor\":\"rgb(51,51,51)\",\"ticks\":\"outside\",\"zerolinecolor\":\"white\"}},\"shapedefaults\":{\"fillcolor\":\"black\",\"line\":{\"width\":0},\"opacity\":0.3},\"ternary\":{\"aaxis\":{\"gridcolor\":\"white\",\"linecolor\":\"white\",\"showgrid\":true,\"tickcolor\":\"rgb(51,51,51)\",\"ticks\":\"outside\"},\"baxis\":{\"gridcolor\":\"white\",\"linecolor\":\"white\",\"showgrid\":true,\"tickcolor\":\"rgb(51,51,51)\",\"ticks\":\"outside\"},\"bgcolor\":\"rgb(237,237,237)\",\"caxis\":{\"gridcolor\":\"white\",\"linecolor\":\"white\",\"showgrid\":true,\"tickcolor\":\"rgb(51,51,51)\",\"ticks\":\"outside\"}},\"xaxis\":{\"automargin\":true,\"gridcolor\":\"white\",\"linecolor\":\"white\",\"showgrid\":true,\"tickcolor\":\"rgb(51,51,51)\",\"ticks\":\"outside\",\"title\":{\"standoff\":15},\"zerolinecolor\":\"white\"},\"yaxis\":{\"automargin\":true,\"gridcolor\":\"white\",\"linecolor\":\"white\",\"showgrid\":true,\"tickcolor\":\"rgb(51,51,51)\",\"ticks\":\"outside\",\"title\":{\"standoff\":15},\"zerolinecolor\":\"white\"}}},\"xaxis\":{\"anchor\":\"y\",\"domain\":[0.0,1.0],\"title\":{\"text\":\"Creatinfosfoquinasa\"}},\"yaxis\":{\"anchor\":\"x\",\"domain\":[0.0,0.7326],\"title\":{\"text\":\"Count\"}},\"xaxis2\":{\"anchor\":\"y2\",\"domain\":[0.0,1.0],\"matches\":\"x\",\"showticklabels\":false},\"yaxis2\":{\"anchor\":\"x2\",\"domain\":[0.7426,1.0],\"matches\":\"y2\",\"showticklabels\":false,\"showline\":false,\"ticks\":\"\"},\"legend\":{\"title\":{\"text\":\"DEATH_EVENT\"},\"tracegroupgap\":5,\"x\":1,\"y\":0.96,\"bordercolor\":\"#DADADA\",\"borderwidth\":0},\"margin\":{\"t\":60},\"barmode\":\"group\",\"font\":{\"family\":\"monospace\"},\"title\":{\"font\":{\"color\":\"#636363\",\"size\":20},\"text\":\"Creatinfosfoquinasa\",\"x\":0.53,\"y\":0.95},\"bargap\":0.1},                        {\"responsive\": true}                    ).then(function(){\n",
       "                            \n",
       "var gd = document.getElementById('ea6ab57b-b9b0-4218-809b-3404c28c23b6');\n",
       "var x = new MutationObserver(function (mutations, observer) {{\n",
       "        var display = window.getComputedStyle(gd).display;\n",
       "        if (!display || display === 'none') {{\n",
       "            console.log([gd, 'removed!']);\n",
       "            Plotly.purge(gd);\n",
       "            observer.disconnect();\n",
       "        }}\n",
       "}});\n",
       "\n",
       "// Listen for the removal of the full notebook cells\n",
       "var notebookContainer = gd.closest('#notebook-container');\n",
       "if (notebookContainer) {{\n",
       "    x.observe(notebookContainer, {childList: true});\n",
       "}}\n",
       "\n",
       "// Listen for the clearing of the current output cell\n",
       "var outputEl = gd.closest('.output');\n",
       "if (outputEl) {{\n",
       "    x.observe(outputEl, {childList: true});\n",
       "}}\n",
       "\n",
       "                        })                };                });            </script>        </div>"
      ]
     },
     "metadata": {},
     "output_type": "display_data"
    }
   ],
   "source": [
    "histo_comp(df,variable='creatinine_phosphokinase',titulo='Creatinfosfoquinasa',nbins=50)"
   ]
  },
  {
   "cell_type": "code",
   "execution_count": 14,
   "id": "e04cea9b",
   "metadata": {
    "execution": {
     "iopub.execute_input": "2022-10-28T12:12:21.700712Z",
     "iopub.status.busy": "2022-10-28T12:12:21.700294Z",
     "iopub.status.idle": "2022-10-28T12:12:21.792243Z",
     "shell.execute_reply": "2022-10-28T12:12:21.790917Z"
    },
    "papermill": {
     "duration": 0.104103,
     "end_time": "2022-10-28T12:12:21.795055",
     "exception": false,
     "start_time": "2022-10-28T12:12:21.690952",
     "status": "completed"
    },
    "tags": []
   },
   "outputs": [
    {
     "data": {
      "text/html": [
       "<div>                            <div id=\"0267f5d8-0a2b-4e9d-8a38-bb77ee523f78\" class=\"plotly-graph-div\" style=\"height:525px; width:100%;\"></div>            <script type=\"text/javascript\">                require([\"plotly\"], function(Plotly) {                    window.PLOTLYENV=window.PLOTLYENV || {};                                    if (document.getElementById(\"0267f5d8-0a2b-4e9d-8a38-bb77ee523f78\")) {                    Plotly.newPlot(                        \"0267f5d8-0a2b-4e9d-8a38-bb77ee523f78\",                        [{\"alignmentgroup\":\"True\",\"bingroup\":\"x\",\"histfunc\":\"count\",\"hovertemplate\":\"DEATH_EVENT=1<br>ejection_fraction=%{x}<br>count=%{y}<extra></extra>\",\"legendgroup\":\"1\",\"marker\":{\"color\":\"#A44349\",\"opacity\":0.7,\"pattern\":{\"shape\":\"\"}},\"name\":\"1\",\"nbinsx\":40,\"offsetgroup\":\"1\",\"orientation\":\"v\",\"showlegend\":true,\"x\":[20,38,20,20,20,40,15,60,65,35,38,25,30,38,50,38,14,25,55,30,35,30,38,40,45,38,30,38,45,35,50,35,50,50,38,20,30,45,60,38,25,38,20,30,25,20,62,50,38,30,20,20,25,40,35,20,15,25,25,25,35,20,20,25,25,25,30,60,60,38,40,17,38,25,30,45,35,30,38,20,25,25,38,25,30,50,25,20,45,30,70,20,30,25,25,20],\"xaxis\":\"x\",\"yaxis\":\"y\",\"type\":\"histogram\"},{\"alignmentgroup\":\"True\",\"hovertemplate\":\"DEATH_EVENT=1<br>ejection_fraction=%{x}<extra></extra>\",\"legendgroup\":\"1\",\"marker\":{\"color\":\"#A44349\"},\"name\":\"1\",\"notched\":true,\"offsetgroup\":\"1\",\"showlegend\":false,\"x\":[20,38,20,20,20,40,15,60,65,35,38,25,30,38,50,38,14,25,55,30,35,30,38,40,45,38,30,38,45,35,50,35,50,50,38,20,30,45,60,38,25,38,20,30,25,20,62,50,38,30,20,20,25,40,35,20,15,25,25,25,35,20,20,25,25,25,30,60,60,38,40,17,38,25,30,45,35,30,38,20,25,25,38,25,30,50,25,20,45,30,70,20,30,25,25,20],\"xaxis\":\"x2\",\"yaxis\":\"y2\",\"type\":\"box\"},{\"alignmentgroup\":\"True\",\"bingroup\":\"x\",\"histfunc\":\"count\",\"hovertemplate\":\"DEATH_EVENT=0<br>ejection_fraction=%{x}<br>count=%{y}<extra></extra>\",\"legendgroup\":\"0\",\"marker\":{\"color\":\"#379B3A\",\"opacity\":0.7,\"pattern\":{\"shape\":\"\"}},\"name\":\"0\",\"nbinsx\":40,\"offsetgroup\":\"0\",\"orientation\":\"v\",\"showlegend\":true,\"x\":[30,25,60,30,30,50,35,40,35,80,40,35,50,60,40,38,45,40,50,50,50,35,60,40,25,45,45,60,38,60,25,60,25,40,25,45,25,30,50,45,35,38,35,35,25,40,40,60,60,60,60,38,38,30,50,60,30,35,60,45,40,60,35,40,60,25,35,30,35,30,40,30,30,60,35,60,45,35,35,25,35,25,50,45,40,35,40,60,40,35,35,40,60,20,35,60,40,50,60,40,30,40,45,35,60,40,30,38,30,20,35,45,60,60,25,40,45,40,38,40,35,17,62,50,35,35,50,35,35,50,35,25,25,60,25,35,25,25,35,35,38,45,50,50,30,40,45,35,30,35,40,38,38,25,35,40,30,35,45,35,60,30,38,38,25,50,40,40,60,38,35,38,38,35,30,40,38,40,30,38,35,38,30,38,40,40,30,38,40,40,35,55,35,38,55,35,38,35,38,38,60,38,45],\"xaxis\":\"x\",\"yaxis\":\"y\",\"type\":\"histogram\"},{\"alignmentgroup\":\"True\",\"hovertemplate\":\"DEATH_EVENT=0<br>ejection_fraction=%{x}<extra></extra>\",\"legendgroup\":\"0\",\"marker\":{\"color\":\"#379B3A\"},\"name\":\"0\",\"notched\":true,\"offsetgroup\":\"0\",\"showlegend\":false,\"x\":[30,25,60,30,30,50,35,40,35,80,40,35,50,60,40,38,45,40,50,50,50,35,60,40,25,45,45,60,38,60,25,60,25,40,25,45,25,30,50,45,35,38,35,35,25,40,40,60,60,60,60,38,38,30,50,60,30,35,60,45,40,60,35,40,60,25,35,30,35,30,40,30,30,60,35,60,45,35,35,25,35,25,50,45,40,35,40,60,40,35,35,40,60,20,35,60,40,50,60,40,30,40,45,35,60,40,30,38,30,20,35,45,60,60,25,40,45,40,38,40,35,17,62,50,35,35,50,35,35,50,35,25,25,60,25,35,25,25,35,35,38,45,50,50,30,40,45,35,30,35,40,38,38,25,35,40,30,35,45,35,60,30,38,38,25,50,40,40,60,38,35,38,38,35,30,40,38,40,30,38,35,38,30,38,40,40,30,38,40,40,35,55,35,38,55,35,38,35,38,38,60,38,45],\"xaxis\":\"x2\",\"yaxis\":\"y2\",\"type\":\"box\"}],                        {\"template\":{\"data\":{\"barpolar\":[{\"marker\":{\"line\":{\"color\":\"rgb(237,237,237)\",\"width\":0.5},\"pattern\":{\"fillmode\":\"overlay\",\"size\":10,\"solidity\":0.2}},\"type\":\"barpolar\"}],\"bar\":[{\"error_x\":{\"color\":\"rgb(51,51,51)\"},\"error_y\":{\"color\":\"rgb(51,51,51)\"},\"marker\":{\"line\":{\"color\":\"rgb(237,237,237)\",\"width\":0.5},\"pattern\":{\"fillmode\":\"overlay\",\"size\":10,\"solidity\":0.2}},\"type\":\"bar\"}],\"carpet\":[{\"aaxis\":{\"endlinecolor\":\"rgb(51,51,51)\",\"gridcolor\":\"white\",\"linecolor\":\"white\",\"minorgridcolor\":\"white\",\"startlinecolor\":\"rgb(51,51,51)\"},\"baxis\":{\"endlinecolor\":\"rgb(51,51,51)\",\"gridcolor\":\"white\",\"linecolor\":\"white\",\"minorgridcolor\":\"white\",\"startlinecolor\":\"rgb(51,51,51)\"},\"type\":\"carpet\"}],\"choropleth\":[{\"colorbar\":{\"outlinewidth\":0,\"tickcolor\":\"rgb(237,237,237)\",\"ticklen\":6,\"ticks\":\"inside\"},\"type\":\"choropleth\"}],\"contourcarpet\":[{\"colorbar\":{\"outlinewidth\":0,\"tickcolor\":\"rgb(237,237,237)\",\"ticklen\":6,\"ticks\":\"inside\"},\"type\":\"contourcarpet\"}],\"contour\":[{\"colorbar\":{\"outlinewidth\":0,\"tickcolor\":\"rgb(237,237,237)\",\"ticklen\":6,\"ticks\":\"inside\"},\"colorscale\":[[0,\"rgb(20,44,66)\"],[1,\"rgb(90,179,244)\"]],\"type\":\"contour\"}],\"heatmapgl\":[{\"colorbar\":{\"outlinewidth\":0,\"tickcolor\":\"rgb(237,237,237)\",\"ticklen\":6,\"ticks\":\"inside\"},\"colorscale\":[[0,\"rgb(20,44,66)\"],[1,\"rgb(90,179,244)\"]],\"type\":\"heatmapgl\"}],\"heatmap\":[{\"colorbar\":{\"outlinewidth\":0,\"tickcolor\":\"rgb(237,237,237)\",\"ticklen\":6,\"ticks\":\"inside\"},\"colorscale\":[[0,\"rgb(20,44,66)\"],[1,\"rgb(90,179,244)\"]],\"type\":\"heatmap\"}],\"histogram2dcontour\":[{\"colorbar\":{\"outlinewidth\":0,\"tickcolor\":\"rgb(237,237,237)\",\"ticklen\":6,\"ticks\":\"inside\"},\"colorscale\":[[0,\"rgb(20,44,66)\"],[1,\"rgb(90,179,244)\"]],\"type\":\"histogram2dcontour\"}],\"histogram2d\":[{\"colorbar\":{\"outlinewidth\":0,\"tickcolor\":\"rgb(237,237,237)\",\"ticklen\":6,\"ticks\":\"inside\"},\"colorscale\":[[0,\"rgb(20,44,66)\"],[1,\"rgb(90,179,244)\"]],\"type\":\"histogram2d\"}],\"histogram\":[{\"marker\":{\"pattern\":{\"fillmode\":\"overlay\",\"size\":10,\"solidity\":0.2}},\"type\":\"histogram\"}],\"mesh3d\":[{\"colorbar\":{\"outlinewidth\":0,\"tickcolor\":\"rgb(237,237,237)\",\"ticklen\":6,\"ticks\":\"inside\"},\"type\":\"mesh3d\"}],\"parcoords\":[{\"line\":{\"colorbar\":{\"outlinewidth\":0,\"tickcolor\":\"rgb(237,237,237)\",\"ticklen\":6,\"ticks\":\"inside\"}},\"type\":\"parcoords\"}],\"pie\":[{\"automargin\":true,\"type\":\"pie\"}],\"scatter3d\":[{\"line\":{\"colorbar\":{\"outlinewidth\":0,\"tickcolor\":\"rgb(237,237,237)\",\"ticklen\":6,\"ticks\":\"inside\"}},\"marker\":{\"colorbar\":{\"outlinewidth\":0,\"tickcolor\":\"rgb(237,237,237)\",\"ticklen\":6,\"ticks\":\"inside\"}},\"type\":\"scatter3d\"}],\"scattercarpet\":[{\"marker\":{\"colorbar\":{\"outlinewidth\":0,\"tickcolor\":\"rgb(237,237,237)\",\"ticklen\":6,\"ticks\":\"inside\"}},\"type\":\"scattercarpet\"}],\"scattergeo\":[{\"marker\":{\"colorbar\":{\"outlinewidth\":0,\"tickcolor\":\"rgb(237,237,237)\",\"ticklen\":6,\"ticks\":\"inside\"}},\"type\":\"scattergeo\"}],\"scattergl\":[{\"marker\":{\"colorbar\":{\"outlinewidth\":0,\"tickcolor\":\"rgb(237,237,237)\",\"ticklen\":6,\"ticks\":\"inside\"}},\"type\":\"scattergl\"}],\"scattermapbox\":[{\"marker\":{\"colorbar\":{\"outlinewidth\":0,\"tickcolor\":\"rgb(237,237,237)\",\"ticklen\":6,\"ticks\":\"inside\"}},\"type\":\"scattermapbox\"}],\"scatterpolargl\":[{\"marker\":{\"colorbar\":{\"outlinewidth\":0,\"tickcolor\":\"rgb(237,237,237)\",\"ticklen\":6,\"ticks\":\"inside\"}},\"type\":\"scatterpolargl\"}],\"scatterpolar\":[{\"marker\":{\"colorbar\":{\"outlinewidth\":0,\"tickcolor\":\"rgb(237,237,237)\",\"ticklen\":6,\"ticks\":\"inside\"}},\"type\":\"scatterpolar\"}],\"scatter\":[{\"fillpattern\":{\"fillmode\":\"overlay\",\"size\":10,\"solidity\":0.2},\"type\":\"scatter\"}],\"scatterternary\":[{\"marker\":{\"colorbar\":{\"outlinewidth\":0,\"tickcolor\":\"rgb(237,237,237)\",\"ticklen\":6,\"ticks\":\"inside\"}},\"type\":\"scatterternary\"}],\"surface\":[{\"colorbar\":{\"outlinewidth\":0,\"tickcolor\":\"rgb(237,237,237)\",\"ticklen\":6,\"ticks\":\"inside\"},\"colorscale\":[[0,\"rgb(20,44,66)\"],[1,\"rgb(90,179,244)\"]],\"type\":\"surface\"}],\"table\":[{\"cells\":{\"fill\":{\"color\":\"rgb(237,237,237)\"},\"line\":{\"color\":\"white\"}},\"header\":{\"fill\":{\"color\":\"rgb(217,217,217)\"},\"line\":{\"color\":\"white\"}},\"type\":\"table\"}]},\"layout\":{\"annotationdefaults\":{\"arrowhead\":0,\"arrowwidth\":1},\"autotypenumbers\":\"strict\",\"coloraxis\":{\"colorbar\":{\"outlinewidth\":0,\"tickcolor\":\"rgb(237,237,237)\",\"ticklen\":6,\"ticks\":\"inside\"}},\"colorscale\":{\"sequential\":[[0,\"rgb(20,44,66)\"],[1,\"rgb(90,179,244)\"]],\"sequentialminus\":[[0,\"rgb(20,44,66)\"],[1,\"rgb(90,179,244)\"]]},\"colorway\":[\"#F8766D\",\"#A3A500\",\"#00BF7D\",\"#00B0F6\",\"#E76BF3\"],\"font\":{\"color\":\"rgb(51,51,51)\"},\"geo\":{\"bgcolor\":\"white\",\"lakecolor\":\"white\",\"landcolor\":\"rgb(237,237,237)\",\"showlakes\":true,\"showland\":true,\"subunitcolor\":\"white\"},\"hoverlabel\":{\"align\":\"left\"},\"hovermode\":\"closest\",\"paper_bgcolor\":\"white\",\"plot_bgcolor\":\"rgb(237,237,237)\",\"polar\":{\"angularaxis\":{\"gridcolor\":\"white\",\"linecolor\":\"white\",\"showgrid\":true,\"tickcolor\":\"rgb(51,51,51)\",\"ticks\":\"outside\"},\"bgcolor\":\"rgb(237,237,237)\",\"radialaxis\":{\"gridcolor\":\"white\",\"linecolor\":\"white\",\"showgrid\":true,\"tickcolor\":\"rgb(51,51,51)\",\"ticks\":\"outside\"}},\"scene\":{\"xaxis\":{\"backgroundcolor\":\"rgb(237,237,237)\",\"gridcolor\":\"white\",\"gridwidth\":2,\"linecolor\":\"white\",\"showbackground\":true,\"showgrid\":true,\"tickcolor\":\"rgb(51,51,51)\",\"ticks\":\"outside\",\"zerolinecolor\":\"white\"},\"yaxis\":{\"backgroundcolor\":\"rgb(237,237,237)\",\"gridcolor\":\"white\",\"gridwidth\":2,\"linecolor\":\"white\",\"showbackground\":true,\"showgrid\":true,\"tickcolor\":\"rgb(51,51,51)\",\"ticks\":\"outside\",\"zerolinecolor\":\"white\"},\"zaxis\":{\"backgroundcolor\":\"rgb(237,237,237)\",\"gridcolor\":\"white\",\"gridwidth\":2,\"linecolor\":\"white\",\"showbackground\":true,\"showgrid\":true,\"tickcolor\":\"rgb(51,51,51)\",\"ticks\":\"outside\",\"zerolinecolor\":\"white\"}},\"shapedefaults\":{\"fillcolor\":\"black\",\"line\":{\"width\":0},\"opacity\":0.3},\"ternary\":{\"aaxis\":{\"gridcolor\":\"white\",\"linecolor\":\"white\",\"showgrid\":true,\"tickcolor\":\"rgb(51,51,51)\",\"ticks\":\"outside\"},\"baxis\":{\"gridcolor\":\"white\",\"linecolor\":\"white\",\"showgrid\":true,\"tickcolor\":\"rgb(51,51,51)\",\"ticks\":\"outside\"},\"bgcolor\":\"rgb(237,237,237)\",\"caxis\":{\"gridcolor\":\"white\",\"linecolor\":\"white\",\"showgrid\":true,\"tickcolor\":\"rgb(51,51,51)\",\"ticks\":\"outside\"}},\"xaxis\":{\"automargin\":true,\"gridcolor\":\"white\",\"linecolor\":\"white\",\"showgrid\":true,\"tickcolor\":\"rgb(51,51,51)\",\"ticks\":\"outside\",\"title\":{\"standoff\":15},\"zerolinecolor\":\"white\"},\"yaxis\":{\"automargin\":true,\"gridcolor\":\"white\",\"linecolor\":\"white\",\"showgrid\":true,\"tickcolor\":\"rgb(51,51,51)\",\"ticks\":\"outside\",\"title\":{\"standoff\":15},\"zerolinecolor\":\"white\"}}},\"xaxis\":{\"anchor\":\"y\",\"domain\":[0.0,1.0],\"title\":{\"text\":\"Fracción de Eyección\"}},\"yaxis\":{\"anchor\":\"x\",\"domain\":[0.0,0.7326],\"title\":{\"text\":\"Count\"}},\"xaxis2\":{\"anchor\":\"y2\",\"domain\":[0.0,1.0],\"matches\":\"x\",\"showticklabels\":false},\"yaxis2\":{\"anchor\":\"x2\",\"domain\":[0.7426,1.0],\"matches\":\"y2\",\"showticklabels\":false,\"showline\":false,\"ticks\":\"\"},\"legend\":{\"title\":{\"text\":\"DEATH_EVENT\"},\"tracegroupgap\":5,\"x\":1,\"y\":0.96,\"bordercolor\":\"#DADADA\",\"borderwidth\":0},\"margin\":{\"t\":60},\"barmode\":\"group\",\"font\":{\"family\":\"monospace\"},\"title\":{\"font\":{\"color\":\"#636363\",\"size\":20},\"text\":\"Fracción de Eyección\",\"x\":0.53,\"y\":0.95},\"bargap\":0.1},                        {\"responsive\": true}                    ).then(function(){\n",
       "                            \n",
       "var gd = document.getElementById('0267f5d8-0a2b-4e9d-8a38-bb77ee523f78');\n",
       "var x = new MutationObserver(function (mutations, observer) {{\n",
       "        var display = window.getComputedStyle(gd).display;\n",
       "        if (!display || display === 'none') {{\n",
       "            console.log([gd, 'removed!']);\n",
       "            Plotly.purge(gd);\n",
       "            observer.disconnect();\n",
       "        }}\n",
       "}});\n",
       "\n",
       "// Listen for the removal of the full notebook cells\n",
       "var notebookContainer = gd.closest('#notebook-container');\n",
       "if (notebookContainer) {{\n",
       "    x.observe(notebookContainer, {childList: true});\n",
       "}}\n",
       "\n",
       "// Listen for the clearing of the current output cell\n",
       "var outputEl = gd.closest('.output');\n",
       "if (outputEl) {{\n",
       "    x.observe(outputEl, {childList: true});\n",
       "}}\n",
       "\n",
       "                        })                };                });            </script>        </div>"
      ]
     },
     "metadata": {},
     "output_type": "display_data"
    }
   ],
   "source": [
    "histo_comp(df,variable='ejection_fraction',titulo='Fracción de Eyección',nbins=40)"
   ]
  },
  {
   "cell_type": "code",
   "execution_count": 15,
   "id": "347683c2",
   "metadata": {
    "execution": {
     "iopub.execute_input": "2022-10-28T12:12:21.813119Z",
     "iopub.status.busy": "2022-10-28T12:12:21.812710Z",
     "iopub.status.idle": "2022-10-28T12:12:21.887157Z",
     "shell.execute_reply": "2022-10-28T12:12:21.886174Z"
    },
    "papermill": {
     "duration": 0.086533,
     "end_time": "2022-10-28T12:12:21.889883",
     "exception": false,
     "start_time": "2022-10-28T12:12:21.803350",
     "status": "completed"
    },
    "tags": []
   },
   "outputs": [
    {
     "data": {
      "text/html": [
       "<div>                            <div id=\"2a50b86d-7a9f-4d0f-9736-2e73fee6172e\" class=\"plotly-graph-div\" style=\"height:700px; width:700px;\"></div>            <script type=\"text/javascript\">                require([\"plotly\"], function(Plotly) {                    window.PLOTLYENV=window.PLOTLYENV || {};                                    if (document.getElementById(\"2a50b86d-7a9f-4d0f-9736-2e73fee6172e\")) {                    Plotly.newPlot(                        \"2a50b86d-7a9f-4d0f-9736-2e73fee6172e\",                        [{\"coloraxis\":\"coloraxis\",\"name\":\"0\",\"x\":[\"age\",\"anaemia\",\"creatinine_phosphokinase\",\"diabetes\",\"ejection_fraction\",\"high_blood_pressure\",\"platelets\",\"serum_creatinine\",\"serum_sodium\",\"sex\",\"smoking\",\"time\"],\"y\":[\"age\",\"anaemia\",\"creatinine_phosphokinase\",\"diabetes\",\"ejection_fraction\",\"high_blood_pressure\",\"platelets\",\"serum_creatinine\",\"serum_sodium\",\"sex\",\"smoking\",\"time\"],\"z\":[[1.0,0.0880064413193916,-0.08158389977909229,-0.10101238518196966,0.06009836323291317,0.09328868460631876,-0.05235436663012704,0.15918713328355003,-0.045965840839560256,0.06542952364475427,0.018667867990770408,-0.22406841997203494],[0.0880064413193916,1.0,-0.19074103020066285,-0.012729045809463367,0.03155697075815429,0.03818200273242718,-0.04378554973240566,0.05217360364693803,0.04188161029786256,-0.09476896093314953,-0.10728983823716665,-0.1414139822724653],[-0.08158389977909229,-0.19074103020066285,1.0,-0.009638513675167997,-0.04407955445671152,-0.0705899799632517,0.024463388519574126,-0.016408479546217346,0.059550155833725735,0.07979062873290346,0.0024212351965237004,-0.00934565314298209],[-0.10101238518196966,-0.012729045809463367,-0.009638513675167997,1.0,-0.004850309667580941,-0.012732381675485948,0.09219282828243905,-0.0469753153792132,-0.0895506193058877,-0.15772950433810978,-0.1471734133234141,0.03372550900034768],[0.06009836323291317,0.03155697075815429,-0.04407955445671152,-0.004850309667580941,1.0,0.02444473137627511,0.07217746574435013,-0.011302474995417082,0.1759022820079626,-0.14838596532635928,-0.06731456733133784,0.04172923548352845],[0.09328868460631876,0.03818200273242718,-0.0705899799632517,-0.012732381675485948,0.02444473137627511,1.0,0.04996348119795095,-0.0049345251139907296,0.037109469732183924,-0.10461462935689739,-0.055711368777562775,-0.1964394789312626],[-0.05235436663012704,-0.04378554973240566,0.024463388519574126,0.09219282828243905,0.07217746574435013,0.04996348119795095,1.0,-0.04119807711256375,0.06212461923840678,-0.12512048280918261,0.02823444771434774,0.010513908990174799],[0.15918713328355003,0.05217360364693803,-0.016408479546217346,-0.0469753153792132,-0.011302474995417082,-0.0049345251139907296,-0.04119807711256375,1.0,-0.18909521009117405,0.006969778483151021,-0.027414135447069114,-0.14931541756792913],[-0.045965840839560256,0.04188161029786256,0.059550155833725735,-0.0895506193058877,0.1759022820079626,0.037109469732183924,0.06212461923840678,-0.18909521009117405,1.0,-0.02756612272823605,0.004813194662557512,0.08764000017336739],[0.06542952364475427,-0.09476896093314953,0.07979062873290346,-0.15772950433810978,-0.14838596532635928,-0.10461462935689739,-0.12512048280918261,0.006969778483151021,-0.02756612272823605,1.0,0.4458917119097906,-0.015608220381409205],[0.018667867990770408,-0.10728983823716665,0.0024212351965237004,-0.1471734133234141,-0.06731456733133784,-0.055711368777562775,0.02823444771434774,-0.027414135447069114,0.004813194662557512,0.4458917119097906,1.0,-0.02283894244784745],[-0.22406841997203494,-0.1414139822724653,-0.00934565314298209,0.03372550900034768,0.04172923548352845,-0.1964394789312626,0.010513908990174799,-0.14931541756792913,0.08764000017336739,-0.015608220381409205,-0.02283894244784745,1.0]],\"type\":\"heatmap\",\"xaxis\":\"x\",\"yaxis\":\"y\",\"hovertemplate\":\"x: %{x}<br>y: %{y}<br>color: %{z}<extra></extra>\"}],                        {\"template\":{\"data\":{\"barpolar\":[{\"marker\":{\"line\":{\"color\":\"rgb(237,237,237)\",\"width\":0.5},\"pattern\":{\"fillmode\":\"overlay\",\"size\":10,\"solidity\":0.2}},\"type\":\"barpolar\"}],\"bar\":[{\"error_x\":{\"color\":\"rgb(51,51,51)\"},\"error_y\":{\"color\":\"rgb(51,51,51)\"},\"marker\":{\"line\":{\"color\":\"rgb(237,237,237)\",\"width\":0.5},\"pattern\":{\"fillmode\":\"overlay\",\"size\":10,\"solidity\":0.2}},\"type\":\"bar\"}],\"carpet\":[{\"aaxis\":{\"endlinecolor\":\"rgb(51,51,51)\",\"gridcolor\":\"white\",\"linecolor\":\"white\",\"minorgridcolor\":\"white\",\"startlinecolor\":\"rgb(51,51,51)\"},\"baxis\":{\"endlinecolor\":\"rgb(51,51,51)\",\"gridcolor\":\"white\",\"linecolor\":\"white\",\"minorgridcolor\":\"white\",\"startlinecolor\":\"rgb(51,51,51)\"},\"type\":\"carpet\"}],\"choropleth\":[{\"colorbar\":{\"outlinewidth\":0,\"tickcolor\":\"rgb(237,237,237)\",\"ticklen\":6,\"ticks\":\"inside\"},\"type\":\"choropleth\"}],\"contourcarpet\":[{\"colorbar\":{\"outlinewidth\":0,\"tickcolor\":\"rgb(237,237,237)\",\"ticklen\":6,\"ticks\":\"inside\"},\"type\":\"contourcarpet\"}],\"contour\":[{\"colorbar\":{\"outlinewidth\":0,\"tickcolor\":\"rgb(237,237,237)\",\"ticklen\":6,\"ticks\":\"inside\"},\"colorscale\":[[0,\"rgb(20,44,66)\"],[1,\"rgb(90,179,244)\"]],\"type\":\"contour\"}],\"heatmapgl\":[{\"colorbar\":{\"outlinewidth\":0,\"tickcolor\":\"rgb(237,237,237)\",\"ticklen\":6,\"ticks\":\"inside\"},\"colorscale\":[[0,\"rgb(20,44,66)\"],[1,\"rgb(90,179,244)\"]],\"type\":\"heatmapgl\"}],\"heatmap\":[{\"colorbar\":{\"outlinewidth\":0,\"tickcolor\":\"rgb(237,237,237)\",\"ticklen\":6,\"ticks\":\"inside\"},\"colorscale\":[[0,\"rgb(20,44,66)\"],[1,\"rgb(90,179,244)\"]],\"type\":\"heatmap\"}],\"histogram2dcontour\":[{\"colorbar\":{\"outlinewidth\":0,\"tickcolor\":\"rgb(237,237,237)\",\"ticklen\":6,\"ticks\":\"inside\"},\"colorscale\":[[0,\"rgb(20,44,66)\"],[1,\"rgb(90,179,244)\"]],\"type\":\"histogram2dcontour\"}],\"histogram2d\":[{\"colorbar\":{\"outlinewidth\":0,\"tickcolor\":\"rgb(237,237,237)\",\"ticklen\":6,\"ticks\":\"inside\"},\"colorscale\":[[0,\"rgb(20,44,66)\"],[1,\"rgb(90,179,244)\"]],\"type\":\"histogram2d\"}],\"histogram\":[{\"marker\":{\"pattern\":{\"fillmode\":\"overlay\",\"size\":10,\"solidity\":0.2}},\"type\":\"histogram\"}],\"mesh3d\":[{\"colorbar\":{\"outlinewidth\":0,\"tickcolor\":\"rgb(237,237,237)\",\"ticklen\":6,\"ticks\":\"inside\"},\"type\":\"mesh3d\"}],\"parcoords\":[{\"line\":{\"colorbar\":{\"outlinewidth\":0,\"tickcolor\":\"rgb(237,237,237)\",\"ticklen\":6,\"ticks\":\"inside\"}},\"type\":\"parcoords\"}],\"pie\":[{\"automargin\":true,\"type\":\"pie\"}],\"scatter3d\":[{\"line\":{\"colorbar\":{\"outlinewidth\":0,\"tickcolor\":\"rgb(237,237,237)\",\"ticklen\":6,\"ticks\":\"inside\"}},\"marker\":{\"colorbar\":{\"outlinewidth\":0,\"tickcolor\":\"rgb(237,237,237)\",\"ticklen\":6,\"ticks\":\"inside\"}},\"type\":\"scatter3d\"}],\"scattercarpet\":[{\"marker\":{\"colorbar\":{\"outlinewidth\":0,\"tickcolor\":\"rgb(237,237,237)\",\"ticklen\":6,\"ticks\":\"inside\"}},\"type\":\"scattercarpet\"}],\"scattergeo\":[{\"marker\":{\"colorbar\":{\"outlinewidth\":0,\"tickcolor\":\"rgb(237,237,237)\",\"ticklen\":6,\"ticks\":\"inside\"}},\"type\":\"scattergeo\"}],\"scattergl\":[{\"marker\":{\"colorbar\":{\"outlinewidth\":0,\"tickcolor\":\"rgb(237,237,237)\",\"ticklen\":6,\"ticks\":\"inside\"}},\"type\":\"scattergl\"}],\"scattermapbox\":[{\"marker\":{\"colorbar\":{\"outlinewidth\":0,\"tickcolor\":\"rgb(237,237,237)\",\"ticklen\":6,\"ticks\":\"inside\"}},\"type\":\"scattermapbox\"}],\"scatterpolargl\":[{\"marker\":{\"colorbar\":{\"outlinewidth\":0,\"tickcolor\":\"rgb(237,237,237)\",\"ticklen\":6,\"ticks\":\"inside\"}},\"type\":\"scatterpolargl\"}],\"scatterpolar\":[{\"marker\":{\"colorbar\":{\"outlinewidth\":0,\"tickcolor\":\"rgb(237,237,237)\",\"ticklen\":6,\"ticks\":\"inside\"}},\"type\":\"scatterpolar\"}],\"scatter\":[{\"fillpattern\":{\"fillmode\":\"overlay\",\"size\":10,\"solidity\":0.2},\"type\":\"scatter\"}],\"scatterternary\":[{\"marker\":{\"colorbar\":{\"outlinewidth\":0,\"tickcolor\":\"rgb(237,237,237)\",\"ticklen\":6,\"ticks\":\"inside\"}},\"type\":\"scatterternary\"}],\"surface\":[{\"colorbar\":{\"outlinewidth\":0,\"tickcolor\":\"rgb(237,237,237)\",\"ticklen\":6,\"ticks\":\"inside\"},\"colorscale\":[[0,\"rgb(20,44,66)\"],[1,\"rgb(90,179,244)\"]],\"type\":\"surface\"}],\"table\":[{\"cells\":{\"fill\":{\"color\":\"rgb(237,237,237)\"},\"line\":{\"color\":\"white\"}},\"header\":{\"fill\":{\"color\":\"rgb(217,217,217)\"},\"line\":{\"color\":\"white\"}},\"type\":\"table\"}]},\"layout\":{\"annotationdefaults\":{\"arrowhead\":0,\"arrowwidth\":1},\"autotypenumbers\":\"strict\",\"coloraxis\":{\"colorbar\":{\"outlinewidth\":0,\"tickcolor\":\"rgb(237,237,237)\",\"ticklen\":6,\"ticks\":\"inside\"}},\"colorscale\":{\"sequential\":[[0,\"rgb(20,44,66)\"],[1,\"rgb(90,179,244)\"]],\"sequentialminus\":[[0,\"rgb(20,44,66)\"],[1,\"rgb(90,179,244)\"]]},\"colorway\":[\"#F8766D\",\"#A3A500\",\"#00BF7D\",\"#00B0F6\",\"#E76BF3\"],\"font\":{\"color\":\"rgb(51,51,51)\"},\"geo\":{\"bgcolor\":\"white\",\"lakecolor\":\"white\",\"landcolor\":\"rgb(237,237,237)\",\"showlakes\":true,\"showland\":true,\"subunitcolor\":\"white\"},\"hoverlabel\":{\"align\":\"left\"},\"hovermode\":\"closest\",\"paper_bgcolor\":\"white\",\"plot_bgcolor\":\"rgb(237,237,237)\",\"polar\":{\"angularaxis\":{\"gridcolor\":\"white\",\"linecolor\":\"white\",\"showgrid\":true,\"tickcolor\":\"rgb(51,51,51)\",\"ticks\":\"outside\"},\"bgcolor\":\"rgb(237,237,237)\",\"radialaxis\":{\"gridcolor\":\"white\",\"linecolor\":\"white\",\"showgrid\":true,\"tickcolor\":\"rgb(51,51,51)\",\"ticks\":\"outside\"}},\"scene\":{\"xaxis\":{\"backgroundcolor\":\"rgb(237,237,237)\",\"gridcolor\":\"white\",\"gridwidth\":2,\"linecolor\":\"white\",\"showbackground\":true,\"showgrid\":true,\"tickcolor\":\"rgb(51,51,51)\",\"ticks\":\"outside\",\"zerolinecolor\":\"white\"},\"yaxis\":{\"backgroundcolor\":\"rgb(237,237,237)\",\"gridcolor\":\"white\",\"gridwidth\":2,\"linecolor\":\"white\",\"showbackground\":true,\"showgrid\":true,\"tickcolor\":\"rgb(51,51,51)\",\"ticks\":\"outside\",\"zerolinecolor\":\"white\"},\"zaxis\":{\"backgroundcolor\":\"rgb(237,237,237)\",\"gridcolor\":\"white\",\"gridwidth\":2,\"linecolor\":\"white\",\"showbackground\":true,\"showgrid\":true,\"tickcolor\":\"rgb(51,51,51)\",\"ticks\":\"outside\",\"zerolinecolor\":\"white\"}},\"shapedefaults\":{\"fillcolor\":\"black\",\"line\":{\"width\":0},\"opacity\":0.3},\"ternary\":{\"aaxis\":{\"gridcolor\":\"white\",\"linecolor\":\"white\",\"showgrid\":true,\"tickcolor\":\"rgb(51,51,51)\",\"ticks\":\"outside\"},\"baxis\":{\"gridcolor\":\"white\",\"linecolor\":\"white\",\"showgrid\":true,\"tickcolor\":\"rgb(51,51,51)\",\"ticks\":\"outside\"},\"bgcolor\":\"rgb(237,237,237)\",\"caxis\":{\"gridcolor\":\"white\",\"linecolor\":\"white\",\"showgrid\":true,\"tickcolor\":\"rgb(51,51,51)\",\"ticks\":\"outside\"}},\"xaxis\":{\"automargin\":true,\"gridcolor\":\"white\",\"linecolor\":\"white\",\"showgrid\":true,\"tickcolor\":\"rgb(51,51,51)\",\"ticks\":\"outside\",\"title\":{\"standoff\":15},\"zerolinecolor\":\"white\"},\"yaxis\":{\"automargin\":true,\"gridcolor\":\"white\",\"linecolor\":\"white\",\"showgrid\":true,\"tickcolor\":\"rgb(51,51,51)\",\"ticks\":\"outside\",\"title\":{\"standoff\":15},\"zerolinecolor\":\"white\"}}},\"xaxis\":{\"anchor\":\"y\",\"domain\":[0.0,1.0],\"scaleanchor\":\"y\",\"constrain\":\"domain\"},\"yaxis\":{\"anchor\":\"x\",\"domain\":[0.0,1.0],\"autorange\":\"reversed\",\"constrain\":\"domain\"},\"coloraxis\":{\"colorscale\":[[0.0,\"#C25E62\"],[0.25,\"#A44349\"],[0.5,\"#862832\"],[0.75,\"#68081C\"],[1.0,\"#4C0000\"]],\"colorbar\":{\"len\":0.7,\"x\":1.1}},\"margin\":{\"t\":60},\"height\":700,\"width\":700,\"font\":{\"family\":\"monospace\"},\"title\":{\"font\":{\"color\":\"#636363\",\"size\":24},\"text\":\"Mapa de calor de la correlación\",\"x\":0.53,\"y\":0.85}},                        {\"responsive\": true}                    ).then(function(){\n",
       "                            \n",
       "var gd = document.getElementById('2a50b86d-7a9f-4d0f-9736-2e73fee6172e');\n",
       "var x = new MutationObserver(function (mutations, observer) {{\n",
       "        var display = window.getComputedStyle(gd).display;\n",
       "        if (!display || display === 'none') {{\n",
       "            console.log([gd, 'removed!']);\n",
       "            Plotly.purge(gd);\n",
       "            observer.disconnect();\n",
       "        }}\n",
       "}});\n",
       "\n",
       "// Listen for the removal of the full notebook cells\n",
       "var notebookContainer = gd.closest('#notebook-container');\n",
       "if (notebookContainer) {{\n",
       "    x.observe(notebookContainer, {childList: true});\n",
       "}}\n",
       "\n",
       "// Listen for the clearing of the current output cell\n",
       "var outputEl = gd.closest('.output');\n",
       "if (outputEl) {{\n",
       "    x.observe(outputEl, {childList: true});\n",
       "}}\n",
       "\n",
       "                        })                };                });            </script>        </div>"
      ]
     },
     "metadata": {},
     "output_type": "display_data"
    }
   ],
   "source": [
    "k = df.drop('DEATH_EVENT', axis=1).corr()\n",
    "\n",
    "fig = px.imshow(k,height=700,width=700,color_continuous_scale=colors_red[::-1],template='ggplot2')\n",
    "\n",
    "\n",
    "fig.update_layout(font_family='monospace',\n",
    "                  title=dict(text='Mapa de calor de la correlación',\n",
    "                             x=0.53,\n",
    "                             y=0.85,\n",
    "                             font=dict(color=colors_dark[2],size=24)),\n",
    "                  coloraxis_colorbar=dict(len=0.7,x=1.1)\n",
    "                 )\n",
    "fig.show()"
   ]
  },
  {
   "cell_type": "markdown",
   "id": "f81a1751",
   "metadata": {
    "papermill": {
     "duration": 0.007942,
     "end_time": "2022-10-28T12:12:21.906236",
     "exception": false,
     "start_time": "2022-10-28T12:12:21.898294",
     "status": "completed"
    },
    "tags": []
   },
   "source": [
    "### Modelsss"
   ]
  },
  {
   "cell_type": "code",
   "execution_count": 16,
   "id": "09253aaa",
   "metadata": {
    "execution": {
     "iopub.execute_input": "2022-10-28T12:12:21.925306Z",
     "iopub.status.busy": "2022-10-28T12:12:21.924516Z",
     "iopub.status.idle": "2022-10-28T12:12:21.932364Z",
     "shell.execute_reply": "2022-10-28T12:12:21.931273Z"
    },
    "papermill": {
     "duration": 0.019889,
     "end_time": "2022-10-28T12:12:21.934831",
     "exception": false,
     "start_time": "2022-10-28T12:12:21.914942",
     "status": "completed"
    },
    "tags": []
   },
   "outputs": [],
   "source": [
    "def wrapper(X,y,model,size=0.2,seed=27):\n",
    "    \"\"\"A partir de unas variables descriptoras(X) y su variable objetivo(y) se entrena un modelo de clasificación por default,\n",
    "    partiendo los datos originales en sus respectivos conjuntos de entrenamiento y prueba, imprime una matriz de confusión,\n",
    "    imprime un puntaje(score) basado en accuracy e imprime un reporte con métricas para evaluar la clasificación. Además\n",
    "    devuelve el modelo final.\n",
    "\n",
    "    Args:\n",
    "        X (Dataframe or Series): Conjunto de variables descriptoras de la variable objetivo\n",
    "        y (Dataframe or Series): Variable objetivo a clasificar\n",
    "        model (object): objeto que almacene un modelo predictivo\n",
    "        size (float, optional): Tamaño en que vamos a partir del DF. Defaults to 0.2.\n",
    "        seed (int, optional): Semilla para configurar la aleatoreidad. Defaults to 27.\n",
    "\n",
    "    Returns:\n",
    "        object: Retorna el modelo con todos sus parámetros\n",
    "    \"\"\"\n",
    "    X_train, X_test, y_train, y_test = train_test_split(X, y, train_size=0.8, test_size=size, random_state=seed)\n",
    "    model.fit(X_train, y_train)\n",
    "    preds = model.predict(X_test)\n",
    "    cm = confusion_matrix(y_test, preds)\n",
    "    sns.heatmap(cm, annot=True, fmt='g')\n",
    "    print(model.score(X_test,y_test),'\\n'+'-'*50+'\\n',classification_report(y_test, preds))\n",
    "    return model"
   ]
  }
 ],
 "metadata": {
  "kernelspec": {
   "display_name": "Python 3",
   "language": "python",
   "name": "python3"
  },
  "language_info": {
   "codemirror_mode": {
    "name": "ipython",
    "version": 3
   },
   "file_extension": ".py",
   "mimetype": "text/x-python",
   "name": "python",
   "nbconvert_exporter": "python",
   "pygments_lexer": "ipython3",
   "version": "3.7.12"
  },
  "papermill": {
   "default_parameters": {},
   "duration": 14.318281,
   "end_time": "2022-10-28T12:12:22.765507",
   "environment_variables": {},
   "exception": null,
   "input_path": "__notebook__.ipynb",
   "output_path": "__notebook__.ipynb",
   "parameters": {},
   "start_time": "2022-10-28T12:12:08.447226",
   "version": "2.3.4"
  }
 },
 "nbformat": 4,
 "nbformat_minor": 5
}
